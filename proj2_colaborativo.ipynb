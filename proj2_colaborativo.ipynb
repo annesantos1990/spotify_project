{
  "nbformat": 4,
  "nbformat_minor": 0,
  "metadata": {
    "colab": {
      "provenance": [],
      "collapsed_sections": [
        "B9-EmtsXArJy",
        "g4Sz-05CpHuk",
        "T0xVwnQVeZBF",
        "O2Bje1WZDtaE",
        "yE2eQ7S3GM6B",
        "e6G8N_XwJ07f",
        "2G14Me5WMs1K",
        "EZir5etRZfa7"
      ],
      "toc_visible": true,
      "include_colab_link": true
    },
    "kernelspec": {
      "name": "python3",
      "display_name": "Python 3"
    },
    "language_info": {
      "name": "python"
    }
  },
  "cells": [
    {
      "cell_type": "markdown",
      "metadata": {
        "id": "view-in-github",
        "colab_type": "text"
      },
      "source": [
        "<a href=\"https://colab.research.google.com/github/annesantos1990/spotify_project/blob/main/proj2_colaborativo.ipynb\" target=\"_parent\"><img src=\"https://colab.research.google.com/assets/colab-badge.svg\" alt=\"Open In Colab\"/></a>"
      ]
    },
    {
      "cell_type": "markdown",
      "source": [
        "✅ Confirmado\n",
        "⭐ Analisar\n",
        "❌ Refutado"
      ],
      "metadata": {
        "id": "ZNA_ea1t6Ipy"
      }
    },
    {
      "cell_type": "markdown",
      "source": [
        "# **Importando a tabela do google drive**"
      ],
      "metadata": {
        "id": "7MWxa7Dx8-rn"
      }
    },
    {
      "cell_type": "code",
      "execution_count": null,
      "metadata": {
        "id": "SgTZ2eWL74o8"
      },
      "outputs": [],
      "source": [
        "import numpy as np\n",
        "import pandas as pd\n",
        "from scipy import stats\n",
        "from scipy.stats import mannwhitneyu, ttest_ind\n",
        "from scipy.stats import pearsonr\n",
        "from scipy.stats import shapiro, ttest_ind, mannwhitneyu\n",
        "import seaborn as sns\n",
        "from sklearn.model_selection import train_test_split\n",
        "from sklearn.linear_model import LinearRegression\n",
        "import plotly.express as px\n",
        "from plotly.subplots import make_subplots\n",
        "import plotly.graph_objects as go\n",
        "import matplotlib.pyplot as plt"
      ]
    },
    {
      "cell_type": "code",
      "source": [
        "joined_table_quartiles = pd.read_csv(\"https://docs.google.com/spreadsheets/d/1fkif74qIFmYVS-VjrNd5Vnl-h3iczHxDVOPds5iJn84/export?format=csv\")"
      ],
      "metadata": {
        "id": "ai3m9EPr9HE_"
      },
      "execution_count": null,
      "outputs": []
    },
    {
      "cell_type": "markdown",
      "source": [
        "# **Informações sobre a tabela**"
      ],
      "metadata": {
        "id": "W51ocgiq-h8Q"
      }
    },
    {
      "cell_type": "code",
      "source": [
        "joined_table_quartiles.head()"
      ],
      "metadata": {
        "colab": {
          "base_uri": "https://localhost:8080/",
          "height": 290
        },
        "id": "igErHljQ9WfX",
        "outputId": "bde3319a-0a74-40f8-bfe4-91c82feeb0be"
      },
      "execution_count": null,
      "outputs": [
        {
          "output_type": "execute_result",
          "data": {
            "text/plain": [
              "   track_id     track_name artist_s__name  artist_count release_date  \\\n",
              "0   8292846   HEY, MICKEY!      BABY TATE             1   27/09/2016   \n",
              "1   3108040     STILL LIFE        BIGBANG             1   05/04/2022   \n",
              "2   4618597      FOR YOUTH            BTS             1   10/06/2022   \n",
              "3   8715137  MISERABLE MAN  DAVID KUSHNER             1   07/01/2022   \n",
              "4   4671002     BOYFRIENDS   HARRY STYLES             1   20/05/2022   \n",
              "\n",
              "   in_spotify_playlists  in_spotify_charts  in_apple_playlists  \\\n",
              "0                   482                  0                   9   \n",
              "1                   181                  0                  16   \n",
              "2                   327                  0                   5   \n",
              "3                   788                  0                  13   \n",
              "4                  1517                  0                  26   \n",
              "\n",
              "   in_apple_charts  in_deezer_playlists  ...  liveness_classification  \\\n",
              "0                1                   12  ...                    Baixo   \n",
              "1               14                    7  ...                    Baixo   \n",
              "2               40                   12  ...                     Alto   \n",
              "3                0                   32  ...                     Alto   \n",
              "4                2                   30  ...                    Baixo   \n",
              "\n",
              "   speechiness_classification  spotify_playlists_classification  \\\n",
              "0                       Baixo                             Baixo   \n",
              "1                       Baixo                             Baixo   \n",
              "2                       Baixo                             Baixo   \n",
              "3                       Baixo                             Baixo   \n",
              "4                       Baixo                             Baixo   \n",
              "\n",
              "   spotify_charts_classification  apple_playlists_classification  \\\n",
              "0                          Baixo                           Baixo   \n",
              "1                          Baixo                           Baixo   \n",
              "2                          Baixo                           Baixo   \n",
              "3                          Baixo                           Baixo   \n",
              "4                          Baixo                           Baixo   \n",
              "\n",
              "   apple_charts_classification  deezer_playlists_classification  \\\n",
              "0                        Baixo                            Baixo   \n",
              "1                        Baixo                            Baixo   \n",
              "2                        Baixo                            Baixo   \n",
              "3                        Baixo                            Baixo   \n",
              "4                        Baixo                            Baixo   \n",
              "\n",
              "   deezer_charts_classification  shazam_charts_classification  \\\n",
              "0                          Alto                         Baixo   \n",
              "1                         Baixo                         Baixo   \n",
              "2                         Baixo                         Baixo   \n",
              "3                         Baixo                         Baixo   \n",
              "4                         Baixo                         Baixo   \n",
              "\n",
              "   total_playlists_classification  \n",
              "0                           Baixo  \n",
              "1                           Baixo  \n",
              "2                           Baixo  \n",
              "3                           Baixo  \n",
              "4                           Baixo  \n",
              "\n",
              "[5 rows x 41 columns]"
            ],
            "text/html": [
              "\n",
              "  <div id=\"df-e31d431f-8429-4a65-a951-6b5b3ed81ae6\" class=\"colab-df-container\">\n",
              "    <div>\n",
              "<style scoped>\n",
              "    .dataframe tbody tr th:only-of-type {\n",
              "        vertical-align: middle;\n",
              "    }\n",
              "\n",
              "    .dataframe tbody tr th {\n",
              "        vertical-align: top;\n",
              "    }\n",
              "\n",
              "    .dataframe thead th {\n",
              "        text-align: right;\n",
              "    }\n",
              "</style>\n",
              "<table border=\"1\" class=\"dataframe\">\n",
              "  <thead>\n",
              "    <tr style=\"text-align: right;\">\n",
              "      <th></th>\n",
              "      <th>track_id</th>\n",
              "      <th>track_name</th>\n",
              "      <th>artist_s__name</th>\n",
              "      <th>artist_count</th>\n",
              "      <th>release_date</th>\n",
              "      <th>in_spotify_playlists</th>\n",
              "      <th>in_spotify_charts</th>\n",
              "      <th>in_apple_playlists</th>\n",
              "      <th>in_apple_charts</th>\n",
              "      <th>in_deezer_playlists</th>\n",
              "      <th>...</th>\n",
              "      <th>liveness_classification</th>\n",
              "      <th>speechiness_classification</th>\n",
              "      <th>spotify_playlists_classification</th>\n",
              "      <th>spotify_charts_classification</th>\n",
              "      <th>apple_playlists_classification</th>\n",
              "      <th>apple_charts_classification</th>\n",
              "      <th>deezer_playlists_classification</th>\n",
              "      <th>deezer_charts_classification</th>\n",
              "      <th>shazam_charts_classification</th>\n",
              "      <th>total_playlists_classification</th>\n",
              "    </tr>\n",
              "  </thead>\n",
              "  <tbody>\n",
              "    <tr>\n",
              "      <th>0</th>\n",
              "      <td>8292846</td>\n",
              "      <td>HEY, MICKEY!</td>\n",
              "      <td>BABY TATE</td>\n",
              "      <td>1</td>\n",
              "      <td>27/09/2016</td>\n",
              "      <td>482</td>\n",
              "      <td>0</td>\n",
              "      <td>9</td>\n",
              "      <td>1</td>\n",
              "      <td>12</td>\n",
              "      <td>...</td>\n",
              "      <td>Baixo</td>\n",
              "      <td>Baixo</td>\n",
              "      <td>Baixo</td>\n",
              "      <td>Baixo</td>\n",
              "      <td>Baixo</td>\n",
              "      <td>Baixo</td>\n",
              "      <td>Baixo</td>\n",
              "      <td>Alto</td>\n",
              "      <td>Baixo</td>\n",
              "      <td>Baixo</td>\n",
              "    </tr>\n",
              "    <tr>\n",
              "      <th>1</th>\n",
              "      <td>3108040</td>\n",
              "      <td>STILL LIFE</td>\n",
              "      <td>BIGBANG</td>\n",
              "      <td>1</td>\n",
              "      <td>05/04/2022</td>\n",
              "      <td>181</td>\n",
              "      <td>0</td>\n",
              "      <td>16</td>\n",
              "      <td>14</td>\n",
              "      <td>7</td>\n",
              "      <td>...</td>\n",
              "      <td>Baixo</td>\n",
              "      <td>Baixo</td>\n",
              "      <td>Baixo</td>\n",
              "      <td>Baixo</td>\n",
              "      <td>Baixo</td>\n",
              "      <td>Baixo</td>\n",
              "      <td>Baixo</td>\n",
              "      <td>Baixo</td>\n",
              "      <td>Baixo</td>\n",
              "      <td>Baixo</td>\n",
              "    </tr>\n",
              "    <tr>\n",
              "      <th>2</th>\n",
              "      <td>4618597</td>\n",
              "      <td>FOR YOUTH</td>\n",
              "      <td>BTS</td>\n",
              "      <td>1</td>\n",
              "      <td>10/06/2022</td>\n",
              "      <td>327</td>\n",
              "      <td>0</td>\n",
              "      <td>5</td>\n",
              "      <td>40</td>\n",
              "      <td>12</td>\n",
              "      <td>...</td>\n",
              "      <td>Alto</td>\n",
              "      <td>Baixo</td>\n",
              "      <td>Baixo</td>\n",
              "      <td>Baixo</td>\n",
              "      <td>Baixo</td>\n",
              "      <td>Baixo</td>\n",
              "      <td>Baixo</td>\n",
              "      <td>Baixo</td>\n",
              "      <td>Baixo</td>\n",
              "      <td>Baixo</td>\n",
              "    </tr>\n",
              "    <tr>\n",
              "      <th>3</th>\n",
              "      <td>8715137</td>\n",
              "      <td>MISERABLE MAN</td>\n",
              "      <td>DAVID KUSHNER</td>\n",
              "      <td>1</td>\n",
              "      <td>07/01/2022</td>\n",
              "      <td>788</td>\n",
              "      <td>0</td>\n",
              "      <td>13</td>\n",
              "      <td>0</td>\n",
              "      <td>32</td>\n",
              "      <td>...</td>\n",
              "      <td>Alto</td>\n",
              "      <td>Baixo</td>\n",
              "      <td>Baixo</td>\n",
              "      <td>Baixo</td>\n",
              "      <td>Baixo</td>\n",
              "      <td>Baixo</td>\n",
              "      <td>Baixo</td>\n",
              "      <td>Baixo</td>\n",
              "      <td>Baixo</td>\n",
              "      <td>Baixo</td>\n",
              "    </tr>\n",
              "    <tr>\n",
              "      <th>4</th>\n",
              "      <td>4671002</td>\n",
              "      <td>BOYFRIENDS</td>\n",
              "      <td>HARRY STYLES</td>\n",
              "      <td>1</td>\n",
              "      <td>20/05/2022</td>\n",
              "      <td>1517</td>\n",
              "      <td>0</td>\n",
              "      <td>26</td>\n",
              "      <td>2</td>\n",
              "      <td>30</td>\n",
              "      <td>...</td>\n",
              "      <td>Baixo</td>\n",
              "      <td>Baixo</td>\n",
              "      <td>Baixo</td>\n",
              "      <td>Baixo</td>\n",
              "      <td>Baixo</td>\n",
              "      <td>Baixo</td>\n",
              "      <td>Baixo</td>\n",
              "      <td>Baixo</td>\n",
              "      <td>Baixo</td>\n",
              "      <td>Baixo</td>\n",
              "    </tr>\n",
              "  </tbody>\n",
              "</table>\n",
              "<p>5 rows × 41 columns</p>\n",
              "</div>\n",
              "    <div class=\"colab-df-buttons\">\n",
              "\n",
              "  <div class=\"colab-df-container\">\n",
              "    <button class=\"colab-df-convert\" onclick=\"convertToInteractive('df-e31d431f-8429-4a65-a951-6b5b3ed81ae6')\"\n",
              "            title=\"Convert this dataframe to an interactive table.\"\n",
              "            style=\"display:none;\">\n",
              "\n",
              "  <svg xmlns=\"http://www.w3.org/2000/svg\" height=\"24px\" viewBox=\"0 -960 960 960\">\n",
              "    <path d=\"M120-120v-720h720v720H120Zm60-500h600v-160H180v160Zm220 220h160v-160H400v160Zm0 220h160v-160H400v160ZM180-400h160v-160H180v160Zm440 0h160v-160H620v160ZM180-180h160v-160H180v160Zm440 0h160v-160H620v160Z\"/>\n",
              "  </svg>\n",
              "    </button>\n",
              "\n",
              "  <style>\n",
              "    .colab-df-container {\n",
              "      display:flex;\n",
              "      gap: 12px;\n",
              "    }\n",
              "\n",
              "    .colab-df-convert {\n",
              "      background-color: #E8F0FE;\n",
              "      border: none;\n",
              "      border-radius: 50%;\n",
              "      cursor: pointer;\n",
              "      display: none;\n",
              "      fill: #1967D2;\n",
              "      height: 32px;\n",
              "      padding: 0 0 0 0;\n",
              "      width: 32px;\n",
              "    }\n",
              "\n",
              "    .colab-df-convert:hover {\n",
              "      background-color: #E2EBFA;\n",
              "      box-shadow: 0px 1px 2px rgba(60, 64, 67, 0.3), 0px 1px 3px 1px rgba(60, 64, 67, 0.15);\n",
              "      fill: #174EA6;\n",
              "    }\n",
              "\n",
              "    .colab-df-buttons div {\n",
              "      margin-bottom: 4px;\n",
              "    }\n",
              "\n",
              "    [theme=dark] .colab-df-convert {\n",
              "      background-color: #3B4455;\n",
              "      fill: #D2E3FC;\n",
              "    }\n",
              "\n",
              "    [theme=dark] .colab-df-convert:hover {\n",
              "      background-color: #434B5C;\n",
              "      box-shadow: 0px 1px 3px 1px rgba(0, 0, 0, 0.15);\n",
              "      filter: drop-shadow(0px 1px 2px rgba(0, 0, 0, 0.3));\n",
              "      fill: #FFFFFF;\n",
              "    }\n",
              "  </style>\n",
              "\n",
              "    <script>\n",
              "      const buttonEl =\n",
              "        document.querySelector('#df-e31d431f-8429-4a65-a951-6b5b3ed81ae6 button.colab-df-convert');\n",
              "      buttonEl.style.display =\n",
              "        google.colab.kernel.accessAllowed ? 'block' : 'none';\n",
              "\n",
              "      async function convertToInteractive(key) {\n",
              "        const element = document.querySelector('#df-e31d431f-8429-4a65-a951-6b5b3ed81ae6');\n",
              "        const dataTable =\n",
              "          await google.colab.kernel.invokeFunction('convertToInteractive',\n",
              "                                                    [key], {});\n",
              "        if (!dataTable) return;\n",
              "\n",
              "        const docLinkHtml = 'Like what you see? Visit the ' +\n",
              "          '<a target=\"_blank\" href=https://colab.research.google.com/notebooks/data_table.ipynb>data table notebook</a>'\n",
              "          + ' to learn more about interactive tables.';\n",
              "        element.innerHTML = '';\n",
              "        dataTable['output_type'] = 'display_data';\n",
              "        await google.colab.output.renderOutput(dataTable, element);\n",
              "        const docLink = document.createElement('div');\n",
              "        docLink.innerHTML = docLinkHtml;\n",
              "        element.appendChild(docLink);\n",
              "      }\n",
              "    </script>\n",
              "  </div>\n",
              "\n",
              "\n",
              "<div id=\"df-ff19ff5f-5892-470a-993a-1d82041c9e96\">\n",
              "  <button class=\"colab-df-quickchart\" onclick=\"quickchart('df-ff19ff5f-5892-470a-993a-1d82041c9e96')\"\n",
              "            title=\"Suggest charts\"\n",
              "            style=\"display:none;\">\n",
              "\n",
              "<svg xmlns=\"http://www.w3.org/2000/svg\" height=\"24px\"viewBox=\"0 0 24 24\"\n",
              "     width=\"24px\">\n",
              "    <g>\n",
              "        <path d=\"M19 3H5c-1.1 0-2 .9-2 2v14c0 1.1.9 2 2 2h14c1.1 0 2-.9 2-2V5c0-1.1-.9-2-2-2zM9 17H7v-7h2v7zm4 0h-2V7h2v10zm4 0h-2v-4h2v4z\"/>\n",
              "    </g>\n",
              "</svg>\n",
              "  </button>\n",
              "\n",
              "<style>\n",
              "  .colab-df-quickchart {\n",
              "      --bg-color: #E8F0FE;\n",
              "      --fill-color: #1967D2;\n",
              "      --hover-bg-color: #E2EBFA;\n",
              "      --hover-fill-color: #174EA6;\n",
              "      --disabled-fill-color: #AAA;\n",
              "      --disabled-bg-color: #DDD;\n",
              "  }\n",
              "\n",
              "  [theme=dark] .colab-df-quickchart {\n",
              "      --bg-color: #3B4455;\n",
              "      --fill-color: #D2E3FC;\n",
              "      --hover-bg-color: #434B5C;\n",
              "      --hover-fill-color: #FFFFFF;\n",
              "      --disabled-bg-color: #3B4455;\n",
              "      --disabled-fill-color: #666;\n",
              "  }\n",
              "\n",
              "  .colab-df-quickchart {\n",
              "    background-color: var(--bg-color);\n",
              "    border: none;\n",
              "    border-radius: 50%;\n",
              "    cursor: pointer;\n",
              "    display: none;\n",
              "    fill: var(--fill-color);\n",
              "    height: 32px;\n",
              "    padding: 0;\n",
              "    width: 32px;\n",
              "  }\n",
              "\n",
              "  .colab-df-quickchart:hover {\n",
              "    background-color: var(--hover-bg-color);\n",
              "    box-shadow: 0 1px 2px rgba(60, 64, 67, 0.3), 0 1px 3px 1px rgba(60, 64, 67, 0.15);\n",
              "    fill: var(--button-hover-fill-color);\n",
              "  }\n",
              "\n",
              "  .colab-df-quickchart-complete:disabled,\n",
              "  .colab-df-quickchart-complete:disabled:hover {\n",
              "    background-color: var(--disabled-bg-color);\n",
              "    fill: var(--disabled-fill-color);\n",
              "    box-shadow: none;\n",
              "  }\n",
              "\n",
              "  .colab-df-spinner {\n",
              "    border: 2px solid var(--fill-color);\n",
              "    border-color: transparent;\n",
              "    border-bottom-color: var(--fill-color);\n",
              "    animation:\n",
              "      spin 1s steps(1) infinite;\n",
              "  }\n",
              "\n",
              "  @keyframes spin {\n",
              "    0% {\n",
              "      border-color: transparent;\n",
              "      border-bottom-color: var(--fill-color);\n",
              "      border-left-color: var(--fill-color);\n",
              "    }\n",
              "    20% {\n",
              "      border-color: transparent;\n",
              "      border-left-color: var(--fill-color);\n",
              "      border-top-color: var(--fill-color);\n",
              "    }\n",
              "    30% {\n",
              "      border-color: transparent;\n",
              "      border-left-color: var(--fill-color);\n",
              "      border-top-color: var(--fill-color);\n",
              "      border-right-color: var(--fill-color);\n",
              "    }\n",
              "    40% {\n",
              "      border-color: transparent;\n",
              "      border-right-color: var(--fill-color);\n",
              "      border-top-color: var(--fill-color);\n",
              "    }\n",
              "    60% {\n",
              "      border-color: transparent;\n",
              "      border-right-color: var(--fill-color);\n",
              "    }\n",
              "    80% {\n",
              "      border-color: transparent;\n",
              "      border-right-color: var(--fill-color);\n",
              "      border-bottom-color: var(--fill-color);\n",
              "    }\n",
              "    90% {\n",
              "      border-color: transparent;\n",
              "      border-bottom-color: var(--fill-color);\n",
              "    }\n",
              "  }\n",
              "</style>\n",
              "\n",
              "  <script>\n",
              "    async function quickchart(key) {\n",
              "      const quickchartButtonEl =\n",
              "        document.querySelector('#' + key + ' button');\n",
              "      quickchartButtonEl.disabled = true;  // To prevent multiple clicks.\n",
              "      quickchartButtonEl.classList.add('colab-df-spinner');\n",
              "      try {\n",
              "        const charts = await google.colab.kernel.invokeFunction(\n",
              "            'suggestCharts', [key], {});\n",
              "      } catch (error) {\n",
              "        console.error('Error during call to suggestCharts:', error);\n",
              "      }\n",
              "      quickchartButtonEl.classList.remove('colab-df-spinner');\n",
              "      quickchartButtonEl.classList.add('colab-df-quickchart-complete');\n",
              "    }\n",
              "    (() => {\n",
              "      let quickchartButtonEl =\n",
              "        document.querySelector('#df-ff19ff5f-5892-470a-993a-1d82041c9e96 button');\n",
              "      quickchartButtonEl.style.display =\n",
              "        google.colab.kernel.accessAllowed ? 'block' : 'none';\n",
              "    })();\n",
              "  </script>\n",
              "</div>\n",
              "\n",
              "    </div>\n",
              "  </div>\n"
            ],
            "application/vnd.google.colaboratory.intrinsic+json": {
              "type": "dataframe",
              "variable_name": "joined_table_quartiles"
            }
          },
          "metadata": {},
          "execution_count": 3
        }
      ]
    },
    {
      "cell_type": "code",
      "source": [
        "joined_table_quartiles.info()"
      ],
      "metadata": {
        "colab": {
          "base_uri": "https://localhost:8080/"
        },
        "id": "erN8dkcQ9Z4e",
        "outputId": "e981616e-39d5-4ea8-b73a-f0d0ca3336f6"
      },
      "execution_count": null,
      "outputs": [
        {
          "output_type": "stream",
          "name": "stdout",
          "text": [
            "<class 'pandas.core.frame.DataFrame'>\n",
            "RangeIndex: 947 entries, 0 to 946\n",
            "Data columns (total 41 columns):\n",
            " #   Column                            Non-Null Count  Dtype \n",
            "---  ------                            --------------  ----- \n",
            " 0   track_id                          947 non-null    int64 \n",
            " 1   track_name                        945 non-null    object\n",
            " 2   artist_s__name                    947 non-null    object\n",
            " 3   artist_count                      947 non-null    int64 \n",
            " 4   release_date                      947 non-null    object\n",
            " 5   in_spotify_playlists              947 non-null    int64 \n",
            " 6   in_spotify_charts                 947 non-null    int64 \n",
            " 7   in_apple_playlists                947 non-null    int64 \n",
            " 8   in_apple_charts                   947 non-null    int64 \n",
            " 9   in_deezer_playlists               947 non-null    int64 \n",
            " 10  in_deezer_charts                  947 non-null    int64 \n",
            " 11  in_shazam_charts_moda             947 non-null    int64 \n",
            " 12  total_playlists                   947 non-null    int64 \n",
            " 13  streams_int                       947 non-null    int64 \n",
            " 14  bpm                               947 non-null    int64 \n",
            " 15  danceability__                    947 non-null    int64 \n",
            " 16  valence__                         947 non-null    int64 \n",
            " 17  energy__                          947 non-null    int64 \n",
            " 18  acousticness__                    947 non-null    int64 \n",
            " 19  instrumentalness__                947 non-null    int64 \n",
            " 20  liveness__                        947 non-null    int64 \n",
            " 21  speechiness__                     947 non-null    int64 \n",
            " 22  mode                              947 non-null    object\n",
            " 23  quartiles_streams                 947 non-null    int64 \n",
            " 24  streams_classification            947 non-null    object\n",
            " 25  bpm_classification                947 non-null    object\n",
            " 26  danceability_classification       947 non-null    object\n",
            " 27  valence_classification            947 non-null    object\n",
            " 28  energy_classification             947 non-null    object\n",
            " 29  acousticness_classification       947 non-null    object\n",
            " 30  instrumentalness_classification   947 non-null    object\n",
            " 31  liveness_classification           947 non-null    object\n",
            " 32  speechiness_classification        947 non-null    object\n",
            " 33  spotify_playlists_classification  947 non-null    object\n",
            " 34  spotify_charts_classification     947 non-null    object\n",
            " 35  apple_playlists_classification    947 non-null    object\n",
            " 36  apple_charts_classification       947 non-null    object\n",
            " 37  deezer_playlists_classification   947 non-null    object\n",
            " 38  deezer_charts_classification      947 non-null    object\n",
            " 39  shazam_charts_classification      947 non-null    object\n",
            " 40  total_playlists_classification    947 non-null    object\n",
            "dtypes: int64(20), object(21)\n",
            "memory usage: 303.5+ KB\n"
          ]
        }
      ]
    },
    {
      "cell_type": "markdown",
      "source": [
        "# **Distribuição dos dados (streams)**"
      ],
      "metadata": {
        "id": "luTcgRlk-9d8"
      }
    },
    {
      "cell_type": "markdown",
      "source": [
        "↪ Como os dados da coluna streams_int estão distribuídos?"
      ],
      "metadata": {
        "id": "VWmGbwUl2Iol"
      }
    },
    {
      "cell_type": "code",
      "source": [
        "# Coluna a ser testada:\n",
        "coluna_streams = joined_table_quartiles['streams_int']\n",
        "\n",
        "# Teste de Shapiro-Wilk:\n",
        "stat, p_value = stats.shapiro(coluna_streams)\n",
        "print(f\"Estatística do teste: {stat:.2f}\")\n",
        "print(f\"Valor p: {p_value:.5f}\")\n",
        "\n",
        "if p_value > 0.05:\n",
        "    print(\"Interpretação: Os dados seguem uma distribuição normal (não rejeita H0).\")\n",
        "else:\n",
        "    print(\"Interpretação: Os dados não seguem uma distribuição normal (rejeita H0).\")"
      ],
      "metadata": {
        "colab": {
          "base_uri": "https://localhost:8080/"
        },
        "id": "QJ6fTpkP_X5Q",
        "outputId": "8f225a74-b2ed-40e5-aae2-fd47af7b8a89"
      },
      "execution_count": null,
      "outputs": [
        {
          "output_type": "stream",
          "name": "stdout",
          "text": [
            "Estatística do teste: 0.76\n",
            "Valor p: 0.00000\n",
            "Interpretação: Os dados não seguem uma distribuição normal (rejeita H0).\n"
          ]
        }
      ]
    },
    {
      "cell_type": "code",
      "source": [
        "# Histograma da distribuição dos streams:\n",
        "sns.histplot(data=joined_table_quartiles,x='streams_int')\n",
        "plt.title(\"Histograma da coluna de streams\")\n",
        "plt.xlabel(\"streams\")"
      ],
      "metadata": {
        "colab": {
          "base_uri": "https://localhost:8080/",
          "height": 489
        },
        "id": "_f_ywkRrAJf5",
        "outputId": "e8abf2bd-d4d8-4a6e-ef97-52e4223c6a95"
      },
      "execution_count": null,
      "outputs": [
        {
          "output_type": "execute_result",
          "data": {
            "text/plain": [
              "Text(0.5, 0, 'streams')"
            ]
          },
          "metadata": {},
          "execution_count": 6
        },
        {
          "output_type": "display_data",
          "data": {
            "text/plain": [
              "<Figure size 640x480 with 1 Axes>"
            ],
            "image/png": "[encoded data removed]"
          },
          "metadata": {}
        }
      ]
    },
    {
      "cell_type": "markdown",
      "source": [
        "# **Teste de hipóteses (bpm)**"
      ],
      "metadata": {
        "id": "B9-EmtsXArJy"
      }
    },
    {
      "cell_type": "markdown",
      "source": [
        "↪ Músicas com BPM (Batidas Por Minuto) mais altos fazem mais sucesso em termos de número de streams no Spotify? ❌"
      ],
      "metadata": {
        "id": "UZLRHJLr2etz"
      }
    },
    {
      "cell_type": "code",
      "source": [
        "# Streams onde o bpm é alto:\n",
        "streams_bpm_alto = joined_table_quartiles[[\"streams_int\",\"bpm_classification\"]].query(\"bpm_classification == 'Alto'\")[\"streams_int\"]\n",
        "streams_bpm_alto"
      ],
      "metadata": {
        "colab": {
          "base_uri": "https://localhost:8080/"
        },
        "id": "lj-edVOLAwcl",
        "outputId": "46fba7e7-8f9b-45ba-ce27-10272a6fcf08"
      },
      "execution_count": null,
      "outputs": [
        {
          "output_type": "execute_result",
          "data": {
            "text/plain": [
              "11       42485571\n",
              "13       91473363\n",
              "18       65362788\n",
              "19       98709329\n",
              "21      121871870\n",
              "          ...    \n",
              "924    2665343922\n",
              "933    2565529693\n",
              "935    1115880852\n",
              "940     775542072\n",
              "942    1953533826\n",
              "Name: streams_int, Length: 236, dtype: int64"
            ]
          },
          "metadata": {},
          "execution_count": 7
        }
      ]
    },
    {
      "cell_type": "code",
      "source": [
        "# Streams onde o bpm é baixo:\n",
        "streams_bpm_baixo = joined_table_quartiles[[\"streams_int\",\"bpm_classification\"]].query(\"bpm_classification == 'Baixo'\")[\"streams_int\"]\n",
        "streams_bpm_baixo"
      ],
      "metadata": {
        "colab": {
          "base_uri": "https://localhost:8080/"
        },
        "id": "d19N3zy0Bg3-",
        "outputId": "13a51334-31b0-4767-c815-41a1be2cadf7"
      },
      "execution_count": null,
      "outputs": [
        {
          "output_type": "execute_result",
          "data": {
            "text/plain": [
              "0       122763672\n",
              "1        53909146\n",
              "2       114546317\n",
              "3       124407432\n",
              "4       137070925\n",
              "          ...    \n",
              "941    1605224506\n",
              "943    1047101291\n",
              "944     843957510\n",
              "945     863756573\n",
              "946    1223481149\n",
              "Name: streams_int, Length: 711, dtype: int64"
            ]
          },
          "metadata": {},
          "execution_count": 8
        }
      ]
    },
    {
      "cell_type": "code",
      "source": [
        "# Separando por grupos de 200:\n",
        "streams_bpm_alto_sample = streams_bpm_alto.sample(200)\n",
        "streams_bpm_baixo_sample = streams_bpm_baixo.sample(200)"
      ],
      "metadata": {
        "id": "Dg-8AotlB6Jx"
      },
      "execution_count": null,
      "outputs": []
    },
    {
      "cell_type": "code",
      "source": [
        "# Teste de Mann-Whitney/U para bpm:\n",
        "stat, p_value = mannwhitneyu(streams_bpm_alto_sample, streams_bpm_baixo_sample)\n",
        "\n",
        "# Resultado:\n",
        "print(f'Estatística U: {stat}')\n",
        "print(f'Valor p: {p_value}')\n",
        "\n",
        "if p_value < 0.05:\n",
        "    print('Interpretação: As amostras são significativamente diferentes (p < 0.05).')\n",
        "else:\n",
        "    print('Interpretação: As amostras não são significativamente diferentes (p >= 0.05).')"
      ],
      "metadata": {
        "colab": {
          "base_uri": "https://localhost:8080/"
        },
        "id": "KNRG_fBOCQKg",
        "outputId": "99477684-a5f1-4b59-8528-ec4f79ce9afa"
      },
      "execution_count": null,
      "outputs": [
        {
          "output_type": "stream",
          "name": "stdout",
          "text": [
            "Estatística U: 21037.0\n",
            "Valor p: 0.36997756643260016\n",
            "Interpretação: As amostras não são significativamente diferentes (p >= 0.05).\n"
          ]
        }
      ]
    },
    {
      "cell_type": "code",
      "source": [
        "# Mediana dos 2 grupos:\n",
        "streams_bpm_baixo_sample.median(),streams_bpm_alto_sample.median()"
      ],
      "metadata": {
        "colab": {
          "base_uri": "https://localhost:8080/"
        },
        "id": "cwFrOgW1CvsY",
        "outputId": "02894c99-05b9-4a51-ce37-d3ef4ee6a8a0"
      },
      "execution_count": null,
      "outputs": [
        {
          "output_type": "execute_result",
          "data": {
            "text/plain": [
              "(266669222.5, 281126134.0)"
            ]
          },
          "metadata": {},
          "execution_count": 11
        }
      ]
    },
    {
      "cell_type": "markdown",
      "source": [
        "➡️ De acordo com o teste de Mann-Whitney U, não há diferença significativa entre as duas amostras que foram comparadas. Isso significa que, não há diferença significativa entre streams com BPM alto e streams com BPM baixo. Por isso, a hipótese de que as músicas com BPM mais alto fazem mais sucesso em termos de número de streams no Spotify foi rejeitada."
      ],
      "metadata": {
        "id": "2WZD50dPeAmM"
      }
    },
    {
      "cell_type": "markdown",
      "source": [
        "# **Teste de hipóteses (mode)**"
      ],
      "metadata": {
        "id": "g4Sz-05CpHuk"
      }
    },
    {
      "cell_type": "markdown",
      "source": [
        "↪ A escala musical influencia no número de streams? ❌"
      ],
      "metadata": {
        "id": "7d8nfaAg3oSd"
      }
    },
    {
      "cell_type": "code",
      "source": [
        "# Streams onde mode é Maior:\n",
        "streams_mode_maior = joined_table_quartiles[[\"streams_int\",\"mode\"]].query(\"mode == 'Major'\")[\"streams_int\"]\n",
        "streams_mode_maior"
      ],
      "metadata": {
        "colab": {
          "base_uri": "https://localhost:8080/"
        },
        "id": "-k7cqg45nisu",
        "outputId": "9f9e543f-7b6f-4a70-b381-40b97ceae7e2"
      },
      "execution_count": null,
      "outputs": [
        {
          "output_type": "execute_result",
          "data": {
            "text/plain": [
              "0       122763672\n",
              "1        53909146\n",
              "2       114546317\n",
              "3       124407432\n",
              "4       137070925\n",
              "          ...    \n",
              "939    2713922350\n",
              "941    1605224506\n",
              "942    1953533826\n",
              "943    1047101291\n",
              "945     863756573\n",
              "Name: streams_int, Length: 545, dtype: int64"
            ]
          },
          "metadata": {},
          "execution_count": 12
        }
      ]
    },
    {
      "cell_type": "code",
      "source": [
        "# Streams onde mode é Menor:\n",
        "streams_mode_menor = joined_table_quartiles[[\"streams_int\",\"mode\"]].query(\"mode == 'Minor'\")[\"streams_int\"]\n",
        "streams_mode_menor"
      ],
      "metadata": {
        "colab": {
          "base_uri": "https://localhost:8080/"
        },
        "id": "keoMDOI5oBa7",
        "outputId": "a2f37bd4-7ba8-4a8f-999b-a458a72c50f5"
      },
      "execution_count": null,
      "outputs": [
        {
          "output_type": "execute_result",
          "data": {
            "text/plain": [
              "5        68216992\n",
              "6        61739839\n",
              "7        37091576\n",
              "11       42485571\n",
              "12      127027715\n",
              "          ...    \n",
              "934    1109433169\n",
              "938     933815613\n",
              "940     775542072\n",
              "944     843957510\n",
              "946    1223481149\n",
              "Name: streams_int, Length: 402, dtype: int64"
            ]
          },
          "metadata": {},
          "execution_count": 13
        }
      ]
    },
    {
      "cell_type": "code",
      "source": [
        "# Separando por grupos de 400:\n",
        "streams_mode_maior_sample = streams_mode_maior.sample(400)\n",
        "streams_mode_menor_sample = streams_mode_menor.sample(400)"
      ],
      "metadata": {
        "id": "Ii2UbUddoOu8"
      },
      "execution_count": null,
      "outputs": []
    },
    {
      "cell_type": "code",
      "source": [
        "# Teste de Mann-Whitney/U para o total de playlists do Deezer:\n",
        "stat, p_value = mannwhitneyu(streams_mode_maior_sample, streams_mode_menor_sample)\n",
        "\n",
        "# Resultado:\n",
        "print(f'Estatística U: {stat}')\n",
        "print(f'Valor p: {p_value}')\n",
        "\n",
        "if p_value < 0.05:\n",
        "    print('Interpretação: As amostras são significativamente diferentes (p < 0.05).')\n",
        "else:\n",
        "    print('Interpretação: As amostras não são significativamente diferentes (p >= 0.05).')"
      ],
      "metadata": {
        "colab": {
          "base_uri": "https://localhost:8080/"
        },
        "id": "8ttoSU8howUd",
        "outputId": "59ef46de-3fc2-460b-cf4c-c837f4ab37d7"
      },
      "execution_count": null,
      "outputs": [
        {
          "output_type": "stream",
          "name": "stdout",
          "text": [
            "Estatística U: 84730.5\n",
            "Valor p: 0.1477971013744222\n",
            "Interpretação: As amostras não são significativamente diferentes (p >= 0.05).\n"
          ]
        }
      ]
    },
    {
      "cell_type": "markdown",
      "source": [
        "➡️ Não há uma diferença significativa entre streams de músicas en escala maior e streams de músicas em escala menor."
      ],
      "metadata": {
        "id": "FQtcZuXqf-If"
      }
    },
    {
      "cell_type": "markdown",
      "source": [
        "# **Correlação (ranking nas diferentes plataformas)**"
      ],
      "metadata": {
        "id": "T0xVwnQVeZBF"
      }
    },
    {
      "cell_type": "markdown",
      "source": [
        "↪ As músicas mais populares no ranking do Spotify também possuem um comportamento semelhante em outras plataformas? ⭐"
      ],
      "metadata": {
        "id": "pjkARG0l2qZG"
      }
    },
    {
      "cell_type": "markdown",
      "source": [
        "**Regressão Linear (Ranking - Spotify)**"
      ],
      "metadata": {
        "id": "GKxPmP_FhSyj"
      }
    },
    {
      "cell_type": "code",
      "source": [
        "#Separando as variáveis X e Y\n",
        "\n",
        "x_spotify_charts = joined_table_quartiles[\"in_spotify_charts\"].values\n",
        "y_spotify_charts = joined_table_quartiles[\"streams_int\"].values"
      ],
      "metadata": {
        "id": "d-cavk6Ohd_j"
      },
      "execution_count": null,
      "outputs": []
    },
    {
      "cell_type": "code",
      "source": [
        "plt.scatter(x_spotify_charts, y_spotify_charts)\n",
        "plt.show()\n",
        "\n",
        "r = pearsonr(x_spotify_charts, y_spotify_charts)\n",
        "print(f'Coeficiente de correlação: {r}')"
      ],
      "metadata": {
        "colab": {
          "base_uri": "https://localhost:8080/",
          "height": 462
        },
        "id": "sHQGh9sThqwo",
        "outputId": "b1cc56e3-6291-4819-b396-d78213e24355"
      },
      "execution_count": null,
      "outputs": [
        {
          "output_type": "display_data",
          "data": {
            "text/plain": [
              "<Figure size 640x480 with 1 Axes>"
            ],
            "image/png": "[encoded data removed]"
          },
          "metadata": {}
        },
        {
          "output_type": "stream",
          "name": "stdout",
          "text": [
            "Coeficiente de correlação: PearsonRResult(statistic=0.24647542481845366, pvalue=1.4275864258816633e-14)\n"
          ]
        }
      ]
    },
    {
      "cell_type": "code",
      "source": [
        "# Separando dados de treino e de teste\n",
        "# utilizamos 70% dos dados para treino e o restante (30%) para teste.\n",
        "x_train_spotify_charts, x_test_spotify_charts, y_train_spotify_charts, y_test_spotify_charts = train_test_split(x_spotify_charts, y_spotify_charts, test_size=0.3)\n",
        "\n",
        "# Precisamos redimensionar os dados para fazer a regressão linear\n",
        "x_train_spotify_charts=x_train_spotify_charts.reshape(-1,1)\n",
        "y_train_spotify_charts=y_train_spotify_charts.reshape(-1,1)\n",
        "x_test_spotify_charts=x_test_spotify_charts.reshape(-1,1)\n",
        "y_test_spotify_charts=y_test_spotify_charts.reshape(-1,1)"
      ],
      "metadata": {
        "id": "yloZcUOkh6No"
      },
      "execution_count": null,
      "outputs": []
    },
    {
      "cell_type": "code",
      "source": [
        "#treinando o modelo\n",
        "reg = LinearRegression()\n",
        "reg.fit(x_train_spotify_charts,y_train_spotify_charts)\n",
        "pred = reg.predict(x_test_spotify_charts)"
      ],
      "metadata": {
        "id": "714dR7dKiSu9"
      },
      "execution_count": null,
      "outputs": []
    },
    {
      "cell_type": "code",
      "source": [
        "plt.scatter(x_spotify_charts, y_spotify_charts, color=\"blue\")\n",
        "plt.plot(x_test_spotify_charts, pred, color=\"red\")\n",
        "plt.title(\"Título do gráfico\")\n",
        "plt.xlabel(\"Título do eixo x\")\n",
        "plt.ylabel(\"Título do eixo y\")"
      ],
      "metadata": {
        "colab": {
          "base_uri": "https://localhost:8080/",
          "height": 489
        },
        "id": "BCybkcftixjg",
        "outputId": "79277738-d120-4a62-8605-23e9b488028e"
      },
      "execution_count": null,
      "outputs": [
        {
          "output_type": "execute_result",
          "data": {
            "text/plain": [
              "Text(0, 0.5, 'Título do eixo y')"
            ]
          },
          "metadata": {},
          "execution_count": 20
        },
        {
          "output_type": "display_data",
          "data": {
            "text/plain": [
              "<Figure size 640x480 with 1 Axes>"
            ],
            "image/png": "[encoded data removed]"
          },
          "metadata": {}
        }
      ]
    },
    {
      "cell_type": "markdown",
      "source": [
        "## **Spotify vs Apple**"
      ],
      "metadata": {
        "id": "hMENhTkvaGYK"
      }
    },
    {
      "cell_type": "code",
      "source": [
        "# Correlação de Spearman (spotify vs apple):\n",
        "\n",
        "correlation_charts_apple = joined_table_quartiles['in_spotify_charts'].corr(joined_table_quartiles['in_apple_charts'], method='spearman')\n",
        "print('Correlação entre ranking do Spotify e o ranking da Apple:', correlation_charts_apple)\n"
      ],
      "metadata": {
        "id": "XfbJLWfMh2F0",
        "colab": {
          "base_uri": "https://localhost:8080/"
        },
        "outputId": "e06d4b21-0707-4cff-9c22-2d07a2a3eb9e"
      },
      "execution_count": null,
      "outputs": [
        {
          "output_type": "stream",
          "name": "stdout",
          "text": [
            "Correlação entre ranking do Spotify e o ranking da Apple: 0.5200762538424258\n"
          ]
        }
      ]
    },
    {
      "cell_type": "markdown",
      "source": [
        "**Regressão Linear (Ranking - Apple)**"
      ],
      "metadata": {
        "id": "2JMbBRDgXTe4"
      }
    },
    {
      "cell_type": "code",
      "source": [
        "#Separando as variáveis X e Y\n",
        "\n",
        "x_apple_charts = joined_table_quartiles[\"in_apple_charts\"].values\n",
        "y_apple_charts = joined_table_quartiles[\"streams_int\"].values"
      ],
      "metadata": {
        "id": "s6c0YtUgXX_v"
      },
      "execution_count": null,
      "outputs": []
    },
    {
      "cell_type": "code",
      "source": [
        "plt.scatter(x_apple_charts, y_apple_charts)\n",
        "plt.show()\n",
        "\n",
        "r = pearsonr(x_apple_charts, y_apple_charts)\n",
        "print(f'Coeficiente de correlação: {r}')"
      ],
      "metadata": {
        "colab": {
          "base_uri": "https://localhost:8080/",
          "height": 462
        },
        "id": "GkyxnCRQb8zS",
        "outputId": "d6710957-cb15-4351-c61c-d39226102d71"
      },
      "execution_count": null,
      "outputs": [
        {
          "output_type": "display_data",
          "data": {
            "text/plain": [
              "<Figure size 640x480 with 1 Axes>"
            ],
            "image/png": "[encoded data removed]"
          },
          "metadata": {}
        },
        {
          "output_type": "stream",
          "name": "stdout",
          "text": [
            "Coeficiente de correlação: PearsonRResult(statistic=0.3218605781180586, pvalue=2.8907023457896064e-24)\n"
          ]
        }
      ]
    },
    {
      "cell_type": "code",
      "source": [
        "#Separando dados de treino e de teste\n",
        "#utilizamos 70% dos dados para treino e o restante (30%) para teste.\n",
        "x_train_apple_charts, x_test_apple_charts, y_train_apple_charts, y_test_apple_charts = train_test_split(x_apple_charts, y_apple_charts, test_size=0.3)\n",
        "\n",
        "#Precisamos redimensionar os dados para fazer a regressão linear\n",
        "x_train_apple_charts=x_train_apple_charts.reshape(-1,1)\n",
        "y_train_apple_charts=y_train_apple_charts.reshape(-1,1)\n",
        "x_test_apple_charts=x_test_apple_charts.reshape(-1,1)\n",
        "y_test_apple_charts=y_test_apple_charts.reshape(-1,1)"
      ],
      "metadata": {
        "id": "2LD8Hv4GcQUm"
      },
      "execution_count": null,
      "outputs": []
    },
    {
      "cell_type": "code",
      "source": [
        "#treinando o modelo\n",
        "reg = LinearRegression()\n",
        "reg.fit(x_train_apple_charts,y_train_apple_charts)\n",
        "pred = reg.predict(x_test_apple_charts)"
      ],
      "metadata": {
        "id": "fkbv8CNvdEUK"
      },
      "execution_count": null,
      "outputs": []
    },
    {
      "cell_type": "code",
      "source": [
        "plt.scatter(x_apple_charts, y_apple_charts, color=\"blue\")\n",
        "plt.plot(x_test_apple_charts, pred, color=\"red\")\n",
        "plt.title(\"Título do gráfico\")\n",
        "plt.xlabel(\"Título do eixo x\")\n",
        "plt.ylabel(\"Título do eixo y\")"
      ],
      "metadata": {
        "colab": {
          "base_uri": "https://localhost:8080/",
          "height": 489
        },
        "id": "mlbymPmxdcl0",
        "outputId": "a40f0018-d95c-4a44-c2c9-71f7d74a9e74"
      },
      "execution_count": null,
      "outputs": [
        {
          "output_type": "execute_result",
          "data": {
            "text/plain": [
              "Text(0, 0.5, 'Título do eixo y')"
            ]
          },
          "metadata": {},
          "execution_count": 26
        },
        {
          "output_type": "display_data",
          "data": {
            "text/plain": [
              "<Figure size 640x480 with 1 Axes>"
            ],
            "image/png": "[encoded data removed]"
          },
          "metadata": {}
        }
      ]
    },
    {
      "cell_type": "markdown",
      "source": [
        "## **Spotify vs Deezer**"
      ],
      "metadata": {
        "id": "cMATRHcEabn_"
      }
    },
    {
      "cell_type": "code",
      "source": [
        "# Correlação de Spearman (spotify vs deezer):\n",
        "\n",
        "correlation_charts_deezer = joined_table_quartiles['in_spotify_charts'].corr(joined_table_quartiles['in_deezer_charts'], method='spearman')\n",
        "print('Correlação entre ranking do Spotify e o ranking do Deezer:', correlation_charts_deezer)"
      ],
      "metadata": {
        "colab": {
          "base_uri": "https://localhost:8080/"
        },
        "id": "tEAkNRouV72j",
        "outputId": "9851e66a-60e7-4acf-f1b3-3dfcadfb4a60"
      },
      "execution_count": null,
      "outputs": [
        {
          "output_type": "stream",
          "name": "stdout",
          "text": [
            "Correlação entre ranking do Spotify e o ranking do Deezer: 0.5870005940354541\n"
          ]
        }
      ]
    },
    {
      "cell_type": "markdown",
      "source": [
        "**Regressão Linear (Ranking - Deezer)**"
      ],
      "metadata": {
        "id": "A4phlADzd8CA"
      }
    },
    {
      "cell_type": "code",
      "source": [
        "#Separando as variáveis X e Y\n",
        "\n",
        "x_deezer_charts = joined_table_quartiles[\"in_deezer_charts\"].values\n",
        "y_deezer_charts = joined_table_quartiles[\"streams_int\"].values"
      ],
      "metadata": {
        "id": "x4TM5Jgmd-fU"
      },
      "execution_count": null,
      "outputs": []
    },
    {
      "cell_type": "code",
      "source": [
        "plt.scatter(x_deezer_charts, y_deezer_charts)\n",
        "plt.show()\n",
        "\n",
        "r = pearsonr(x_deezer_charts, y_deezer_charts)\n",
        "print(f'Coeficiente de correlação: {r}')"
      ],
      "metadata": {
        "colab": {
          "base_uri": "https://localhost:8080/",
          "height": 462
        },
        "id": "b8a2nN_geNp3",
        "outputId": "96eef0c0-19a9-4465-b37f-7e66b3e8cf06"
      },
      "execution_count": null,
      "outputs": [
        {
          "output_type": "display_data",
          "data": {
            "text/plain": [
              "<Figure size 640x480 with 1 Axes>"
            ],
            "image/png": "[encoded data removed]"
          },
          "metadata": {}
        },
        {
          "output_type": "stream",
          "name": "stdout",
          "text": [
            "Coeficiente de correlação: PearsonRResult(statistic=0.23052073221810163, pvalue=6.896803991484621e-13)\n"
          ]
        }
      ]
    },
    {
      "cell_type": "code",
      "source": [
        "#Separando dados de treino e de teste\n",
        "#utilizamos 70% dos dados para treino e o restante (30%) para teste.\n",
        "x_train_deezer_charts, x_test_deezer_charts, y_train_deezer_charts, y_test_deezer_charts = train_test_split(x_deezer_charts, y_deezer_charts, test_size=0.3)\n",
        "\n",
        "#Precisamos redimensionar os dados para fazer a regressão linear\n",
        "x_train_deezer_charts=x_train_deezer_charts.reshape(-1,1)\n",
        "y_train_deezer_charts=y_train_deezer_charts.reshape(-1,1)\n",
        "x_test_deezer_charts=x_test_deezer_charts.reshape(-1,1)\n",
        "y_test_deezer_charts=y_test_deezer_charts.reshape(-1,1)"
      ],
      "metadata": {
        "id": "Gq0vNH0eeYew"
      },
      "execution_count": null,
      "outputs": []
    },
    {
      "cell_type": "code",
      "source": [
        "#treinando o modelo\n",
        "reg = LinearRegression()\n",
        "reg.fit(x_train_deezer_charts,y_train_deezer_charts)\n",
        "pred = reg.predict(x_test_deezer_charts)"
      ],
      "metadata": {
        "id": "vcwJDTU-ewlC"
      },
      "execution_count": null,
      "outputs": []
    },
    {
      "cell_type": "code",
      "source": [
        "plt.scatter(x_deezer_charts, y_deezer_charts, color=\"blue\")\n",
        "plt.plot(x_test_deezer_charts, pred, color=\"red\")\n",
        "plt.title(\"Título do gráfico\")\n",
        "plt.xlabel(\"Título do eixo x\")\n",
        "plt.ylabel(\"Título do eixo y\")"
      ],
      "metadata": {
        "colab": {
          "base_uri": "https://localhost:8080/",
          "height": 489
        },
        "id": "CdqknabBe937",
        "outputId": "03981d51-93ef-4a7c-f1e1-fcb23b09fe39"
      },
      "execution_count": null,
      "outputs": [
        {
          "output_type": "execute_result",
          "data": {
            "text/plain": [
              "Text(0, 0.5, 'Título do eixo y')"
            ]
          },
          "metadata": {},
          "execution_count": 32
        },
        {
          "output_type": "display_data",
          "data": {
            "text/plain": [
              "<Figure size 640x480 with 1 Axes>"
            ],
            "image/png": "[encoded data removed]"
          },
          "metadata": {}
        }
      ]
    },
    {
      "cell_type": "markdown",
      "source": [
        "## **Spotify vs Shazam**"
      ],
      "metadata": {
        "id": "n3dp8IYPakVD"
      }
    },
    {
      "cell_type": "code",
      "source": [
        "# Correlação de Spearman (spotify vs shazam):\n",
        "\n",
        "correlation_charts_shazam = joined_table_quartiles['in_spotify_charts'].corr(joined_table_quartiles['in_shazam_charts_moda'], method='spearman')\n",
        "print('Correlação entre ranking do Spotify e o ranking do Shazam:', correlation_charts_shazam)"
      ],
      "metadata": {
        "colab": {
          "base_uri": "https://localhost:8080/"
        },
        "id": "FvCrga6DWIrn",
        "outputId": "8f2cbb35-c365-4929-a139-4858af0b1cc6"
      },
      "execution_count": null,
      "outputs": [
        {
          "output_type": "stream",
          "name": "stdout",
          "text": [
            "Correlação entre ranking do Spotify e o ranking do Shazam: 0.5393898498423904\n"
          ]
        }
      ]
    },
    {
      "cell_type": "markdown",
      "source": [
        "**Regressão Linear (Ranking - Shazam)**"
      ],
      "metadata": {
        "id": "w9otQGj4fmPi"
      }
    },
    {
      "cell_type": "code",
      "source": [
        "#Separando as variáveis X e Y\n",
        "\n",
        "x_shazam_charts = joined_table_quartiles[\"in_shazam_charts_moda\"].values\n",
        "y_shazam_charts = joined_table_quartiles[\"streams_int\"].values"
      ],
      "metadata": {
        "id": "vmx9AMh5froY"
      },
      "execution_count": null,
      "outputs": []
    },
    {
      "cell_type": "code",
      "source": [
        "plt.scatter(x_shazam_charts, y_shazam_charts)\n",
        "plt.show()\n",
        "\n",
        "r = pearsonr(x_shazam_charts, y_shazam_charts)\n",
        "print(f'Coeficiente de correlação: {r}')"
      ],
      "metadata": {
        "colab": {
          "base_uri": "https://localhost:8080/",
          "height": 462
        },
        "id": "DcDyGMMcf7Xk",
        "outputId": "2988f3b6-2624-4fad-ab67-9d849bf2370c"
      },
      "execution_count": null,
      "outputs": [
        {
          "output_type": "display_data",
          "data": {
            "text/plain": [
              "<Figure size 640x480 with 1 Axes>"
            ],
            "image/png": "[encoded data removed]"
          },
          "metadata": {}
        },
        {
          "output_type": "stream",
          "name": "stdout",
          "text": [
            "Coeficiente de correlação: PearsonRResult(statistic=-0.007120425860414168, pvalue=0.8267802684833082)\n"
          ]
        }
      ]
    },
    {
      "cell_type": "code",
      "source": [
        "#Separando dados de treino e de teste\n",
        "#utilizamos 70% dos dados para treino e o restante (30%) para teste.\n",
        "x_train_shazam_charts, x_test_shazam_charts, y_train_shazam_charts, y_test_shazam_charts = train_test_split(x_shazam_charts, y_shazam_charts, test_size=0.3)\n",
        "\n",
        "#Precisamos redimensionar os dados para fazer a regressão linear\n",
        "x_train_shazam_charts=x_train_shazam_charts.reshape(-1,1)\n",
        "y_train_shazam_charts=y_train_shazam_charts.reshape(-1,1)\n",
        "x_test_shazam_charts=x_test_shazam_charts.reshape(-1,1)\n",
        "y_test_shazam_charts=y_test_shazam_charts.reshape(-1,1)"
      ],
      "metadata": {
        "id": "NRn_vAMTgF9Z"
      },
      "execution_count": null,
      "outputs": []
    },
    {
      "cell_type": "code",
      "source": [
        "#treinando o modelo\n",
        "reg = LinearRegression()\n",
        "reg.fit(x_train_shazam_charts,y_train_shazam_charts)\n",
        "pred = reg.predict(x_test_shazam_charts)"
      ],
      "metadata": {
        "id": "7EmNcHeNgaxe"
      },
      "execution_count": null,
      "outputs": []
    },
    {
      "cell_type": "code",
      "source": [
        "plt.scatter(x_shazam_charts, y_shazam_charts, color=\"blue\")\n",
        "plt.plot(x_test_shazam_charts, pred, color=\"red\")\n",
        "plt.title(\"Título do gráfico\")\n",
        "plt.xlabel(\"Título do eixo x\")\n",
        "plt.ylabel(\"Título do eixo y\")"
      ],
      "metadata": {
        "colab": {
          "base_uri": "https://localhost:8080/",
          "height": 489
        },
        "id": "0y4h6wH3gnQ8",
        "outputId": "b85a1098-2601-4482-81fa-f999616626e4"
      },
      "execution_count": null,
      "outputs": [
        {
          "output_type": "execute_result",
          "data": {
            "text/plain": [
              "Text(0, 0.5, 'Título do eixo y')"
            ]
          },
          "metadata": {},
          "execution_count": 38
        },
        {
          "output_type": "display_data",
          "data": {
            "text/plain": [
              "<Figure size 640x480 with 1 Axes>"
            ],
            "image/png": "[encoded data removed]"
          },
          "metadata": {}
        }
      ]
    },
    {
      "cell_type": "markdown",
      "source": [
        "# **Teste de hipóteses (total de playlists)**"
      ],
      "metadata": {
        "id": "O2Bje1WZDtaE"
      }
    },
    {
      "cell_type": "markdown",
      "source": [
        "↪ A presença de uma música em um maior número de playlists está correlacionada com um maior número de streams? ✅"
      ],
      "metadata": {
        "id": "FezIoJq721Oe"
      }
    },
    {
      "cell_type": "code",
      "source": [
        "# Streams onde o total de playlists é alto:\n",
        "streams_playlists_alto = joined_table_quartiles[[\"streams_int\",\"total_playlists_classification\"]].query(\"total_playlists_classification == 'Alto'\")[\"streams_int\"]\n",
        "streams_playlists_alto"
      ],
      "metadata": {
        "colab": {
          "base_uri": "https://localhost:8080/"
        },
        "id": "T26qhAoGD4ik",
        "outputId": "c101b854-d1c6-40b7-89ec-fc3d0a09ac2d"
      },
      "execution_count": null,
      "outputs": [
        {
          "output_type": "execute_result",
          "data": {
            "text/plain": [
              "66      245350949\n",
              "120     663832097\n",
              "122     395591396\n",
              "123     446390129\n",
              "127     629173063\n",
              "          ...    \n",
              "942    1953533826\n",
              "943    1047101291\n",
              "944     843957510\n",
              "945     863756573\n",
              "946    1223481149\n",
              "Name: streams_int, Length: 236, dtype: int64"
            ]
          },
          "metadata": {},
          "execution_count": 39
        }
      ]
    },
    {
      "cell_type": "code",
      "source": [
        "# Streams onde o total de playlists é baixo:\n",
        "streams_playlists_baixo = joined_table_quartiles[[\"streams_int\",\"total_playlists_classification\"]].query(\"total_playlists_classification == 'Baixo'\")[\"streams_int\"]\n",
        "streams_playlists_baixo"
      ],
      "metadata": {
        "colab": {
          "base_uri": "https://localhost:8080/"
        },
        "id": "i9dzfbI6El_Z",
        "outputId": "81d9358f-394d-49a5-edff-888aea9fb28a"
      },
      "execution_count": null,
      "outputs": [
        {
          "output_type": "execute_result",
          "data": {
            "text/plain": [
              "0       122763672\n",
              "1        53909146\n",
              "2       114546317\n",
              "3       124407432\n",
              "4       137070925\n",
              "          ...    \n",
              "914     705469769\n",
              "916     759208783\n",
              "927     674072710\n",
              "936    1223481149\n",
              "940     775542072\n",
              "Name: streams_int, Length: 711, dtype: int64"
            ]
          },
          "metadata": {},
          "execution_count": 40
        }
      ]
    },
    {
      "cell_type": "code",
      "source": [
        "# Separando por grupos de 200:\n",
        "streams_playlists_alto_sample = streams_playlists_alto.sample(200)\n",
        "streams_playlists_baixo_sample = streams_playlists_baixo.sample(200)"
      ],
      "metadata": {
        "id": "aXfbQMwgE7-c"
      },
      "execution_count": null,
      "outputs": []
    },
    {
      "cell_type": "code",
      "source": [
        "# Teste de Mann-Whitney/U para o total de playlists:\n",
        "stat, p_value = mannwhitneyu(streams_playlists_alto_sample, streams_playlists_baixo_sample)\n",
        "\n",
        "# Resultado:\n",
        "print(f'Estatística U: {stat}')\n",
        "print(f'Valor p: {p_value}')\n",
        "\n",
        "if p_value < 0.05:\n",
        "    print('Interpretação: As amostras são significativamente diferentes (p < 0.05).')\n",
        "else:\n",
        "    print('Interpretação: As amostras não são significativamente diferentes (p >= 0.05).')"
      ],
      "metadata": {
        "id": "9U691auEFHg3",
        "colab": {
          "base_uri": "https://localhost:8080/"
        },
        "outputId": "4d31afbb-86b9-44ed-8284-75ab9b16137b"
      },
      "execution_count": null,
      "outputs": [
        {
          "output_type": "stream",
          "name": "stdout",
          "text": [
            "Estatística U: 37737.0\n",
            "Valor p: 4.062822821823349e-53\n",
            "Interpretação: As amostras são significativamente diferentes (p < 0.05).\n"
          ]
        }
      ]
    },
    {
      "cell_type": "code",
      "source": [
        "streams_playlists_baixo_sample.median(),streams_playlists_alto_sample.median()"
      ],
      "metadata": {
        "colab": {
          "base_uri": "https://localhost:8080/"
        },
        "id": "muLyKRvNHmvo",
        "outputId": "3ee36bf2-80ab-4018-f7dc-b9a2e0783510"
      },
      "execution_count": null,
      "outputs": [
        {
          "output_type": "execute_result",
          "data": {
            "text/plain": [
              "(211642887.0, 1174368885.5)"
            ]
          },
          "metadata": {},
          "execution_count": 43
        }
      ]
    },
    {
      "cell_type": "markdown",
      "source": [
        "**Regressão Linear**\n",
        "\n"
      ],
      "metadata": {
        "id": "2nvie-w4G-wx"
      }
    },
    {
      "cell_type": "code",
      "source": [
        "from sklearn.linear_model import LinearRegression\n",
        "from sklearn.model_selection import train_test_split\n",
        "from sklearn.metrics import r2_score\n",
        "from scipy.stats import pearsonr"
      ],
      "metadata": {
        "id": "l_KhPaljEndU"
      },
      "execution_count": null,
      "outputs": []
    },
    {
      "cell_type": "code",
      "source": [
        "#Separando as variáveis X e Y\n",
        "\n",
        "x_total_playlists = joined_table_quartiles[\"total_playlists\"].values\n",
        "y_total_playlists = joined_table_quartiles[\"streams_int\"].values"
      ],
      "metadata": {
        "id": "NSAUjFA7ExqJ"
      },
      "execution_count": null,
      "outputs": []
    },
    {
      "cell_type": "code",
      "source": [
        "plt.scatter(x_total_playlists, y_total_playlists)\n",
        "plt.show()\n",
        "\n",
        "r = pearsonr(x_total_playlists, y_total_playlists)\n",
        "print(f'Coeficiente de correlação: {r}')"
      ],
      "metadata": {
        "colab": {
          "base_uri": "https://localhost:8080/",
          "height": 462
        },
        "id": "HU0c-6dbFx-G",
        "outputId": "5b90ed7d-f8d1-42cb-81db-12dd316b00bd"
      },
      "execution_count": null,
      "outputs": [
        {
          "output_type": "display_data",
          "data": {
            "text/plain": [
              "<Figure size 640x480 with 1 Axes>"
            ],
            "image/png": "[encoded data removed]"
          },
          "metadata": {}
        },
        {
          "output_type": "stream",
          "name": "stdout",
          "text": [
            "Coeficiente de correlação: PearsonRResult(statistic=0.7711989816876648, pvalue=1.5025827032953671e-187)\n"
          ]
        }
      ]
    },
    {
      "cell_type": "code",
      "source": [
        "#Separando dados de treino e de teste\n",
        "#utilizamos 70% dos dados para treino e o restante (30%) para teste.\n",
        "x_train_totalPlaylists, x_test_totalPlaylists, y_train_totalPlaylists, y_test_totalPlaylists = train_test_split(x_total_playlists, y_total_playlists, test_size=0.3)\n",
        "\n",
        "#Precisamos redimensionar os dados para fazer a regressão linear\n",
        "x_train_totalPlaylists=x_train_totalPlaylists.reshape(-1,1)\n",
        "y_train_totalPlaylists=y_train_totalPlaylists.reshape(-1,1)\n",
        "x_test_totalPlaylists=x_test_totalPlaylists.reshape(-1,1)\n",
        "y_test_totalPlaylists=y_test_totalPlaylists.reshape(-1,1)"
      ],
      "metadata": {
        "id": "9v7tFVsnH9l7"
      },
      "execution_count": null,
      "outputs": []
    },
    {
      "cell_type": "code",
      "source": [
        "#treinando o modelo\n",
        "reg = LinearRegression()\n",
        "reg.fit(x_train_totalPlaylists,y_train_totalPlaylists)\n",
        "pred = reg.predict(x_test_totalPlaylists)"
      ],
      "metadata": {
        "id": "f4Vs6rT3JHiL"
      },
      "execution_count": null,
      "outputs": []
    },
    {
      "cell_type": "code",
      "source": [
        "plt.scatter(x_total_playlists, y_total_playlists, color=\"blue\")\n",
        "plt.plot(x_test_totalPlaylists, pred, color=\"red\")\n",
        "plt.title(\"Título do gráfico\")\n",
        "plt.xlabel(\"Título do eixo x\")\n",
        "plt.ylabel(\"Título do eixo y\")"
      ],
      "metadata": {
        "colab": {
          "base_uri": "https://localhost:8080/",
          "height": 489
        },
        "id": "i16dh8uPJ5iv",
        "outputId": "8b21da4b-ca13-4e37-eb6a-88e465e2983e"
      },
      "execution_count": null,
      "outputs": [
        {
          "output_type": "execute_result",
          "data": {
            "text/plain": [
              "Text(0, 0.5, 'Título do eixo y')"
            ]
          },
          "metadata": {},
          "execution_count": 49
        },
        {
          "output_type": "display_data",
          "data": {
            "text/plain": [
              "<Figure size 640x480 with 1 Axes>"
            ],
            "image/png": "[encoded data removed]"
          },
          "metadata": {}
        }
      ]
    },
    {
      "cell_type": "markdown",
      "source": [
        "➡️ Resumo:\n",
        "\n",
        "*   De acordo com o teste de Mann-Whitney U, existe uma diferença significativa entre os streams das músicas que estão em um alto número de playlists e os streams das músicas que estão em um baixo número de playlists.\n",
        "*   A correlação entre streams e o total de playlists foi 0.77, que indica uma correlação positiva que pode ser considerada forte, isso significa que, à medida que uma variável aumenta, a outra variável também tende a aumentar; e quando uma variável diminui, a outra também tende a diminuir."
      ],
      "metadata": {
        "id": "ktAFWEnpkhuW"
      }
    },
    {
      "cell_type": "markdown",
      "source": [
        "## **Teste de hipóteses (Spotify)**"
      ],
      "metadata": {
        "id": "yE2eQ7S3GM6B"
      }
    },
    {
      "cell_type": "code",
      "source": [
        "# Streams onde o total de playlists do Spotify é alto:\n",
        "streams_spotify_playlists_alto = joined_table_quartiles[[\"streams_int\",\"spotify_playlists_classification\"]].query(\"spotify_playlists_classification == 'Alto'\")[\"streams_int\"]\n",
        "streams_spotify_playlists_alto"
      ],
      "metadata": {
        "colab": {
          "base_uri": "https://localhost:8080/"
        },
        "id": "nsTBxf_hIR1q",
        "outputId": "ee7d3896-b400-4ea5-b172-ac770777b4f3"
      },
      "execution_count": null,
      "outputs": [
        {
          "output_type": "execute_result",
          "data": {
            "text/plain": [
              "66      245350949\n",
              "120     663832097\n",
              "122     395591396\n",
              "123     446390129\n",
              "127     629173063\n",
              "          ...    \n",
              "942    1953533826\n",
              "943    1047101291\n",
              "944     843957510\n",
              "945     863756573\n",
              "946    1223481149\n",
              "Name: streams_int, Length: 236, dtype: int64"
            ]
          },
          "metadata": {},
          "execution_count": 50
        }
      ]
    },
    {
      "cell_type": "code",
      "source": [
        "# Streams onde o total de playlists do Spotify é baixo:\n",
        "streams_spotify_playlists_baixo = joined_table_quartiles[[\"streams_int\",\"spotify_playlists_classification\"]].query(\"spotify_playlists_classification == 'Baixo'\")[\"streams_int\"]\n",
        "streams_spotify_playlists_baixo"
      ],
      "metadata": {
        "colab": {
          "base_uri": "https://localhost:8080/"
        },
        "id": "NW-CeHYqIpYM",
        "outputId": "802bf57e-e1c0-4ed1-d35d-2def6ae376be"
      },
      "execution_count": null,
      "outputs": [
        {
          "output_type": "execute_result",
          "data": {
            "text/plain": [
              "0       122763672\n",
              "1        53909146\n",
              "2       114546317\n",
              "3       124407432\n",
              "4       137070925\n",
              "          ...    \n",
              "914     705469769\n",
              "916     759208783\n",
              "927     674072710\n",
              "936    1223481149\n",
              "940     775542072\n",
              "Name: streams_int, Length: 711, dtype: int64"
            ]
          },
          "metadata": {},
          "execution_count": 51
        }
      ]
    },
    {
      "cell_type": "code",
      "source": [
        "# Separando por grupos de 200:\n",
        "streams_spotify_playlists_alto_sample = streams_spotify_playlists_alto.sample(200)\n",
        "streams_spotify_playlists_baixo_sample = streams_spotify_playlists_baixo.sample(200)"
      ],
      "metadata": {
        "id": "J6K0pALsI27T"
      },
      "execution_count": null,
      "outputs": []
    },
    {
      "cell_type": "code",
      "source": [
        "# Teste de Mann-Whitney/U para o total de playlists do spotify:\n",
        "stat, p_value = mannwhitneyu(streams_spotify_playlists_alto_sample, streams_spotify_playlists_baixo_sample)\n",
        "\n",
        "# Resultado:\n",
        "print(f'Estatística U: {stat}')\n",
        "print(f'Valor p: {p_value}')\n",
        "\n",
        "if p_value < 0.05:\n",
        "    print('Interpretação: As amostras são significativamente diferentes (p < 0.05).')\n",
        "else:\n",
        "    print('Interpretação: As amostras não são significativamente diferentes (p >= 0.05).')"
      ],
      "metadata": {
        "colab": {
          "base_uri": "https://localhost:8080/"
        },
        "id": "pWwLRIaEJDgX",
        "outputId": "027fd5ce-5ed2-47c9-83eb-9259d68c096b"
      },
      "execution_count": null,
      "outputs": [
        {
          "output_type": "stream",
          "name": "stdout",
          "text": [
            "Estatística U: 38317.5\n",
            "Valor p: 1.5664944198594787e-56\n",
            "Interpretação: As amostras são significativamente diferentes (p < 0.05).\n"
          ]
        }
      ]
    },
    {
      "cell_type": "code",
      "source": [
        "streams_spotify_playlists_baixo_sample.median(), streams_spotify_playlists_alto_sample.median()"
      ],
      "metadata": {
        "colab": {
          "base_uri": "https://localhost:8080/"
        },
        "id": "WAqcFCahJh2E",
        "outputId": "0e8fea2c-3a4f-4515-e664-d208f1b5ef49"
      },
      "execution_count": null,
      "outputs": [
        {
          "output_type": "execute_result",
          "data": {
            "text/plain": [
              "(192942017.5, 1174368885.5)"
            ]
          },
          "metadata": {},
          "execution_count": 54
        }
      ]
    },
    {
      "cell_type": "markdown",
      "source": [
        "## **Teste de hipóteses (Apple)**"
      ],
      "metadata": {
        "id": "e6G8N_XwJ07f"
      }
    },
    {
      "cell_type": "code",
      "source": [
        "# Streams onde o total de playlists da Apple é alto:\n",
        "streams_apple_playlists_alto = joined_table_quartiles[[\"streams_int\",\"apple_playlists_classification\"]].query(\"apple_playlists_classification == 'Alto'\")[\"streams_int\"]\n",
        "streams_apple_playlists_alto"
      ],
      "metadata": {
        "colab": {
          "base_uri": "https://localhost:8080/"
        },
        "id": "gsKpv18pJ30C",
        "outputId": "d302d576-b88d-4b8e-82be-dcb7dce6ff2a"
      },
      "execution_count": null,
      "outputs": [
        {
          "output_type": "execute_result",
          "data": {
            "text/plain": [
              "66      245350949\n",
              "120     663832097\n",
              "122     395591396\n",
              "127     629173063\n",
              "131     389771964\n",
              "          ...    \n",
              "941    1605224506\n",
              "942    1953533826\n",
              "944     843957510\n",
              "945     863756573\n",
              "946    1223481149\n",
              "Name: streams_int, Length: 236, dtype: int64"
            ]
          },
          "metadata": {},
          "execution_count": 55
        }
      ]
    },
    {
      "cell_type": "code",
      "source": [
        "# Streams onde o total de playlists da Apple é baixo:\n",
        "streams_apple_playlists_baixo = joined_table_quartiles[[\"streams_int\",\"apple_playlists_classification\"]].query(\"apple_playlists_classification == 'Baixo'\")[\"streams_int\"]\n",
        "streams_apple_playlists_baixo"
      ],
      "metadata": {
        "colab": {
          "base_uri": "https://localhost:8080/"
        },
        "id": "hC_mYutYKO3s",
        "outputId": "128e9c1b-1a76-4490-fef9-e9e4ea6304af"
      },
      "execution_count": null,
      "outputs": [
        {
          "output_type": "execute_result",
          "data": {
            "text/plain": [
              "0       122763672\n",
              "1        53909146\n",
              "2       114546317\n",
              "3       124407432\n",
              "4       137070925\n",
              "          ...    \n",
              "926    1133865788\n",
              "927     674072710\n",
              "936    1223481149\n",
              "940     775542072\n",
              "943    1047101291\n",
              "Name: streams_int, Length: 711, dtype: int64"
            ]
          },
          "metadata": {},
          "execution_count": 56
        }
      ]
    },
    {
      "cell_type": "code",
      "source": [
        "# Separando por grupos de 200:\n",
        "streams_apple_playlists_alto_sample = streams_apple_playlists_alto.sample(200)\n",
        "streams_apple_playlists_baixo_sample = streams_apple_playlists_baixo.sample(200)"
      ],
      "metadata": {
        "id": "0PD5Q_UuKZYM"
      },
      "execution_count": null,
      "outputs": []
    },
    {
      "cell_type": "code",
      "source": [
        "# Teste de Mann-Whitney/U para o total de playlists da Apple:\n",
        "stat, p_value = mannwhitneyu(streams_apple_playlists_alto_sample, streams_apple_playlists_baixo_sample)\n",
        "\n",
        "# Resultado:\n",
        "print(f'Estatística U: {stat}')\n",
        "print(f'Valor p: {p_value}')\n",
        "\n",
        "if p_value < 0.05:\n",
        "    print('Interpretação: As amostras são significativamente diferentes (p < 0.05).')\n",
        "else:\n",
        "    print('Interpretação: As amostras não são significativamente diferentes (p >= 0.05).')"
      ],
      "metadata": {
        "colab": {
          "base_uri": "https://localhost:8080/"
        },
        "id": "69GF-I2HMgRr",
        "outputId": "7f8acb7e-5c8a-4c36-a524-63236108895f"
      },
      "execution_count": null,
      "outputs": [
        {
          "output_type": "stream",
          "name": "stdout",
          "text": [
            "Estatística U: 35055.0\n",
            "Valor p: 9.256545489751388e-39\n",
            "Interpretação: As amostras são significativamente diferentes (p < 0.05).\n"
          ]
        }
      ]
    },
    {
      "cell_type": "code",
      "source": [
        "streams_apple_playlists_baixo_sample.median(),streams_apple_playlists_alto_sample.median()"
      ],
      "metadata": {
        "colab": {
          "base_uri": "https://localhost:8080/"
        },
        "id": "ncePKC6XNXhP",
        "outputId": "710c6fb8-4ed3-4cca-c6f8-e511cc446d24"
      },
      "execution_count": null,
      "outputs": [
        {
          "output_type": "execute_result",
          "data": {
            "text/plain": [
              "(230746990.0, 978073570.0)"
            ]
          },
          "metadata": {},
          "execution_count": 59
        }
      ]
    },
    {
      "cell_type": "markdown",
      "source": [
        "## **Teste de hipóteses (Deezer)**"
      ],
      "metadata": {
        "id": "2G14Me5WMs1K"
      }
    },
    {
      "cell_type": "code",
      "source": [
        "# Streams onde o total de playlists do Deezer é alto:\n",
        "streams_deezer_playlists_alto = joined_table_quartiles[[\"streams_int\",\"deezer_playlists_classification\"]].query(\"deezer_playlists_classification == 'Alto'\")[\"streams_int\"]\n",
        "streams_deezer_playlists_alto"
      ],
      "metadata": {
        "colab": {
          "base_uri": "https://localhost:8080/"
        },
        "id": "5aamS18kMw0-",
        "outputId": "6e9b281b-bbf9-4b4f-d0c2-60501951d008"
      },
      "execution_count": null,
      "outputs": [
        {
          "output_type": "execute_result",
          "data": {
            "text/plain": [
              "123     446390129\n",
              "127     629173063\n",
              "129     563902868\n",
              "130     476244795\n",
              "131     389771964\n",
              "          ...    \n",
              "942    1953533826\n",
              "943    1047101291\n",
              "944     843957510\n",
              "945     863756573\n",
              "946    1223481149\n",
              "Name: streams_int, Length: 236, dtype: int64"
            ]
          },
          "metadata": {},
          "execution_count": 60
        }
      ]
    },
    {
      "cell_type": "code",
      "source": [
        "# Streams onde o total de playlists do Deezer é baixo:\n",
        "streams_deezer_playlists_baixo = joined_table_quartiles[[\"streams_int\",\"deezer_playlists_classification\"]].query(\"deezer_playlists_classification == 'Baixo'\")[\"streams_int\"]\n",
        "streams_deezer_playlists_baixo"
      ],
      "metadata": {
        "colab": {
          "base_uri": "https://localhost:8080/"
        },
        "id": "tD62oSBpM7TX",
        "outputId": "4dd3f223-b5b2-450d-a7c0-945c3e00e2b3"
      },
      "execution_count": null,
      "outputs": [
        {
          "output_type": "execute_result",
          "data": {
            "text/plain": [
              "0       122763672\n",
              "1        53909146\n",
              "2       114546317\n",
              "3       124407432\n",
              "4       137070925\n",
              "          ...    \n",
              "927     674072710\n",
              "929    1440757818\n",
              "931    1356565093\n",
              "936    1223481149\n",
              "940     775542072\n",
              "Name: streams_int, Length: 711, dtype: int64"
            ]
          },
          "metadata": {},
          "execution_count": 61
        }
      ]
    },
    {
      "cell_type": "code",
      "source": [
        "# Separando por grupos de 200:\n",
        "streams_deezer_playlists_alto_sample = streams_deezer_playlists_alto.sample(200)\n",
        "streams_deezer_playlists_baixo_sample = streams_deezer_playlists_baixo.sample(200)"
      ],
      "metadata": {
        "id": "DUBxg0DjND1t"
      },
      "execution_count": null,
      "outputs": []
    },
    {
      "cell_type": "code",
      "source": [
        "# Teste de Mann-Whitney/U para o total de playlists do Deezer:\n",
        "stat, p_value = mannwhitneyu(streams_deezer_playlists_alto_sample, streams_deezer_playlists_baixo_sample)\n",
        "\n",
        "# Resultado:\n",
        "print(f'Estatística U: {stat}')\n",
        "print(f'Valor p: {p_value}')\n",
        "\n",
        "if p_value < 0.05:\n",
        "    print('Interpretação: As amostras são significativamente diferentes (p < 0.05).')\n",
        "else:\n",
        "    print('Interpretação: As amostras não são significativamente diferentes (p >= 0.05).')"
      ],
      "metadata": {
        "colab": {
          "base_uri": "https://localhost:8080/"
        },
        "id": "ZGDHCdfqNOlD",
        "outputId": "16cc6f3d-beb1-4432-ce6e-87cf87918d51"
      },
      "execution_count": null,
      "outputs": [
        {
          "output_type": "stream",
          "name": "stdout",
          "text": [
            "Estatística U: 36273.0\n",
            "Valor p: 5.424550807124199e-45\n",
            "Interpretação: As amostras são significativamente diferentes (p < 0.05).\n"
          ]
        }
      ]
    },
    {
      "cell_type": "code",
      "source": [
        "streams_deezer_playlists_baixo_sample.median(),streams_deezer_playlists_alto_sample.median()"
      ],
      "metadata": {
        "colab": {
          "base_uri": "https://localhost:8080/"
        },
        "id": "4FhT5SzBNs5F",
        "outputId": "ba0a07a7-80be-4a5f-a551-b154e0b0f251"
      },
      "execution_count": null,
      "outputs": [
        {
          "output_type": "execute_result",
          "data": {
            "text/plain": [
              "(189356493.5, 1064268480.0)"
            ]
          },
          "metadata": {},
          "execution_count": 64
        }
      ]
    },
    {
      "cell_type": "markdown",
      "source": [
        "# **Correlação (total de músicas por artista)**"
      ],
      "metadata": {
        "id": "EZir5etRZfa7"
      }
    },
    {
      "cell_type": "markdown",
      "source": [
        "↪ Artistas com um maior número de músicas no Spotify têm mais streams? ⭐"
      ],
      "metadata": {
        "id": "N-pCPWsZ3KWr"
      }
    },
    {
      "cell_type": "code",
      "source": [
        "joined_table_quartiles['artist_s__name'].value_counts()"
      ],
      "metadata": {
        "colab": {
          "base_uri": "https://localhost:8080/"
        },
        "id": "1rkyUKSIZC53",
        "outputId": "c9dfeb45-0ca0-4959-98ba-b9c1095bd9c9"
      },
      "execution_count": null,
      "outputs": [
        {
          "output_type": "execute_result",
          "data": {
            "text/plain": [
              "artist_s__name\n",
              "TAYLOR SWIFT                                       34\n",
              "THE WEEKND                                         21\n",
              "BAD BUNNY                                          19\n",
              "SZA                                                19\n",
              "HARRY STYLES                                       17\n",
              "                                                   ..\n",
              "TRAVIS SCOTT, METRO BOOMIN                          1\n",
              "THE WEEKND, LIL WAYNE                               1\n",
              "THE WEEKND, FUTURE                                  1\n",
              "TAYLOR SWIFT, ICE SPICE                             1\n",
              "IMAGINE DRAGONS, LEAGUE OF LEGENDS, JID, ARCANE     1\n",
              "Name: count, Length: 643, dtype: int64"
            ]
          },
          "metadata": {},
          "execution_count": 65
        }
      ]
    },
    {
      "cell_type": "code",
      "source": [
        "# Agrupar por 'artist_s__name' e contar as ocorrências de 'artist_s__name':\n",
        "grouped_data = joined_table_quartiles.groupby('artist_s__name').agg({'artist_s__name': 'count','streams_int': 'sum'}).rename(columns={\"artist_s__name\" : \"qnt\"})\n",
        "\n",
        "# Ordenar os resultados pelo número de músicas:\n",
        "total_streams_by_artist = grouped_data.sort_values(by='qnt', ascending=False)\n",
        "\n",
        "total_streams_by_artist.reset_index(inplace=True)\n"
      ],
      "metadata": {
        "id": "HognM30VZPOd"
      },
      "execution_count": null,
      "outputs": []
    },
    {
      "cell_type": "code",
      "source": [
        "total_streams_by_artist"
      ],
      "metadata": {
        "colab": {
          "base_uri": "https://localhost:8080/"
        },
        "id": "9opLZww_auDM",
        "outputId": "ee650ba4-ffe8-4d8b-d1ea-e35531caed9a"
      },
      "execution_count": null,
      "outputs": [
        {
          "output_type": "execute_result",
          "data": {
            "text/plain": [
              "                          artist_s__name  qnt  streams_int\n",
              "0                           TAYLOR SWIFT   34  14053658300\n",
              "1                             THE WEEKND   21  13752850536\n",
              "2                              BAD BUNNY   19   9997799607\n",
              "3                                    SZA   19   4557811204\n",
              "4                           HARRY STYLES   17  11608645649\n",
              "..                                   ...  ...          ...\n",
              "638  INTERPLANETARY CRIMINAL, ELIZA ROSE    1    244585109\n",
              "639                           INTERWORLD    1    357580552\n",
              "640       ISRAEL & RODOLFFO, ANA CASTELA    1    263453310\n",
              "641    ISRAEL & RODOLFFO, MARI FERNANDEZ    1    138517666\n",
              "642                        ZION & LENNOX    1    527033089\n",
              "\n",
              "[643 rows x 3 columns]"
            ],
            "text/html": [
              "\n",
              "  <div id=\"df-1a973c12-a52d-4319-892d-4000a381b221\" class=\"colab-df-container\">\n",
              "    <div>\n",
              "<style scoped>\n",
              "    .dataframe tbody tr th:only-of-type {\n",
              "        vertical-align: middle;\n",
              "    }\n",
              "\n",
              "    .dataframe tbody tr th {\n",
              "        vertical-align: top;\n",
              "    }\n",
              "\n",
              "    .dataframe thead th {\n",
              "        text-align: right;\n",
              "    }\n",
              "</style>\n",
              "<table border=\"1\" class=\"dataframe\">\n",
              "  <thead>\n",
              "    <tr style=\"text-align: right;\">\n",
              "      <th></th>\n",
              "      <th>artist_s__name</th>\n",
              "      <th>qnt</th>\n",
              "      <th>streams_int</th>\n",
              "    </tr>\n",
              "  </thead>\n",
              "  <tbody>\n",
              "    <tr>\n",
              "      <th>0</th>\n",
              "      <td>TAYLOR SWIFT</td>\n",
              "      <td>34</td>\n",
              "      <td>14053658300</td>\n",
              "    </tr>\n",
              "    <tr>\n",
              "      <th>1</th>\n",
              "      <td>THE WEEKND</td>\n",
              "      <td>21</td>\n",
              "      <td>13752850536</td>\n",
              "    </tr>\n",
              "    <tr>\n",
              "      <th>2</th>\n",
              "      <td>BAD BUNNY</td>\n",
              "      <td>19</td>\n",
              "      <td>9997799607</td>\n",
              "    </tr>\n",
              "    <tr>\n",
              "      <th>3</th>\n",
              "      <td>SZA</td>\n",
              "      <td>19</td>\n",
              "      <td>4557811204</td>\n",
              "    </tr>\n",
              "    <tr>\n",
              "      <th>4</th>\n",
              "      <td>HARRY STYLES</td>\n",
              "      <td>17</td>\n",
              "      <td>11608645649</td>\n",
              "    </tr>\n",
              "    <tr>\n",
              "      <th>...</th>\n",
              "      <td>...</td>\n",
              "      <td>...</td>\n",
              "      <td>...</td>\n",
              "    </tr>\n",
              "    <tr>\n",
              "      <th>638</th>\n",
              "      <td>INTERPLANETARY CRIMINAL, ELIZA ROSE</td>\n",
              "      <td>1</td>\n",
              "      <td>244585109</td>\n",
              "    </tr>\n",
              "    <tr>\n",
              "      <th>639</th>\n",
              "      <td>INTERWORLD</td>\n",
              "      <td>1</td>\n",
              "      <td>357580552</td>\n",
              "    </tr>\n",
              "    <tr>\n",
              "      <th>640</th>\n",
              "      <td>ISRAEL &amp; RODOLFFO, ANA CASTELA</td>\n",
              "      <td>1</td>\n",
              "      <td>263453310</td>\n",
              "    </tr>\n",
              "    <tr>\n",
              "      <th>641</th>\n",
              "      <td>ISRAEL &amp; RODOLFFO, MARI FERNANDEZ</td>\n",
              "      <td>1</td>\n",
              "      <td>138517666</td>\n",
              "    </tr>\n",
              "    <tr>\n",
              "      <th>642</th>\n",
              "      <td>ZION &amp; LENNOX</td>\n",
              "      <td>1</td>\n",
              "      <td>527033089</td>\n",
              "    </tr>\n",
              "  </tbody>\n",
              "</table>\n",
              "<p>643 rows × 3 columns</p>\n",
              "</div>\n",
              "    <div class=\"colab-df-buttons\">\n",
              "\n",
              "  <div class=\"colab-df-container\">\n",
              "    <button class=\"colab-df-convert\" onclick=\"convertToInteractive('df-1a973c12-a52d-4319-892d-4000a381b221')\"\n",
              "            title=\"Convert this dataframe to an interactive table.\"\n",
              "            style=\"display:none;\">\n",
              "\n",
              "  <svg xmlns=\"http://www.w3.org/2000/svg\" height=\"24px\" viewBox=\"0 -960 960 960\">\n",
              "    <path d=\"M120-120v-720h720v720H120Zm60-500h600v-160H180v160Zm220 220h160v-160H400v160Zm0 220h160v-160H400v160ZM180-400h160v-160H180v160Zm440 0h160v-160H620v160ZM180-180h160v-160H180v160Zm440 0h160v-160H620v160Z\"/>\n",
              "  </svg>\n",
              "    </button>\n",
              "\n",
              "  <style>\n",
              "    .colab-df-container {\n",
              "      display:flex;\n",
              "      gap: 12px;\n",
              "    }\n",
              "\n",
              "    .colab-df-convert {\n",
              "      background-color: #E8F0FE;\n",
              "      border: none;\n",
              "      border-radius: 50%;\n",
              "      cursor: pointer;\n",
              "      display: none;\n",
              "      fill: #1967D2;\n",
              "      height: 32px;\n",
              "      padding: 0 0 0 0;\n",
              "      width: 32px;\n",
              "    }\n",
              "\n",
              "    .colab-df-convert:hover {\n",
              "      background-color: #E2EBFA;\n",
              "      box-shadow: 0px 1px 2px rgba(60, 64, 67, 0.3), 0px 1px 3px 1px rgba(60, 64, 67, 0.15);\n",
              "      fill: #174EA6;\n",
              "    }\n",
              "\n",
              "    .colab-df-buttons div {\n",
              "      margin-bottom: 4px;\n",
              "    }\n",
              "\n",
              "    [theme=dark] .colab-df-convert {\n",
              "      background-color: #3B4455;\n",
              "      fill: #D2E3FC;\n",
              "    }\n",
              "\n",
              "    [theme=dark] .colab-df-convert:hover {\n",
              "      background-color: #434B5C;\n",
              "      box-shadow: 0px 1px 3px 1px rgba(0, 0, 0, 0.15);\n",
              "      filter: drop-shadow(0px 1px 2px rgba(0, 0, 0, 0.3));\n",
              "      fill: #FFFFFF;\n",
              "    }\n",
              "  </style>\n",
              "\n",
              "    <script>\n",
              "      const buttonEl =\n",
              "        document.querySelector('#df-1a973c12-a52d-4319-892d-4000a381b221 button.colab-df-convert');\n",
              "      buttonEl.style.display =\n",
              "        google.colab.kernel.accessAllowed ? 'block' : 'none';\n",
              "\n",
              "      async function convertToInteractive(key) {\n",
              "        const element = document.querySelector('#df-1a973c12-a52d-4319-892d-4000a381b221');\n",
              "        const dataTable =\n",
              "          await google.colab.kernel.invokeFunction('convertToInteractive',\n",
              "                                                    [key], {});\n",
              "        if (!dataTable) return;\n",
              "\n",
              "        const docLinkHtml = 'Like what you see? Visit the ' +\n",
              "          '<a target=\"_blank\" href=https://colab.research.google.com/notebooks/data_table.ipynb>data table notebook</a>'\n",
              "          + ' to learn more about interactive tables.';\n",
              "        element.innerHTML = '';\n",
              "        dataTable['output_type'] = 'display_data';\n",
              "        await google.colab.output.renderOutput(dataTable, element);\n",
              "        const docLink = document.createElement('div');\n",
              "        docLink.innerHTML = docLinkHtml;\n",
              "        element.appendChild(docLink);\n",
              "      }\n",
              "    </script>\n",
              "  </div>\n",
              "\n",
              "\n",
              "<div id=\"df-de0861b2-d0a2-4393-a5dd-e914cec5c3dc\">\n",
              "  <button class=\"colab-df-quickchart\" onclick=\"quickchart('df-de0861b2-d0a2-4393-a5dd-e914cec5c3dc')\"\n",
              "            title=\"Suggest charts\"\n",
              "            style=\"display:none;\">\n",
              "\n",
              "<svg xmlns=\"http://www.w3.org/2000/svg\" height=\"24px\"viewBox=\"0 0 24 24\"\n",
              "     width=\"24px\">\n",
              "    <g>\n",
              "        <path d=\"M19 3H5c-1.1 0-2 .9-2 2v14c0 1.1.9 2 2 2h14c1.1 0 2-.9 2-2V5c0-1.1-.9-2-2-2zM9 17H7v-7h2v7zm4 0h-2V7h2v10zm4 0h-2v-4h2v4z\"/>\n",
              "    </g>\n",
              "</svg>\n",
              "  </button>\n",
              "\n",
              "<style>\n",
              "  .colab-df-quickchart {\n",
              "      --bg-color: #E8F0FE;\n",
              "      --fill-color: #1967D2;\n",
              "      --hover-bg-color: #E2EBFA;\n",
              "      --hover-fill-color: #174EA6;\n",
              "      --disabled-fill-color: #AAA;\n",
              "      --disabled-bg-color: #DDD;\n",
              "  }\n",
              "\n",
              "  [theme=dark] .colab-df-quickchart {\n",
              "      --bg-color: #3B4455;\n",
              "      --fill-color: #D2E3FC;\n",
              "      --hover-bg-color: #434B5C;\n",
              "      --hover-fill-color: #FFFFFF;\n",
              "      --disabled-bg-color: #3B4455;\n",
              "      --disabled-fill-color: #666;\n",
              "  }\n",
              "\n",
              "  .colab-df-quickchart {\n",
              "    background-color: var(--bg-color);\n",
              "    border: none;\n",
              "    border-radius: 50%;\n",
              "    cursor: pointer;\n",
              "    display: none;\n",
              "    fill: var(--fill-color);\n",
              "    height: 32px;\n",
              "    padding: 0;\n",
              "    width: 32px;\n",
              "  }\n",
              "\n",
              "  .colab-df-quickchart:hover {\n",
              "    background-color: var(--hover-bg-color);\n",
              "    box-shadow: 0 1px 2px rgba(60, 64, 67, 0.3), 0 1px 3px 1px rgba(60, 64, 67, 0.15);\n",
              "    fill: var(--button-hover-fill-color);\n",
              "  }\n",
              "\n",
              "  .colab-df-quickchart-complete:disabled,\n",
              "  .colab-df-quickchart-complete:disabled:hover {\n",
              "    background-color: var(--disabled-bg-color);\n",
              "    fill: var(--disabled-fill-color);\n",
              "    box-shadow: none;\n",
              "  }\n",
              "\n",
              "  .colab-df-spinner {\n",
              "    border: 2px solid var(--fill-color);\n",
              "    border-color: transparent;\n",
              "    border-bottom-color: var(--fill-color);\n",
              "    animation:\n",
              "      spin 1s steps(1) infinite;\n",
              "  }\n",
              "\n",
              "  @keyframes spin {\n",
              "    0% {\n",
              "      border-color: transparent;\n",
              "      border-bottom-color: var(--fill-color);\n",
              "      border-left-color: var(--fill-color);\n",
              "    }\n",
              "    20% {\n",
              "      border-color: transparent;\n",
              "      border-left-color: var(--fill-color);\n",
              "      border-top-color: var(--fill-color);\n",
              "    }\n",
              "    30% {\n",
              "      border-color: transparent;\n",
              "      border-left-color: var(--fill-color);\n",
              "      border-top-color: var(--fill-color);\n",
              "      border-right-color: var(--fill-color);\n",
              "    }\n",
              "    40% {\n",
              "      border-color: transparent;\n",
              "      border-right-color: var(--fill-color);\n",
              "      border-top-color: var(--fill-color);\n",
              "    }\n",
              "    60% {\n",
              "      border-color: transparent;\n",
              "      border-right-color: var(--fill-color);\n",
              "    }\n",
              "    80% {\n",
              "      border-color: transparent;\n",
              "      border-right-color: var(--fill-color);\n",
              "      border-bottom-color: var(--fill-color);\n",
              "    }\n",
              "    90% {\n",
              "      border-color: transparent;\n",
              "      border-bottom-color: var(--fill-color);\n",
              "    }\n",
              "  }\n",
              "</style>\n",
              "\n",
              "  <script>\n",
              "    async function quickchart(key) {\n",
              "      const quickchartButtonEl =\n",
              "        document.querySelector('#' + key + ' button');\n",
              "      quickchartButtonEl.disabled = true;  // To prevent multiple clicks.\n",
              "      quickchartButtonEl.classList.add('colab-df-spinner');\n",
              "      try {\n",
              "        const charts = await google.colab.kernel.invokeFunction(\n",
              "            'suggestCharts', [key], {});\n",
              "      } catch (error) {\n",
              "        console.error('Error during call to suggestCharts:', error);\n",
              "      }\n",
              "      quickchartButtonEl.classList.remove('colab-df-spinner');\n",
              "      quickchartButtonEl.classList.add('colab-df-quickchart-complete');\n",
              "    }\n",
              "    (() => {\n",
              "      let quickchartButtonEl =\n",
              "        document.querySelector('#df-de0861b2-d0a2-4393-a5dd-e914cec5c3dc button');\n",
              "      quickchartButtonEl.style.display =\n",
              "        google.colab.kernel.accessAllowed ? 'block' : 'none';\n",
              "    })();\n",
              "  </script>\n",
              "</div>\n",
              "\n",
              "  <div id=\"id_a0970bee-3e75-45f0-adf8-fe33e2a7519e\">\n",
              "    <style>\n",
              "      .colab-df-generate {\n",
              "        background-color: #E8F0FE;\n",
              "        border: none;\n",
              "        border-radius: 50%;\n",
              "        cursor: pointer;\n",
              "        display: none;\n",
              "        fill: #1967D2;\n",
              "        height: 32px;\n",
              "        padding: 0 0 0 0;\n",
              "        width: 32px;\n",
              "      }\n",
              "\n",
              "      .colab-df-generate:hover {\n",
              "        background-color: #E2EBFA;\n",
              "        box-shadow: 0px 1px 2px rgba(60, 64, 67, 0.3), 0px 1px 3px 1px rgba(60, 64, 67, 0.15);\n",
              "        fill: #174EA6;\n",
              "      }\n",
              "\n",
              "      [theme=dark] .colab-df-generate {\n",
              "        background-color: #3B4455;\n",
              "        fill: #D2E3FC;\n",
              "      }\n",
              "\n",
              "      [theme=dark] .colab-df-generate:hover {\n",
              "        background-color: #434B5C;\n",
              "        box-shadow: 0px 1px 3px 1px rgba(0, 0, 0, 0.15);\n",
              "        filter: drop-shadow(0px 1px 2px rgba(0, 0, 0, 0.3));\n",
              "        fill: #FFFFFF;\n",
              "      }\n",
              "    </style>\n",
              "    <button class=\"colab-df-generate\" onclick=\"generateWithVariable('total_streams_by_artist')\"\n",
              "            title=\"Generate code using this dataframe.\"\n",
              "            style=\"display:none;\">\n",
              "\n",
              "  <svg xmlns=\"http://www.w3.org/2000/svg\" height=\"24px\"viewBox=\"0 0 24 24\"\n",
              "       width=\"24px\">\n",
              "    <path d=\"M7,19H8.4L18.45,9,17,7.55,7,17.6ZM5,21V16.75L18.45,3.32a2,2,0,0,1,2.83,0l1.4,1.43a1.91,1.91,0,0,1,.58,1.4,1.91,1.91,0,0,1-.58,1.4L9.25,21ZM18.45,9,17,7.55Zm-12,3A5.31,5.31,0,0,0,4.9,8.1,5.31,5.31,0,0,0,1,6.5,5.31,5.31,0,0,0,4.9,4.9,5.31,5.31,0,0,0,6.5,1,5.31,5.31,0,0,0,8.1,4.9,5.31,5.31,0,0,0,12,6.5,5.46,5.46,0,0,0,6.5,12Z\"/>\n",
              "  </svg>\n",
              "    </button>\n",
              "    <script>\n",
              "      (() => {\n",
              "      const buttonEl =\n",
              "        document.querySelector('#id_a0970bee-3e75-45f0-adf8-fe33e2a7519e button.colab-df-generate');\n",
              "      buttonEl.style.display =\n",
              "        google.colab.kernel.accessAllowed ? 'block' : 'none';\n",
              "\n",
              "      buttonEl.onclick = () => {\n",
              "        google.colab.notebook.generateWithVariable('total_streams_by_artist');\n",
              "      }\n",
              "      })();\n",
              "    </script>\n",
              "  </div>\n",
              "\n",
              "    </div>\n",
              "  </div>\n"
            ],
            "application/vnd.google.colaboratory.intrinsic+json": {
              "type": "dataframe",
              "variable_name": "total_streams_by_artist",
              "summary": "{\n  \"name\": \"total_streams_by_artist\",\n  \"rows\": 643,\n  \"fields\": [\n    {\n      \"column\": \"artist_s__name\",\n      \"properties\": {\n        \"dtype\": \"string\",\n        \"num_unique_values\": 643,\n        \"samples\": [\n          \"HA SUNG WOON, JIMIN\",\n          \"DAVID GUETTA, ANNE-MARIE, COI LERAY\",\n          \"BEBE REXHA, DAVID GUETTA\"\n        ],\n        \"semantic_type\": \"\",\n        \"description\": \"\"\n      }\n    },\n    {\n      \"column\": \"qnt\",\n      \"properties\": {\n        \"dtype\": \"number\",\n        \"std\": 2,\n        \"min\": 1,\n        \"max\": 34,\n        \"num_unique_values\": 15,\n        \"samples\": [\n          6,\n          4,\n          34\n        ],\n        \"semantic_type\": \"\",\n        \"description\": \"\"\n      }\n    },\n    {\n      \"column\": \"streams_int\",\n      \"properties\": {\n        \"dtype\": \"number\",\n        \"std\": 1395142168,\n        \"min\": 2762,\n        \"max\": 14053658300,\n        \"num_unique_values\": 640,\n        \"samples\": [\n          245095641,\n          198883004,\n          956865266\n        ],\n        \"semantic_type\": \"\",\n        \"description\": \"\"\n      }\n    }\n  ]\n}"
            }
          },
          "metadata": {},
          "execution_count": 67
        }
      ]
    },
    {
      "cell_type": "code",
      "source": [
        "# Correlação de Spearman (total de músicas por artista vs streams):\n",
        "\n",
        "correlation_streams_by_artist = total_streams_by_artist['streams_int'].corr(total_streams_by_artist['qnt'], method='spearman')\n",
        "print('Correlação de Spearman:', correlation_streams_by_artist)"
      ],
      "metadata": {
        "colab": {
          "base_uri": "https://localhost:8080/"
        },
        "id": "asdpwy5Sf74U",
        "outputId": "fe5c3368-9262-4bb4-95ab-8c045de07ce8"
      },
      "execution_count": null,
      "outputs": [
        {
          "output_type": "stream",
          "name": "stdout",
          "text": [
            "Correlação de Spearman: 0.4480950151832505\n"
          ]
        }
      ]
    },
    {
      "cell_type": "markdown",
      "source": [
        "### **Regressão Linear**"
      ],
      "metadata": {
        "id": "OgwpmlktLNX8"
      }
    },
    {
      "cell_type": "code",
      "source": [
        "#Separando as variáveis X e Y\n",
        "\n",
        "x_streams_by_artist = total_streams_by_artist['qnt'].values\n",
        "y_streams_by_artist = total_streams_by_artist['streams_int'].values"
      ],
      "metadata": {
        "id": "9n97FR8xLN-N"
      },
      "execution_count": null,
      "outputs": []
    },
    {
      "cell_type": "code",
      "source": [
        "plt.scatter(x_streams_by_artist, y_streams_by_artist)\n",
        "plt.show()\n",
        "\n",
        "r = pearsonr(x_streams_by_artist, y_streams_by_artist)\n",
        "print(f'Coeficiente de correlação: {r}')"
      ],
      "metadata": {
        "colab": {
          "base_uri": "https://localhost:8080/"
        },
        "id": "_E30l1rILv6r",
        "outputId": "eddd3f37-00fb-4ca6-e44f-954e24ca414d"
      },
      "execution_count": null,
      "outputs": [
        {
          "output_type": "display_data",
          "data": {
            "text/plain": [
              "<Figure size 640x480 with 1 Axes>"
            ],
            "image/png": "[encoded data removed]"
          },
          "metadata": {}
        },
        {
          "output_type": "stream",
          "name": "stdout",
          "text": [
            "Coeficiente de correlação: PearsonRResult(statistic=0.7783683849468839, pvalue=1.0319194369044627e-131)\n"
          ]
        }
      ]
    },
    {
      "cell_type": "code",
      "source": [
        "#Separando dados de treino e de teste\n",
        "#utilizamos 70% dos dados para treino e o restante (30%) para teste.\n",
        "x_train_streamsByArtist, x_test_streamsByArtist, y_train_streamsByArtist, y_test_streamsByArtist = train_test_split(x_streams_by_artist, y_streams_by_artist, test_size=0.3)\n",
        "\n",
        "#Precisamos redimensionar os dados para fazer a regressão linear\n",
        "x_train_streamsByArtist=x_train_streamsByArtist.reshape(-1,1)\n",
        "y_train_streamsByArtist=y_train_streamsByArtist.reshape(-1,1)\n",
        "x_test_streamsByArtist=x_test_streamsByArtist.reshape(-1,1)\n",
        "y_test_streamsByArtist=y_test_streamsByArtist.reshape(-1,1)"
      ],
      "metadata": {
        "id": "an1t301DMAhw"
      },
      "execution_count": null,
      "outputs": []
    },
    {
      "cell_type": "code",
      "source": [
        "#treinando o modelo\n",
        "reg = LinearRegression()\n",
        "reg.fit(x_train_streamsByArtist,y_train_streamsByArtist)\n",
        "pred = reg.predict(x_test_streamsByArtist)"
      ],
      "metadata": {
        "id": "B582ufcUMtlJ"
      },
      "execution_count": null,
      "outputs": []
    },
    {
      "cell_type": "code",
      "source": [
        "plt.scatter(x_streams_by_artist, y_streams_by_artist, color=\"blue\")\n",
        "plt.plot(x_test_streamsByArtist, pred, color=\"red\")\n",
        "plt.title(\"Título do gráfico\")\n",
        "plt.xlabel(\"Total de músicas por artista\")\n",
        "plt.ylabel(\"Streams\")"
      ],
      "metadata": {
        "colab": {
          "base_uri": "https://localhost:8080/"
        },
        "id": "cMI0qMF_NDXs",
        "outputId": "10875f73-2ebe-43d3-9ccf-4c587db639b5"
      },
      "execution_count": null,
      "outputs": [
        {
          "output_type": "execute_result",
          "data": {
            "text/plain": [
              "Text(0, 0.5, 'Streams')"
            ]
          },
          "metadata": {},
          "execution_count": 73
        },
        {
          "output_type": "display_data",
          "data": {
            "text/plain": [
              "<Figure size 640x480 with 1 Axes>"
            ],
            "image/png": "[encoded data removed]"
          },
          "metadata": {}
        }
      ]
    },
    {
      "cell_type": "markdown",
      "source": [
        "# **Teste de hipóteses (total de artistas por música)**"
      ],
      "metadata": {
        "id": "7n0DxSaLxq-O"
      }
    },
    {
      "cell_type": "markdown",
      "source": [
        "↪ O total de artistas envolvidos em uma música tem relação com o total de streams? ✅"
      ],
      "metadata": {
        "id": "22oDAtHU495k"
      }
    },
    {
      "cell_type": "code",
      "source": [
        "filtered_data = joined_table_quartiles.query(\"artist_count == 1\")\n",
        "music_solo = filtered_data[[\"track_name\", \"artist_count\"]]\n",
        "music_solo"
      ],
      "metadata": {
        "colab": {
          "base_uri": "https://localhost:8080/",
          "height": 423
        },
        "id": "o6tukm-mv8OB",
        "outputId": "6b40d9aa-beba-4036-de89-9e9beca60ffa"
      },
      "execution_count": null,
      "outputs": [
        {
          "output_type": "execute_result",
          "data": {
            "text/plain": [
              "           track_name  artist_count\n",
              "0        HEY, MICKEY!             1\n",
              "1          STILL LIFE             1\n",
              "2           FOR YOUTH             1\n",
              "3       MISERABLE MAN             1\n",
              "4          BOYFRIENDS             1\n",
              "..                ...           ...\n",
              "886         KILL BILL             1\n",
              "887      CRUEL SUMMER             1\n",
              "888  I WANNA BE YOURS             1\n",
              "889           FLOWERS             1\n",
              "890         AS IT WAS             1\n",
              "\n",
              "[582 rows x 2 columns]"
            ],
            "text/html": [
              "\n",
              "  <div id=\"df-c8f687b0-dfa5-4cfc-9e0a-5012b5ece2b8\" class=\"colab-df-container\">\n",
              "    <div>\n",
              "<style scoped>\n",
              "    .dataframe tbody tr th:only-of-type {\n",
              "        vertical-align: middle;\n",
              "    }\n",
              "\n",
              "    .dataframe tbody tr th {\n",
              "        vertical-align: top;\n",
              "    }\n",
              "\n",
              "    .dataframe thead th {\n",
              "        text-align: right;\n",
              "    }\n",
              "</style>\n",
              "<table border=\"1\" class=\"dataframe\">\n",
              "  <thead>\n",
              "    <tr style=\"text-align: right;\">\n",
              "      <th></th>\n",
              "      <th>track_name</th>\n",
              "      <th>artist_count</th>\n",
              "    </tr>\n",
              "  </thead>\n",
              "  <tbody>\n",
              "    <tr>\n",
              "      <th>0</th>\n",
              "      <td>HEY, MICKEY!</td>\n",
              "      <td>1</td>\n",
              "    </tr>\n",
              "    <tr>\n",
              "      <th>1</th>\n",
              "      <td>STILL LIFE</td>\n",
              "      <td>1</td>\n",
              "    </tr>\n",
              "    <tr>\n",
              "      <th>2</th>\n",
              "      <td>FOR YOUTH</td>\n",
              "      <td>1</td>\n",
              "    </tr>\n",
              "    <tr>\n",
              "      <th>3</th>\n",
              "      <td>MISERABLE MAN</td>\n",
              "      <td>1</td>\n",
              "    </tr>\n",
              "    <tr>\n",
              "      <th>4</th>\n",
              "      <td>BOYFRIENDS</td>\n",
              "      <td>1</td>\n",
              "    </tr>\n",
              "    <tr>\n",
              "      <th>...</th>\n",
              "      <td>...</td>\n",
              "      <td>...</td>\n",
              "    </tr>\n",
              "    <tr>\n",
              "      <th>886</th>\n",
              "      <td>KILL BILL</td>\n",
              "      <td>1</td>\n",
              "    </tr>\n",
              "    <tr>\n",
              "      <th>887</th>\n",
              "      <td>CRUEL SUMMER</td>\n",
              "      <td>1</td>\n",
              "    </tr>\n",
              "    <tr>\n",
              "      <th>888</th>\n",
              "      <td>I WANNA BE YOURS</td>\n",
              "      <td>1</td>\n",
              "    </tr>\n",
              "    <tr>\n",
              "      <th>889</th>\n",
              "      <td>FLOWERS</td>\n",
              "      <td>1</td>\n",
              "    </tr>\n",
              "    <tr>\n",
              "      <th>890</th>\n",
              "      <td>AS IT WAS</td>\n",
              "      <td>1</td>\n",
              "    </tr>\n",
              "  </tbody>\n",
              "</table>\n",
              "<p>582 rows × 2 columns</p>\n",
              "</div>\n",
              "    <div class=\"colab-df-buttons\">\n",
              "\n",
              "  <div class=\"colab-df-container\">\n",
              "    <button class=\"colab-df-convert\" onclick=\"convertToInteractive('df-c8f687b0-dfa5-4cfc-9e0a-5012b5ece2b8')\"\n",
              "            title=\"Convert this dataframe to an interactive table.\"\n",
              "            style=\"display:none;\">\n",
              "\n",
              "  <svg xmlns=\"http://www.w3.org/2000/svg\" height=\"24px\" viewBox=\"0 -960 960 960\">\n",
              "    <path d=\"M120-120v-720h720v720H120Zm60-500h600v-160H180v160Zm220 220h160v-160H400v160Zm0 220h160v-160H400v160ZM180-400h160v-160H180v160Zm440 0h160v-160H620v160ZM180-180h160v-160H180v160Zm440 0h160v-160H620v160Z\"/>\n",
              "  </svg>\n",
              "    </button>\n",
              "\n",
              "  <style>\n",
              "    .colab-df-container {\n",
              "      display:flex;\n",
              "      gap: 12px;\n",
              "    }\n",
              "\n",
              "    .colab-df-convert {\n",
              "      background-color: #E8F0FE;\n",
              "      border: none;\n",
              "      border-radius: 50%;\n",
              "      cursor: pointer;\n",
              "      display: none;\n",
              "      fill: #1967D2;\n",
              "      height: 32px;\n",
              "      padding: 0 0 0 0;\n",
              "      width: 32px;\n",
              "    }\n",
              "\n",
              "    .colab-df-convert:hover {\n",
              "      background-color: #E2EBFA;\n",
              "      box-shadow: 0px 1px 2px rgba(60, 64, 67, 0.3), 0px 1px 3px 1px rgba(60, 64, 67, 0.15);\n",
              "      fill: #174EA6;\n",
              "    }\n",
              "\n",
              "    .colab-df-buttons div {\n",
              "      margin-bottom: 4px;\n",
              "    }\n",
              "\n",
              "    [theme=dark] .colab-df-convert {\n",
              "      background-color: #3B4455;\n",
              "      fill: #D2E3FC;\n",
              "    }\n",
              "\n",
              "    [theme=dark] .colab-df-convert:hover {\n",
              "      background-color: #434B5C;\n",
              "      box-shadow: 0px 1px 3px 1px rgba(0, 0, 0, 0.15);\n",
              "      filter: drop-shadow(0px 1px 2px rgba(0, 0, 0, 0.3));\n",
              "      fill: #FFFFFF;\n",
              "    }\n",
              "  </style>\n",
              "\n",
              "    <script>\n",
              "      const buttonEl =\n",
              "        document.querySelector('#df-c8f687b0-dfa5-4cfc-9e0a-5012b5ece2b8 button.colab-df-convert');\n",
              "      buttonEl.style.display =\n",
              "        google.colab.kernel.accessAllowed ? 'block' : 'none';\n",
              "\n",
              "      async function convertToInteractive(key) {\n",
              "        const element = document.querySelector('#df-c8f687b0-dfa5-4cfc-9e0a-5012b5ece2b8');\n",
              "        const dataTable =\n",
              "          await google.colab.kernel.invokeFunction('convertToInteractive',\n",
              "                                                    [key], {});\n",
              "        if (!dataTable) return;\n",
              "\n",
              "        const docLinkHtml = 'Like what you see? Visit the ' +\n",
              "          '<a target=\"_blank\" href=https://colab.research.google.com/notebooks/data_table.ipynb>data table notebook</a>'\n",
              "          + ' to learn more about interactive tables.';\n",
              "        element.innerHTML = '';\n",
              "        dataTable['output_type'] = 'display_data';\n",
              "        await google.colab.output.renderOutput(dataTable, element);\n",
              "        const docLink = document.createElement('div');\n",
              "        docLink.innerHTML = docLinkHtml;\n",
              "        element.appendChild(docLink);\n",
              "      }\n",
              "    </script>\n",
              "  </div>\n",
              "\n",
              "\n",
              "<div id=\"df-ad24283f-292b-430f-b712-3f199bf03b99\">\n",
              "  <button class=\"colab-df-quickchart\" onclick=\"quickchart('df-ad24283f-292b-430f-b712-3f199bf03b99')\"\n",
              "            title=\"Suggest charts\"\n",
              "            style=\"display:none;\">\n",
              "\n",
              "<svg xmlns=\"http://www.w3.org/2000/svg\" height=\"24px\"viewBox=\"0 0 24 24\"\n",
              "     width=\"24px\">\n",
              "    <g>\n",
              "        <path d=\"M19 3H5c-1.1 0-2 .9-2 2v14c0 1.1.9 2 2 2h14c1.1 0 2-.9 2-2V5c0-1.1-.9-2-2-2zM9 17H7v-7h2v7zm4 0h-2V7h2v10zm4 0h-2v-4h2v4z\"/>\n",
              "    </g>\n",
              "</svg>\n",
              "  </button>\n",
              "\n",
              "<style>\n",
              "  .colab-df-quickchart {\n",
              "      --bg-color: #E8F0FE;\n",
              "      --fill-color: #1967D2;\n",
              "      --hover-bg-color: #E2EBFA;\n",
              "      --hover-fill-color: #174EA6;\n",
              "      --disabled-fill-color: #AAA;\n",
              "      --disabled-bg-color: #DDD;\n",
              "  }\n",
              "\n",
              "  [theme=dark] .colab-df-quickchart {\n",
              "      --bg-color: #3B4455;\n",
              "      --fill-color: #D2E3FC;\n",
              "      --hover-bg-color: #434B5C;\n",
              "      --hover-fill-color: #FFFFFF;\n",
              "      --disabled-bg-color: #3B4455;\n",
              "      --disabled-fill-color: #666;\n",
              "  }\n",
              "\n",
              "  .colab-df-quickchart {\n",
              "    background-color: var(--bg-color);\n",
              "    border: none;\n",
              "    border-radius: 50%;\n",
              "    cursor: pointer;\n",
              "    display: none;\n",
              "    fill: var(--fill-color);\n",
              "    height: 32px;\n",
              "    padding: 0;\n",
              "    width: 32px;\n",
              "  }\n",
              "\n",
              "  .colab-df-quickchart:hover {\n",
              "    background-color: var(--hover-bg-color);\n",
              "    box-shadow: 0 1px 2px rgba(60, 64, 67, 0.3), 0 1px 3px 1px rgba(60, 64, 67, 0.15);\n",
              "    fill: var(--button-hover-fill-color);\n",
              "  }\n",
              "\n",
              "  .colab-df-quickchart-complete:disabled,\n",
              "  .colab-df-quickchart-complete:disabled:hover {\n",
              "    background-color: var(--disabled-bg-color);\n",
              "    fill: var(--disabled-fill-color);\n",
              "    box-shadow: none;\n",
              "  }\n",
              "\n",
              "  .colab-df-spinner {\n",
              "    border: 2px solid var(--fill-color);\n",
              "    border-color: transparent;\n",
              "    border-bottom-color: var(--fill-color);\n",
              "    animation:\n",
              "      spin 1s steps(1) infinite;\n",
              "  }\n",
              "\n",
              "  @keyframes spin {\n",
              "    0% {\n",
              "      border-color: transparent;\n",
              "      border-bottom-color: var(--fill-color);\n",
              "      border-left-color: var(--fill-color);\n",
              "    }\n",
              "    20% {\n",
              "      border-color: transparent;\n",
              "      border-left-color: var(--fill-color);\n",
              "      border-top-color: var(--fill-color);\n",
              "    }\n",
              "    30% {\n",
              "      border-color: transparent;\n",
              "      border-left-color: var(--fill-color);\n",
              "      border-top-color: var(--fill-color);\n",
              "      border-right-color: var(--fill-color);\n",
              "    }\n",
              "    40% {\n",
              "      border-color: transparent;\n",
              "      border-right-color: var(--fill-color);\n",
              "      border-top-color: var(--fill-color);\n",
              "    }\n",
              "    60% {\n",
              "      border-color: transparent;\n",
              "      border-right-color: var(--fill-color);\n",
              "    }\n",
              "    80% {\n",
              "      border-color: transparent;\n",
              "      border-right-color: var(--fill-color);\n",
              "      border-bottom-color: var(--fill-color);\n",
              "    }\n",
              "    90% {\n",
              "      border-color: transparent;\n",
              "      border-bottom-color: var(--fill-color);\n",
              "    }\n",
              "  }\n",
              "</style>\n",
              "\n",
              "  <script>\n",
              "    async function quickchart(key) {\n",
              "      const quickchartButtonEl =\n",
              "        document.querySelector('#' + key + ' button');\n",
              "      quickchartButtonEl.disabled = true;  // To prevent multiple clicks.\n",
              "      quickchartButtonEl.classList.add('colab-df-spinner');\n",
              "      try {\n",
              "        const charts = await google.colab.kernel.invokeFunction(\n",
              "            'suggestCharts', [key], {});\n",
              "      } catch (error) {\n",
              "        console.error('Error during call to suggestCharts:', error);\n",
              "      }\n",
              "      quickchartButtonEl.classList.remove('colab-df-spinner');\n",
              "      quickchartButtonEl.classList.add('colab-df-quickchart-complete');\n",
              "    }\n",
              "    (() => {\n",
              "      let quickchartButtonEl =\n",
              "        document.querySelector('#df-ad24283f-292b-430f-b712-3f199bf03b99 button');\n",
              "      quickchartButtonEl.style.display =\n",
              "        google.colab.kernel.accessAllowed ? 'block' : 'none';\n",
              "    })();\n",
              "  </script>\n",
              "</div>\n",
              "\n",
              "  <div id=\"id_622c3509-408c-439a-8642-16fdc998a3c3\">\n",
              "    <style>\n",
              "      .colab-df-generate {\n",
              "        background-color: #E8F0FE;\n",
              "        border: none;\n",
              "        border-radius: 50%;\n",
              "        cursor: pointer;\n",
              "        display: none;\n",
              "        fill: #1967D2;\n",
              "        height: 32px;\n",
              "        padding: 0 0 0 0;\n",
              "        width: 32px;\n",
              "      }\n",
              "\n",
              "      .colab-df-generate:hover {\n",
              "        background-color: #E2EBFA;\n",
              "        box-shadow: 0px 1px 2px rgba(60, 64, 67, 0.3), 0px 1px 3px 1px rgba(60, 64, 67, 0.15);\n",
              "        fill: #174EA6;\n",
              "      }\n",
              "\n",
              "      [theme=dark] .colab-df-generate {\n",
              "        background-color: #3B4455;\n",
              "        fill: #D2E3FC;\n",
              "      }\n",
              "\n",
              "      [theme=dark] .colab-df-generate:hover {\n",
              "        background-color: #434B5C;\n",
              "        box-shadow: 0px 1px 3px 1px rgba(0, 0, 0, 0.15);\n",
              "        filter: drop-shadow(0px 1px 2px rgba(0, 0, 0, 0.3));\n",
              "        fill: #FFFFFF;\n",
              "      }\n",
              "    </style>\n",
              "    <button class=\"colab-df-generate\" onclick=\"generateWithVariable('music_solo')\"\n",
              "            title=\"Generate code using this dataframe.\"\n",
              "            style=\"display:none;\">\n",
              "\n",
              "  <svg xmlns=\"http://www.w3.org/2000/svg\" height=\"24px\"viewBox=\"0 0 24 24\"\n",
              "       width=\"24px\">\n",
              "    <path d=\"M7,19H8.4L18.45,9,17,7.55,7,17.6ZM5,21V16.75L18.45,3.32a2,2,0,0,1,2.83,0l1.4,1.43a1.91,1.91,0,0,1,.58,1.4,1.91,1.91,0,0,1-.58,1.4L9.25,21ZM18.45,9,17,7.55Zm-12,3A5.31,5.31,0,0,0,4.9,8.1,5.31,5.31,0,0,0,1,6.5,5.31,5.31,0,0,0,4.9,4.9,5.31,5.31,0,0,0,6.5,1,5.31,5.31,0,0,0,8.1,4.9,5.31,5.31,0,0,0,12,6.5,5.46,5.46,0,0,0,6.5,12Z\"/>\n",
              "  </svg>\n",
              "    </button>\n",
              "    <script>\n",
              "      (() => {\n",
              "      const buttonEl =\n",
              "        document.querySelector('#id_622c3509-408c-439a-8642-16fdc998a3c3 button.colab-df-generate');\n",
              "      buttonEl.style.display =\n",
              "        google.colab.kernel.accessAllowed ? 'block' : 'none';\n",
              "\n",
              "      buttonEl.onclick = () => {\n",
              "        google.colab.notebook.generateWithVariable('music_solo');\n",
              "      }\n",
              "      })();\n",
              "    </script>\n",
              "  </div>\n",
              "\n",
              "    </div>\n",
              "  </div>\n"
            ],
            "application/vnd.google.colaboratory.intrinsic+json": {
              "type": "dataframe",
              "variable_name": "music_solo",
              "summary": "{\n  \"name\": \"music_solo\",\n  \"rows\": 582,\n  \"fields\": [\n    {\n      \"column\": \"track_name\",\n      \"properties\": {\n        \"dtype\": \"string\",\n        \"num_unique_values\": 577,\n        \"samples\": [\n          \"THINKING OUT LOUD\",\n          \"THE FEELS\",\n          \"TODO DE TI\"\n        ],\n        \"semantic_type\": \"\",\n        \"description\": \"\"\n      }\n    },\n    {\n      \"column\": \"artist_count\",\n      \"properties\": {\n        \"dtype\": \"number\",\n        \"std\": 0,\n        \"min\": 1,\n        \"max\": 1,\n        \"num_unique_values\": 1,\n        \"samples\": [\n          1\n        ],\n        \"semantic_type\": \"\",\n        \"description\": \"\"\n      }\n    }\n  ]\n}"
            }
          },
          "metadata": {},
          "execution_count": 74
        }
      ]
    },
    {
      "cell_type": "code",
      "source": [
        "# Streams onde artist_count é 1:\n",
        "streams_music_solo = joined_table_quartiles[[\"streams_int\",\"artist_count\"]].query(\"artist_count == 1\")[\"streams_int\"]\n",
        "streams_music_solo"
      ],
      "metadata": {
        "colab": {
          "base_uri": "https://localhost:8080/"
        },
        "id": "QcyypZ2Kx4V0",
        "outputId": "4d8c91a9-cd7f-46ec-a760-f6ffad0d5ee9"
      },
      "execution_count": null,
      "outputs": [
        {
          "output_type": "execute_result",
          "data": {
            "text/plain": [
              "0       122763672\n",
              "1        53909146\n",
              "2       114546317\n",
              "3       124407432\n",
              "4       137070925\n",
              "          ...    \n",
              "886    1163093654\n",
              "887     800840817\n",
              "888    1297026226\n",
              "889    1316855716\n",
              "890    2513188493\n",
              "Name: streams_int, Length: 582, dtype: int64"
            ]
          },
          "metadata": {},
          "execution_count": 75
        }
      ]
    },
    {
      "cell_type": "code",
      "source": [
        "# Streams onde artist_count é maior que 1:\n",
        "streams_music_feat = joined_table_quartiles[[\"streams_int\",\"artist_count\"]].query(\"artist_count > 1\")[\"streams_int\"]\n",
        "streams_music_feat"
      ],
      "metadata": {
        "colab": {
          "base_uri": "https://localhost:8080/"
        },
        "id": "uxYx2AJEzIBQ",
        "outputId": "1cef5f66-7e8d-41d2-fde0-391415ab38f3"
      },
      "execution_count": null,
      "outputs": [
        {
          "output_type": "execute_result",
          "data": {
            "text/plain": [
              "39      139836056\n",
              "40       78139948\n",
              "41       33381454\n",
              "42      123216717\n",
              "43       71095708\n",
              "          ...    \n",
              "942    1953533826\n",
              "943    1047101291\n",
              "944     843957510\n",
              "945     863756573\n",
              "946    1223481149\n",
              "Name: streams_int, Length: 365, dtype: int64"
            ]
          },
          "metadata": {},
          "execution_count": 76
        }
      ]
    },
    {
      "cell_type": "code",
      "source": [
        "# Separando por grupos de 300:\n",
        "streams_music_solo_sample = streams_music_solo.sample(300)\n",
        "streams_music_feat_sample = streams_music_feat.sample(300)"
      ],
      "metadata": {
        "id": "Hi2ZklQ7zinc"
      },
      "execution_count": null,
      "outputs": []
    },
    {
      "cell_type": "code",
      "source": [
        "# Teste de Mann-Whitney/U:\n",
        "stat, p_value = mannwhitneyu(streams_music_solo_sample, streams_music_feat_sample)\n",
        "\n",
        "# Resultado:\n",
        "print(f'Estatística U: {stat}')\n",
        "print(f'Valor p: {p_value}')\n",
        "\n",
        "if p_value < 0.05:\n",
        "    print('Interpretação: As amostras são significativamente diferentes (p < 0.05).')\n",
        "else:\n",
        "    print('Interpretação: As amostras não são significativamente diferentes (p >= 0.05).')"
      ],
      "metadata": {
        "colab": {
          "base_uri": "https://localhost:8080/"
        },
        "id": "CoABQRhaz5f2",
        "outputId": "d7cf1060-e2a2-4b2e-d4b0-eb92b9c00ecb"
      },
      "execution_count": null,
      "outputs": [
        {
          "output_type": "stream",
          "name": "stdout",
          "text": [
            "Estatística U: 53897.5\n",
            "Valor p: 2.782234378533185e-05\n",
            "Interpretação: As amostras são significativamente diferentes (p < 0.05).\n"
          ]
        }
      ]
    },
    {
      "cell_type": "code",
      "source": [
        "sns.scatterplot(data=joined_table_quartiles, x='streams_int', y='artist_count')"
      ],
      "metadata": {
        "colab": {
          "base_uri": "https://localhost:8080/",
          "height": 467
        },
        "id": "najhnmIB0Su9",
        "outputId": "ea6f6bdd-1847-4eb2-f01b-695dac7a3283"
      },
      "execution_count": null,
      "outputs": [
        {
          "output_type": "execute_result",
          "data": {
            "text/plain": [
              "<Axes: xlabel='streams_int', ylabel='artist_count'>"
            ]
          },
          "metadata": {},
          "execution_count": 79
        },
        {
          "output_type": "display_data",
          "data": {
            "text/plain": [
              "<Figure size 640x480 with 1 Axes>"
            ],
            "image/png": "[encoded data removed]"
          },
          "metadata": {}
        }
      ]
    },
    {
      "cell_type": "markdown",
      "source": [
        "### **Regressão Linear**"
      ],
      "metadata": {
        "id": "MfXptr3jQB7a"
      }
    },
    {
      "cell_type": "code",
      "source": [
        "#Separando as variáveis X e Y\n",
        "\n",
        "x_musics_by_artist = joined_table_quartiles['artist_count'].values\n",
        "y_musics_by_artist = joined_table_quartiles['streams_int'].values"
      ],
      "metadata": {
        "id": "PmNfNhjJQEc-"
      },
      "execution_count": null,
      "outputs": []
    },
    {
      "cell_type": "code",
      "source": [
        "plt.scatter(x_musics_by_artist, y_musics_by_artist)\n",
        "plt.show()\n",
        "\n",
        "r = pearsonr(x_musics_by_artist, y_musics_by_artist)\n",
        "print(f'Coeficiente de correlação: {r}')"
      ],
      "metadata": {
        "colab": {
          "base_uri": "https://localhost:8080/",
          "height": 462
        },
        "id": "RfKagxvYR_5L",
        "outputId": "398f5625-dd1b-41a7-8730-4c0ce1233aae"
      },
      "execution_count": null,
      "outputs": [
        {
          "output_type": "display_data",
          "data": {
            "text/plain": [
              "<Figure size 640x480 with 1 Axes>"
            ],
            "image/png": "[encoded data removed]"
          },
          "metadata": {}
        },
        {
          "output_type": "stream",
          "name": "stdout",
          "text": [
            "Coeficiente de correlação: PearsonRResult(statistic=-0.13632653956816745, pvalue=2.5610421644090818e-05)\n"
          ]
        }
      ]
    },
    {
      "cell_type": "code",
      "source": [
        "#Separando dados de treino e de teste\n",
        "#utilizamos 70% dos dados para treino e o restante (30%) para teste.\n",
        "x_train_musicsByArtist, x_test_musicsByArtist, y_train_musicsByArtist, y_test_musicsByArtist = train_test_split(x_musics_by_artist, y_musics_by_artist, test_size=0.3)\n",
        "\n",
        "#Precisamos redimensionar os dados para fazer a regressão linear\n",
        "x_train_musicsByArtist=x_train_musicsByArtist.reshape(-1,1)\n",
        "y_train_musicsByArtist=y_train_musicsByArtist.reshape(-1,1)\n",
        "x_test_musicsByArtist=x_test_musicsByArtist.reshape(-1,1)\n",
        "y_test_musicsByArtist=y_test_musicsByArtist.reshape(-1,1)"
      ],
      "metadata": {
        "id": "9y1UoFFQTcTS"
      },
      "execution_count": null,
      "outputs": []
    },
    {
      "cell_type": "code",
      "source": [
        "#treinando o modelo\n",
        "reg = LinearRegression()\n",
        "reg.fit(x_train_musicsByArtist,y_train_musicsByArtist)\n",
        "pred = reg.predict(x_test_musicsByArtist)"
      ],
      "metadata": {
        "id": "BhsY7wpcU3QX"
      },
      "execution_count": null,
      "outputs": []
    },
    {
      "cell_type": "code",
      "source": [
        "plt.scatter(x_musics_by_artist, y_musics_by_artist, color=\"blue\")\n",
        "plt.plot(x_test_musicsByArtist, pred, color=\"red\")\n",
        "plt.title(\"Título do gráfico\")\n",
        "plt.xlabel(\"Artistas por música\")\n",
        "plt.ylabel(\"Streams\")"
      ],
      "metadata": {
        "colab": {
          "base_uri": "https://localhost:8080/",
          "height": 490
        },
        "id": "zJzqTbXCVHcC",
        "outputId": "c8d3d472-9c5f-4f16-8863-aa5b319b8512"
      },
      "execution_count": null,
      "outputs": [
        {
          "output_type": "execute_result",
          "data": {
            "text/plain": [
              "Text(0, 0.5, 'Streams')"
            ]
          },
          "metadata": {},
          "execution_count": 84
        },
        {
          "output_type": "display_data",
          "data": {
            "text/plain": [
              "<Figure size 640x480 with 1 Axes>"
            ],
            "image/png": "[encoded data removed]"
          },
          "metadata": {}
        }
      ]
    },
    {
      "cell_type": "markdown",
      "source": [
        "➡️ Resumo:\n",
        "\n",
        "*   O teste de Mann-Whitney-U indica que existe uma diferença significativa entre os streams de músicas solo e os streams de músicas com mais de um artista.\n",
        "*   Com correlação negativa fraca de -0.13.\n",
        "\n"
      ],
      "metadata": {
        "id": "o5wZNfx5ml5h"
      }
    },
    {
      "cell_type": "markdown",
      "source": [
        "# **Análise das características das músicas**"
      ],
      "metadata": {
        "id": "8JgHiIzD7YfW"
      }
    },
    {
      "cell_type": "markdown",
      "source": [
        "## **Separação dos grupos**"
      ],
      "metadata": {
        "id": "TE5-YHnx8-LO"
      }
    },
    {
      "cell_type": "code",
      "source": [
        "# Separar os dados em grupos de baixo e alto para cada característica\n",
        "\n",
        "#danceability\n",
        "baixo_streams_danceability = joined_table_quartiles[joined_table_quartiles['danceability_classification'] == 'Baixo']['streams_int']\n",
        "alto_streams_danceability = joined_table_quartiles[joined_table_quartiles['danceability_classification'] == 'Alto']['streams_int']\n",
        "print('Baixo:', baixo_streams_danceability)\n",
        "print('Alto:', alto_streams_danceability)\n",
        "\n",
        "#valence\n",
        "baixo_streams_valence = joined_table_quartiles[joined_table_quartiles['valence_classification'] == 'Baixo']['streams_int']\n",
        "alto_streams_valence = joined_table_quartiles[joined_table_quartiles['valence_classification'] == 'Alto']['streams_int']\n",
        "print('Baixo:', baixo_streams_valence)\n",
        "print('Alto:', alto_streams_valence)\n",
        "\n",
        "#energy\n",
        "baixo_streams_energy = joined_table_quartiles[joined_table_quartiles['energy_classification'] == 'Baixo']['streams_int']\n",
        "alto_streams_energy = joined_table_quartiles[joined_table_quartiles['energy_classification'] == 'Alto']['streams_int']\n",
        "print('Baixo:', baixo_streams_energy)\n",
        "print('Alto:', alto_streams_energy)\n",
        "\n",
        "#acousticness\n",
        "baixo_streams_acousticness = joined_table_quartiles[joined_table_quartiles['acousticness_classification'] == 'Baixo']['streams_int']\n",
        "alto_streams_acousticness = joined_table_quartiles[joined_table_quartiles['acousticness_classification'] == 'Alto']['streams_int']\n",
        "print('Baixo:', baixo_streams_energy)\n",
        "print('Alto:', alto_streams_energy)\n",
        "\n",
        "#instrumentalness\n",
        "baixo_streams_instrumentalness= joined_table_quartiles[joined_table_quartiles['instrumentalness_classification'] == 'Baixo']['streams_int']\n",
        "alto_streams_instrumentalness = joined_table_quartiles[joined_table_quartiles['instrumentalness_classification'] == 'Alto']['streams_int']\n",
        "print('Baixo:', baixo_streams_energy)\n",
        "print('Alto:', alto_streams_energy)\n",
        "\n",
        "#liveness\n",
        "baixo_streams_liveness = joined_table_quartiles[joined_table_quartiles['liveness_classification'] == 'Baixo']['streams_int']\n",
        "alto_streams_liveness = joined_table_quartiles[joined_table_quartiles['liveness_classification'] == 'Alto']['streams_int']\n",
        "print('Baixo:', baixo_streams_energy)\n",
        "print('Alto:', alto_streams_energy)\n",
        "\n",
        "#speechiness\n",
        "baixo_streams_speechiness = joined_table_quartiles[joined_table_quartiles['speechiness_classification'] == 'Baixo']['streams_int']\n",
        "alto_streams_speechiness = joined_table_quartiles[joined_table_quartiles['speechiness_classification'] == 'Alto']['streams_int']\n",
        "print('Baixo:', baixo_streams_energy)\n",
        "print('Alto:', alto_streams_energy)\n",
        "\n",
        "#verificando se tem valores nulos nos grupos:\n",
        "print('valores nulos:', baixo_streams_danceability.isnull().sum())\n",
        "print('valores nulos:', alto_streams_danceability.isnull().sum())"
      ],
      "metadata": {
        "colab": {
          "base_uri": "https://localhost:8080/"
        },
        "id": "ifuoLu5C7geU",
        "outputId": "d6fd7e22-c504-47ea-a9c1-6269dc1f34fb"
      },
      "execution_count": null,
      "outputs": [
        {
          "output_type": "stream",
          "name": "stdout",
          "text": [
            "Baixo: 1        53909146\n",
            "2       114546317\n",
            "3       124407432\n",
            "4       137070925\n",
            "5        68216992\n",
            "          ...    \n",
            "940     775542072\n",
            "942    1953533826\n",
            "943    1047101291\n",
            "944     843957510\n",
            "946    1223481149\n",
            "Name: streams_int, Length: 711, dtype: int64\n",
            "Alto: 0       122763672\n",
            "29      134294498\n",
            "32       95053634\n",
            "35       29562220\n",
            "36       16011326\n",
            "          ...    \n",
            "929    1440757818\n",
            "932     899183384\n",
            "938     933815613\n",
            "941    1605224506\n",
            "945     863756573\n",
            "Name: streams_int, Length: 236, dtype: int64\n",
            "Baixo: 1        53909146\n",
            "2       114546317\n",
            "3       124407432\n",
            "4       137070925\n",
            "5        68216992\n",
            "          ...    \n",
            "939    2713922350\n",
            "940     775542072\n",
            "943    1047101291\n",
            "944     843957510\n",
            "946    1223481149\n",
            "Name: streams_int, Length: 711, dtype: int64\n",
            "Alto: 0       122763672\n",
            "7        37091576\n",
            "10       41210087\n",
            "12      127027715\n",
            "29      134294498\n",
            "          ...    \n",
            "935    1115880852\n",
            "938     933815613\n",
            "941    1605224506\n",
            "942    1953533826\n",
            "945     863756573\n",
            "Name: streams_int, Length: 236, dtype: int64\n",
            "Baixo: 0       122763672\n",
            "1        53909146\n",
            "2       114546317\n",
            "3       124407432\n",
            "4       137070925\n",
            "          ...    \n",
            "939    2713922350\n",
            "940     775542072\n",
            "943    1047101291\n",
            "944     843957510\n",
            "946    1223481149\n",
            "Name: streams_int, Length: 711, dtype: int64\n",
            "Alto: 29      134294498\n",
            "32       95053634\n",
            "51      116599790\n",
            "53      100409613\n",
            "58      111947664\n",
            "          ...    \n",
            "934    1109433169\n",
            "938     933815613\n",
            "941    1605224506\n",
            "942    1953533826\n",
            "945     863756573\n",
            "Name: streams_int, Length: 236, dtype: int64\n",
            "Baixo: 0       122763672\n",
            "1        53909146\n",
            "2       114546317\n",
            "3       124407432\n",
            "4       137070925\n",
            "          ...    \n",
            "939    2713922350\n",
            "940     775542072\n",
            "943    1047101291\n",
            "944     843957510\n",
            "946    1223481149\n",
            "Name: streams_int, Length: 711, dtype: int64\n",
            "Alto: 29      134294498\n",
            "32       95053634\n",
            "51      116599790\n",
            "53      100409613\n",
            "58      111947664\n",
            "          ...    \n",
            "934    1109433169\n",
            "938     933815613\n",
            "941    1605224506\n",
            "942    1953533826\n",
            "945     863756573\n",
            "Name: streams_int, Length: 236, dtype: int64\n",
            "Baixo: 0       122763672\n",
            "1        53909146\n",
            "2       114546317\n",
            "3       124407432\n",
            "4       137070925\n",
            "          ...    \n",
            "939    2713922350\n",
            "940     775542072\n",
            "943    1047101291\n",
            "944     843957510\n",
            "946    1223481149\n",
            "Name: streams_int, Length: 711, dtype: int64\n",
            "Alto: 29      134294498\n",
            "32       95053634\n",
            "51      116599790\n",
            "53      100409613\n",
            "58      111947664\n",
            "          ...    \n",
            "934    1109433169\n",
            "938     933815613\n",
            "941    1605224506\n",
            "942    1953533826\n",
            "945     863756573\n",
            "Name: streams_int, Length: 236, dtype: int64\n",
            "Baixo: 0       122763672\n",
            "1        53909146\n",
            "2       114546317\n",
            "3       124407432\n",
            "4       137070925\n",
            "          ...    \n",
            "939    2713922350\n",
            "940     775542072\n",
            "943    1047101291\n",
            "944     843957510\n",
            "946    1223481149\n",
            "Name: streams_int, Length: 711, dtype: int64\n",
            "Alto: 29      134294498\n",
            "32       95053634\n",
            "51      116599790\n",
            "53      100409613\n",
            "58      111947664\n",
            "          ...    \n",
            "934    1109433169\n",
            "938     933815613\n",
            "941    1605224506\n",
            "942    1953533826\n",
            "945     863756573\n",
            "Name: streams_int, Length: 236, dtype: int64\n",
            "Baixo: 0       122763672\n",
            "1        53909146\n",
            "2       114546317\n",
            "3       124407432\n",
            "4       137070925\n",
            "          ...    \n",
            "939    2713922350\n",
            "940     775542072\n",
            "943    1047101291\n",
            "944     843957510\n",
            "946    1223481149\n",
            "Name: streams_int, Length: 711, dtype: int64\n",
            "Alto: 29      134294498\n",
            "32       95053634\n",
            "51      116599790\n",
            "53      100409613\n",
            "58      111947664\n",
            "          ...    \n",
            "934    1109433169\n",
            "938     933815613\n",
            "941    1605224506\n",
            "942    1953533826\n",
            "945     863756573\n",
            "Name: streams_int, Length: 236, dtype: int64\n",
            "valores nulos: 0\n",
            "valores nulos: 0\n"
          ]
        }
      ]
    },
    {
      "cell_type": "markdown",
      "source": [
        "## **Transformando em Array**"
      ],
      "metadata": {
        "id": "rYqpU5q89FUK"
      }
    },
    {
      "cell_type": "code",
      "source": [
        "# Convertendo os grupos para arrays NumPy\n",
        "\n",
        "#danceability\n",
        "baixo_array_danceability = np.array(baixo_streams_danceability)\n",
        "alto_array_danceability = np.array(alto_streams_danceability)\n",
        "\n",
        "#valence\n",
        "baixo_array_valence = np.array(baixo_streams_valence)\n",
        "alto_array_valence = np.array(alto_streams_valence)\n",
        "\n",
        "#energy\n",
        "baixo_array_energy = np.array(baixo_streams_energy)\n",
        "alto_array_energy = np.array(alto_streams_energy)\n",
        "\n",
        "#acousticness\n",
        "baixo_array_acousticness = np.array(baixo_streams_acousticness)\n",
        "alto_array_acousticness = np.array(alto_streams_energy)\n",
        "\n",
        "#instrumentalness\n",
        "baixo_array_instrumentalness = np.array(baixo_streams_instrumentalness)\n",
        "alto_array_instrumentalness = np.array(alto_streams_instrumentalness)\n",
        "\n",
        "#liveness\n",
        "baixo_array_liveness = np.array(baixo_streams_liveness)\n",
        "alto_array_liveness = np.array(alto_streams_liveness)\n",
        "\n",
        "#speechiness\n",
        "baixo_array_speechiness = np.array(baixo_streams_speechiness)\n",
        "alto_array_speechiness = np.array(alto_streams_speechiness)\n",
        "\n",
        "#verificando o tipo de dado:\n",
        "print(baixo_array_danceability.dtype)\n",
        "print(alto_array_danceability.dtype)\n"
      ],
      "metadata": {
        "colab": {
          "base_uri": "https://localhost:8080/"
        },
        "id": "nm4WZUoD9LV5",
        "outputId": "e405f2ef-09a4-44f2-e3e8-0a0d09e05d5f"
      },
      "execution_count": null,
      "outputs": [
        {
          "output_type": "stream",
          "name": "stdout",
          "text": [
            "int64\n",
            "int64\n"
          ]
        }
      ]
    },
    {
      "cell_type": "code",
      "source": [
        "#verificando se há pelo menos um valor NaN\n",
        "print(np.isnan(baixo_array_danceability).any())\n",
        "print(np.isnan(alto_array_danceability).any())"
      ],
      "metadata": {
        "colab": {
          "base_uri": "https://localhost:8080/"
        },
        "id": "H80FdIen90K8",
        "outputId": "6c591135-5880-4db6-fcdc-2b69fc433d44"
      },
      "execution_count": null,
      "outputs": [
        {
          "output_type": "stream",
          "name": "stdout",
          "text": [
            "False\n",
            "False\n"
          ]
        }
      ]
    },
    {
      "cell_type": "markdown",
      "source": [
        "## **Teste de Normalidade**"
      ],
      "metadata": {
        "id": "BbaHRk18-AVY"
      }
    },
    {
      "cell_type": "code",
      "source": [
        "# Verificando a normalidade do grupo baixo e alto\n",
        "\n",
        "#danceability (1)\n",
        "stat_baixo, p_valor_baixo = shapiro(baixo_array_danceability)\n",
        "print(\"Grupo Baixo - Estatística do teste:\", stat_baixo, \"Valor p:\", p_valor_baixo)\n",
        "stat_alto, p_valor_alto= shapiro(alto_array_danceability)\n",
        "print(\"Grupo Alto - Estatística do teste:\", stat_alto, \"Valor p:\", p_valor_alto)\n",
        "\n"
      ],
      "metadata": {
        "colab": {
          "base_uri": "https://localhost:8080/"
        },
        "id": "I2dVn4I8-BfO",
        "outputId": "6c43dddb-1071-452a-c967-6a4b68e17fce"
      },
      "execution_count": null,
      "outputs": [
        {
          "output_type": "stream",
          "name": "stdout",
          "text": [
            "Grupo Baixo - Estatística do teste: 0.7773969173431396 Valor p: 5.604112329579128e-30\n",
            "Grupo Alto - Estatística do teste: 0.7058113813400269 Valor p: 4.1542722884774976e-20\n"
          ]
        }
      ]
    },
    {
      "cell_type": "markdown",
      "source": [
        "## **Teste estatístico**"
      ],
      "metadata": {
        "id": "k6abFbQa-83h"
      }
    },
    {
      "cell_type": "code",
      "source": [
        "# Lista de testes e seus arrays correspondentes\n",
        "testes = ['Danceability', 'Valence', 'Energy', 'Acousticness','Instrumentalness', 'Liveness', 'Speechiness']\n",
        "arrays = [(baixo_array_danceability, alto_array_danceability), (baixo_array_valence, alto_array_valence),(baixo_array_energy, alto_array_energy), (baixo_array_acousticness, alto_array_acousticness), (baixo_array_instrumentalness, alto_array_instrumentalness), (baixo_array_liveness, alto_array_liveness), (baixo_array_speechiness, alto_array_speechiness)]\n",
        "\n",
        "# Lista para armazenar os resultados\n",
        "resultados = []\n",
        "\n",
        "# Loop sobre os testes\n",
        "for teste, (baixo_array, alto_array) in zip(testes, arrays):\n",
        "    # Teste de Mann-Whitney U\n",
        "    if mannwhitneyu(baixo_array, alto_array).pvalue < 0.05:\n",
        "        estatistica_teste = mannwhitneyu(baixo_array, alto_array).statistic\n",
        "        p_valor = mannwhitneyu(baixo_array, alto_array).pvalue\n",
        "        if p_valor > 0.05:\n",
        "            diferenca_significativa = 'Não'\n",
        "        else:\n",
        "            diferenca_significativa = 'Sim'\n",
        "    # Teste t de Student\n",
        "    else:\n",
        "        estatistica_teste = ttest_ind(baixo_array, alto_array).statistic\n",
        "        p_valor = ttest_ind(baixo_array, alto_array).pvalue\n",
        "        if p_valor > 0.05:\n",
        "            diferenca_significativa = 'Não'\n",
        "        else:\n",
        "            diferenca_significativa = 'Sim'\n",
        "    resultados.append([teste, estatistica_teste, p_valor, diferenca_significativa])\n",
        "\n",
        "# Criando o DataFrame com os resultados\n",
        "df_resultados = pd.DataFrame(resultados, columns=['Teste', 'Estatística do Teste', 'Valor-p', 'Diferença Significativa'])\n",
        "\n",
        "# Exibindo a tabela\n",
        "print(df_resultados)\n",
        "#print(tabulate(df_resultados, headers='keys', tablefmt='grid', showindex=False))\n"
      ],
      "metadata": {
        "colab": {
          "base_uri": "https://localhost:8080/"
        },
        "id": "AmyP1p-W_B_a",
        "outputId": "90888687-89d0-4c4c-fa65-f1773b0a9d4a"
      },
      "execution_count": null,
      "outputs": [
        {
          "output_type": "stream",
          "name": "stdout",
          "text": [
            "              Teste  Estatística do Teste   Valor-p Diferença Significativa\n",
            "0      Danceability          91844.000000  0.029086                     Sim\n",
            "1           Valence              1.439768  0.150264                     Não\n",
            "2            Energy              0.460827  0.645029                     Não\n",
            "3      Acousticness              0.161011  0.872119                     Não\n",
            "4  Instrumentalness             -0.870311  0.384351                     Não\n",
            "5          Liveness              0.871173  0.383881                     Não\n",
            "6       Speechiness          92805.000000  0.014435                     Sim\n"
          ]
        }
      ]
    },
    {
      "cell_type": "markdown",
      "source": [
        "## **Gráficos**"
      ],
      "metadata": {
        "id": "n4ms_ie-_nZ7"
      }
    },
    {
      "cell_type": "code",
      "source": [
        "# Criar a figura com a grade de subplots\n",
        "fig = make_subplots(rows=1, cols=7, subplot_titles=('Danceability', 'Valence', 'Energy', 'acousticness', 'instrumentalness','liveness','speechiness' ))\n",
        "\n",
        "# danceability\n",
        "fig.add_trace(go.Box(y=joined_table_quartiles[joined_table_quartiles[\"danceability_classification\"] == \"Baixo\"][\"streams_int\"],\n",
        "                     name='Baixo', marker_color='cornflowerblue'), row=1, col=1)\n",
        "fig.add_trace(go.Box(y=joined_table_quartiles[joined_table_quartiles[\"danceability_classification\"] == \"Alto\"][\"streams_int\"],\n",
        "                     name='Alto', marker_color='lightseagreen'), row=1, col=1)\n",
        "\n",
        "#valence\n",
        "fig.add_trace(go.Box(y=joined_table_quartiles[joined_table_quartiles[\"valence_classification\"] == \"Baixo\"][\"streams_int\"],\n",
        "                     name='Baixo', marker_color='cornflowerblue'), row=1, col=2)\n",
        "fig.add_trace(go.Box(y=joined_table_quartiles[joined_table_quartiles[\"valence_classification\"] == \"Alto\"][\"streams_int\"],\n",
        "                     name='Alto', marker_color='lightseagreen'), row=1, col=2)\n",
        "\n",
        "#energy\n",
        "fig.add_trace(go.Box(y=joined_table_quartiles[joined_table_quartiles[\"energy_classification\"] == \"Baixo\"][\"streams_int\"],\n",
        "                     name='Baixo', marker_color='cornflowerblue'), row=1, col=3)\n",
        "fig.add_trace(go.Box(y=joined_table_quartiles[joined_table_quartiles[\"energy_classification\"] == \"Alto\"][\"streams_int\"],\n",
        "                     name='Alto', marker_color='lightseagreen'), row=1, col=3)\n",
        "#acousticness\n",
        "fig.add_trace(go.Box(y=joined_table_quartiles[joined_table_quartiles[\"acousticness_classification\"] == \"Baixo\"][\"streams_int\"],\n",
        "                     name='Baixo', marker_color='cornflowerblue'), row=1, col=4)\n",
        "fig.add_trace(go.Box(y=joined_table_quartiles[joined_table_quartiles[\"acousticness_classification\"] == \"Alto\"][\"streams_int\"],\n",
        "                     name='Alto', marker_color='lightseagreen'), row=1, col=4)\n",
        "\n",
        "#instrumentalness\n",
        "fig.add_trace(go.Box(y=joined_table_quartiles[joined_table_quartiles[\"instrumentalness_classification\"] == \"Baixo\"][\"streams_int\"],\n",
        "                     name='Baixo', marker_color='cornflowerblue'), row=1, col=5)\n",
        "fig.add_trace(go.Box(y=joined_table_quartiles[joined_table_quartiles[\"instrumentalness_classification\"] == \"Alto\"][\"streams_int\"],\n",
        "                     name='Alto', marker_color='lightseagreen'), row=1, col=5)\n",
        "\n",
        "#liveness\n",
        "fig.add_trace(go.Box(y=joined_table_quartiles[joined_table_quartiles[\"liveness_classification\"] == \"Baixo\"][\"streams_int\"],\n",
        "                     name='Baixo', marker_color='cornflowerblue'), row=1, col=6)\n",
        "fig.add_trace(go.Box(y=joined_table_quartiles[joined_table_quartiles[\"liveness_classification\"] == \"Alto\"][\"streams_int\"],\n",
        "                     name='Alto', marker_color='lightseagreen'), row=1, col=6)\n",
        "\n",
        "#speechiness\n",
        "fig.add_trace(go.Box(y=joined_table_quartiles[joined_table_quartiles[\"speechiness_classification\"] == \"Baixo\"][\"streams_int\"],\n",
        "                     name='Baixo', marker_color='cornflowerblue'), row=1, col=7)\n",
        "fig.add_trace(go.Box(y=joined_table_quartiles[joined_table_quartiles[\"speechiness_classification\"] == \"Alto\"][\"streams_int\"],\n",
        "                     name='Alto', marker_color='lightseagreen'), row=1, col=7)\n",
        "\n",
        "# Mostrar a figura\n",
        "fig.show()\n"
      ],
      "metadata": {
        "colab": {
          "base_uri": "https://localhost:8080/",
          "height": 542
        },
        "id": "lyazNcKE_mox",
        "outputId": "63443189-132d-4683-8264-1ca95ce91eb5"
      },
      "execution_count": null,
      "outputs": [
        {
          "output_type": "display_data",
          "data": {
            "text/html": [
              "<html>\n",
              "<head><meta charset=\"utf-8\" /></head>\n",
              "<body>\n",
              "    <div>            <script src=\"https://cdnjs.cloudflare.com/ajax/libs/mathjax/2.7.5/MathJax.js?config=TeX-AMS-MML_SVG\"></script><script type=\"text/javascript\">if (window.MathJax && window.MathJax.Hub && window.MathJax.Hub.Config) {window.MathJax.Hub.Config({SVG: {font: \"STIX-Web\"}});}</script>                <script type=\"text/javascript\">window.PlotlyConfig = {MathJaxConfig: 'local'};</script>\n",
              "        <script charset=\"utf-8\" src=\"https://cdn.plot.ly/plotly-2.24.1.min.js\"></script>                <div id=\"848323d3-0463-4381-8517-d64b9e033f40\" class=\"plotly-graph-div\" style=\"height:525px; width:100%;\"></div>            <script type=\"text/javascript\">                                    window.PLOTLYENV=window.PLOTLYENV || {};                                    if (document.getElementById(\"848323d3-0463-4381-8517-d64b9e033f40\")) {                    Plotly.newPlot(                        \"848323d3-0463-4381-8517-d64b9e033f40\",                        [{\"marker\":{\"color\":\"cornflowerblue\"},\"name\":\"Baixo\",\"y\":[53909146,114546317,124407432,137070925,68216992,61739839,37091576,37778188,126191104,41210087,42485571,127027715,91473363,49262961,51641685,73981293,110849052,65362788,98709329,88092256,121871870,41924466,101114984,53933526,31959571,74601456,126443991,117747907,125917280,139681964,77309611,123124076,127567540,30546883,139836056,78139948,33381454,71095708,94616487,94005786,110073250,80758350,121077868,39666245,116599790,60350538,100409613,93587665,89933133,39709092,58054811,86176890,129314708,64533040,65156199,109276132,245350949,211372494,178660459,273194684,233671263,203680270,282883169,184826429,181328253,227918678,156658366,167076418,287201015,202452860,163284000,187339835,218320587,186104310,147538971,182978249,164856284,283332261,244891912,146363130,202677468,145458418,184807630,166570053,267789608,203221468,179659294,156777415,284908316,185240616,191945597,206399629,256483385,146789379,149778242,263894529,240580042,155653938,236857112,191873381,245400167,663832097,582981380,395591396,446390129,290833204,520034544,629173063,346127840,563902868,476244795,389771964,368646862,297328960,356709897,338564981,366214458,465959382,624101957,433356509,293186992,317622165,411747614,319757142,429829812,298063749,607123776,635412045,357580552,362361576,373199958,387570742,473248298,323437194,291709698,374706940,319546754,323455692,374191487,600976848,618990393,357925728,395591396,540539717,349585590,295998468,366599607,1252563873,1056760045,777765388,741301563,769213520,991336132,2280566092,1023187129,2086124197,1122364376,1024858327,807561936,783706581,690104769,1180094974,1200808494,1062956628,726837877,1759567999,2236667932,1858144199,1606986953,951637566,1256880657,850608354,726434358,2123309722,1608164312,988515741,1301799902,920045682,972164968,1661187319,1022258230,822633917,2420461338,1131090940,1374581173,1406111294,681583126,882831184,1608045237,812019557,806397070,2135158446,1410088830,751134527,2887241814,2009094673,2557975762,1813673666,1230855859,1304313953,2355719893,972509632,725980112,2808096550,79095270,65719930,39893489,77337771,53987404,50746620,91781263,71423324,53603447,121913181,85559365,101780047,115331792,67070410,95623148,34450974,32526947,56533272,83021468,131746175,52722996,81419389,135444283,89566512,124988687,54682594,71014967,97610446,108809090,67540165,62019074,57144458,68616963,132171975,116903579,63803529,37307967,130655803,107642809,96007391,135611421,103762518,88791109,137123880,47956378,117206995,30343206,118810253,91221625,123132751,36912123,134255790,39228929,43857627,39578178,95131998,14780425,52135248,38411956,58149378,118482347,133716286,58255150,57876440,22581161,127408954,140003974,60680939,75476209,106249219,135723538,77377503,57089066,127309180,58687425,68895644,109091573,135079152,84697729,58890931,34502215,46142772,96180277,91656026,58473276,140430339,136689549,130419412,43522589,95816024,90025258,77233241,138517666,46065667,116334601,51985779,127026613,76910644,55842345,39058561,2762,66902503,52294266,54266102,37126685,107255472,76831876,103787664,90598517,88103848,50847624,120972253,94186466,86444842,107753850,86773632,57312735,54225632,133753727,140187018,212351890,171788484,261116938,157990698,242767149,195628667,176474912,258714692,225259194,199587884,155795783,193443895,267758538,245095641,246390068,185408548,156898322,238350348,185550869,190981339,231657891,195918494,240661097,156338624,231996128,255120451,154356956,212234990,184706613,272377463,223064273,177503916,181382590,244741137,200660871,189476119,263779030,148461629,221752937,240769997,187703102,236060709,273914335,144584800,185236961,179061440,210038833,239411309,148469433,183273246,246376690,244790012,225093344,153454328,170709584,247689123,181831132,222410722,203436468,265882712,185392587,265548837,157058870,168448603,284785823,143573775,173627354,255932395,175399345,195576623,278920007,172825906,284819874,201660859,209768491,236872197,164163229,197643795,141720999,284216603,180577478,194902696,226897599,271666301,184308753,154797871,261414174,213438580,198365537,252871192,208166039,184622518,222612678,200972675,198275403,158950978,244585109,263453310,284249832,233801632,147290338,188933502,250305248,156338624,211050784,177129919,286739476,170732845,191333656,237351106,184937148,219196651,195516622,187701588,207033255,142095275,276259178,286400165,177740666,236940480,223582566,223319934,466214729,305650299,461558540,312622938,481697415,354614964,412795151,330881149,302006641,339473453,500340342,498960285,445590495,429504768,496311364,363467642,485285717,467727006,372476382,332506354,501541661,665765558,588955257,582863434,403939487,380319238,351636786,343197054,328207708,317726339,421135627,404664135,339659802,326792833,370068639,334733572,608334048,387080183,290228626,348647203,311482393,583687007,319566866,571386359,391251368,554875730,382199619,305771063,488386797,367814306,510876816,408843328,595900742,513643924,299648208,350381515,599770206,449701773,457184829,466231982,403097450,405136812,646886885,303216294,480507035,621660989,363472647,404887295,570515054,448843705,421365166,404562836,399686758,342897938,415932686,381161027,331511413,345031710,459276435,303236322,363369738,496795686,355219175,426204830,300983101,539595276,566954746,461437791,578207856,651732901,560222750,295152154,593917618,656013912,479655659,606361689,673801126,288101651,497225336,322336177,309483971,307370144,609293408,652704649,611994237,573633020,367316268,354495408,532336353,618885532,611700552,538115192,477033549,585695368,505671438,518745108,383550148,579395142,528544703,421040617,530511203,311395144,436695353,422691058,556585270,401036314,463564958,610045621,323358833,460492795,432719968,838586769,834129063,677389855,865640097,1042568408,797196073,1007612429,723043854,888046992,2288695111,1735441776,920797189,1449779435,1138474110,704171068,1367810478,851070493,1159176109,924193303,1553497987,1439191367,807015863,826623384,2197010679,824420218,789753877,1127468248,1947371785,1692897992,1361425037,1472799873,1624165576,1887039593,698086140,1449799467,703301727,1271293243,1456081449,872137015,743693613,1481349984,1690192927,1284942608,1641426668,2559529074,1840364617,939844851,1113838873,1591223784,1145727611,1806617704,1089402494,2132335812,1479115056,841749534,1309887447,684675814,726307468,950906471,1829992958,1116995633,2594040133,685032533,1167330737,1217120710,1205951614,1788326445,929964809,1260594497,1267333350,1970673297,2322580122,1791000570,1264310836,786181836,1163620694,1755214421,2011464183,838079900,983637508,1355959075,999748277,1647990401,1241559043,2282771485,1592909789,3703895074,1085685420,1163093654,800840817,1297026226,1316855716,2513188493,1699402402,918915401,1695712020,1065580332,1814349763,956865266,1575467011,2591224264,2484812918,686734357,756907987,1479264469,1221813483,1802514301,2159346687,1061966512,705469769,1357608774,759208783,1763363713,1235005533,2204080728,1435127549,1093605526,2665343922,1279434863,1133865788,1230675890,721975598,1356565093,2565529693,1109433169,1115880852,1223481149,1445941661,2713922350,775542072,1953533826,1047101291,843957510,1223481149],\"type\":\"box\",\"xaxis\":\"x\",\"yaxis\":\"y\"},{\"marker\":{\"color\":\"lightseagreen\"},\"name\":\"Alto\",\"y\":[122763672,134294498,95053634,29562220,16011326,123216717,81350745,71007139,111947664,81102253,244658767,165584767,157136970,217672943,261286503,143139338,160845341,176103902,231332117,499710590,624515457,344055883,294352144,354065229,393230256,2864791672,3562543890,1593270737,885093467,1214083358,1457139296,720434240,93367537,136996305,53729194,56870689,119238316,70069745,139193812,31873544,65496046,78300654,96273746,76767396,95217315,112436403,106933107,64787943,73513683,54937991,106919680,64714573,24975653,138334433,110649992,47093942,71573339,104992946,61105704,70106975,11956641,93438910,113509496,92035115,57945987,115010040,61245289,121189256,105062254,133895612,85924992,78489819,118381354,11599388,90839753,115364561,123473120,116144341,136676504,32761689,120847157,1365184,123122413,277132266,246127838,283359161,168684524,191448892,199386237,254218729,189236868,150500965,173702135,229497852,213505179,253650850,198883004,154119539,247737946,156214700,279737940,229473310,160035717,190490915,175097833,244928911,235549288,263280370,264717480,232896922,176553476,153372011,165484133,248511839,154863153,170413877,258316038,212109195,153240879,209106362,152850295,287278853,161460990,162887075,221409663,144565150,266624541,248088961,200647221,223633238,183706234,141381703,190625045,240918092,178512385,174006928,273005485,240684449,187772591,146223492,146409671,159240673,176290831,279717388,313113297,448500832,516784627,376333030,301242089,342779426,428685680,309653982,345903614,546191065,394030335,527033089,338422004,506778838,417230415,335074782,502574952,445763624,293466523,301051721,551305895,482175240,657723613,397582059,330346424,430977451,403231558,671365962,540654286,601863821,482257456,672656250,299634472,307752576,349746291,295307001,614555082,304079786,383835984,655466831,380726517,596152090,608228647,436027885,462791599,304118600,335222234,553634067,489945871,594482982,327498031,471819764,427486004,333146475,1329090101,2303033973,694525298,723894473,797402345,1714490998,1062345656,1929770265,1143647827,1202722675,1555511105,1168642797,685071800,822239726,863625566,1424589568,1302184087,682475162,909001996,1047480053,782369383,887906111,1687664027,674772936,1210599487,843309044,675039469,1180896317,720825549,1897517891,716591492,809306935,674072710,1440757818,899183384,933815613,1605224506,863756573],\"type\":\"box\",\"xaxis\":\"x\",\"yaxis\":\"y\"},{\"marker\":{\"color\":\"cornflowerblue\"},\"name\":\"Baixo\",\"y\":[53909146,114546317,124407432,137070925,68216992,61739839,37778188,126191104,42485571,91473363,49262961,51641685,73981293,110849052,65362788,98709329,88092256,121871870,41924466,101114984,53933526,31959571,74601456,126443991,117747907,125917280,77309611,123124076,29562220,16011326,127567540,30546883,139836056,78139948,33381454,71095708,81350745,110073250,121077868,39666245,60350538,93587665,89933133,39709092,111947664,86176890,64533040,81102253,109276132,211372494,273194684,233671263,203680270,282883169,184826429,244658767,181328253,227918678,156658366,167076418,287201015,202452860,163284000,187339835,218320587,186104310,147538971,182978249,283332261,244891912,146363130,145458418,184807630,166570053,203221468,179659294,156777415,284908316,185240616,157136970,217672943,206399629,146789379,149778242,263894529,160845341,240580042,155653938,582981380,499710590,290833204,346127840,563902868,389771964,368646862,297328960,624515457,356709897,338564981,366214458,465959382,624101957,433356509,293186992,317622165,411747614,429829812,298063749,607123776,635412045,357580552,362361576,387570742,344055883,323437194,291709698,319546754,294352144,600976848,618990393,357925728,395591396,540539717,354065229,349585590,366599607,1252563873,1056760045,777765388,991336132,2280566092,1023187129,2086124197,1122364376,1024858327,807561936,783706581,690104769,1180094974,2864791672,1200808494,1062956628,726837877,1759567999,2236667932,1858144199,1606986953,951637566,1256880657,850608354,726434358,2123309722,1608164312,988515741,1301799902,972164968,1661187319,1022258230,822633917,2420461338,1131090940,1374581173,1406111294,681583126,882831184,1608045237,812019557,806397070,2135158446,885093467,1410088830,751134527,2887241814,2009094673,2557975762,1813673666,1230855859,1304313953,2355719893,972509632,79095270,65719930,93367537,39893489,77337771,50746620,91781263,136996305,53729194,53603447,121913181,85559365,101780047,115331792,67070410,34450974,32526947,56533272,131746175,52722996,81419389,135444283,89566512,124988687,54682594,71014967,97610446,108809090,67540165,57144458,68616963,132171975,116903579,63803529,37307967,119238316,130655803,70069745,96007391,135611421,139193812,88791109,137123880,47956378,30343206,91221625,123132751,36912123,134255790,39228929,65496046,43857627,39578178,96273746,14780425,38411956,58149378,118482347,133716286,58255150,76767396,22581161,95217315,140003974,60680939,75476209,106249219,112436403,135723538,106933107,64787943,77377503,57089066,127309180,58687425,68895644,109091573,135079152,84697729,58890931,24975653,138334433,34502215,46142772,96180277,110649992,58473276,47093942,140430339,130419412,43522589,95816024,71573339,61105704,77233241,46065667,70106975,51985779,11956641,76910644,93438910,113509496,92035115,57945987,66902503,52294266,115010040,105062254,133895612,37126685,107255472,85924992,78489819,90598517,88103848,50847624,94186466,107753850,116144341,136676504,86773632,57312735,32761689,133753727,1365184,140187018,123122413,212351890,283359161,171788484,261116938,242767149,191448892,195628667,176474912,258714692,225259194,199386237,254218729,155795783,150500965,193443895,267758538,245095641,246390068,185408548,156898322,173702135,238350348,229497852,185550869,190981339,213505179,240661097,255120451,154356956,184706613,272377463,223064273,177503916,253650850,181382590,244741137,200660871,263779030,148461629,221752937,240769997,247737946,156214700,273914335,144584800,229473310,185236961,179061440,210038833,160035717,183273246,246376690,244790012,225093344,153454328,170709584,175097833,181831132,203436468,235549288,265882712,185392587,157058870,264717480,168448603,284785823,232896922,173627354,195576623,278920007,153372011,172825906,284819874,165484133,201660859,209768491,236872197,164163229,248511839,141720999,154863153,170413877,284216603,194902696,226897599,258316038,271666301,184308753,154797871,213438580,153240879,198365537,252871192,208166039,184622518,152850295,287278853,222612678,200972675,284249832,233801632,161460990,162887075,221409663,144565150,266624541,188933502,250305248,223633238,211050784,183706234,286739476,240918092,178512385,174006928,170732845,191333656,273005485,237351106,184937148,195516622,240684449,187772591,187701588,207033255,146409671,276259178,286400165,177740666,159240673,236940480,279717388,223319934,466214729,305650299,461558540,481697415,412795151,330881149,302006641,339473453,498960285,445590495,496311364,363467642,376333030,485285717,301242089,342779426,467727006,372476382,332506354,501541661,588955257,582863434,380319238,309653982,343197054,328207708,317726339,421135627,370068639,334733572,546191065,608334048,387080183,348647203,527033089,338422004,506778838,311482393,583687007,417230415,335074782,319566866,571386359,391251368,554875730,382199619,305771063,488386797,367814306,408843328,595900742,513643924,293466523,350381515,599770206,449701773,457184829,466231982,403097450,405136812,646886885,303216294,480507035,621660989,482175240,404887295,570515054,448843705,421365166,397582059,404562836,330346424,399686758,342897938,671365962,415932686,381161027,331511413,345031710,459276435,540654286,601863821,303236322,363369738,355219175,672656250,299634472,426204830,300983101,307752576,566954746,461437791,349746291,578207856,295307001,614555082,651732901,560222750,593917618,656013912,479655659,606361689,497225336,304079786,383835984,322336177,309483971,655466831,307370144,609293408,611994237,573633020,608228647,532336353,618885532,462791599,304118600,611700552,538115192,477033549,585695368,505671438,335222234,553634067,518745108,489945871,594482982,421040617,530511203,311395144,436695353,327498031,422691058,556585270,401036314,610045621,323358833,471819764,460492795,838586769,834129063,677389855,865640097,1042568408,2303033973,1007612429,723043854,694525298,888046992,2288695111,920797189,1449779435,1138474110,704171068,1367810478,797402345,1062345656,924193303,1553497987,1439191367,807015863,1929770265,826623384,2197010679,824420218,789753877,1127468248,1947371785,1361425037,1472799873,1143647827,1624165576,1887039593,698086140,1449799467,703301727,1271293243,1456081449,1555511105,872137015,1168642797,1284942608,822239726,1641426668,2559529074,1840364617,863625566,939844851,1591223784,1806617704,1089402494,2132335812,841749534,1309887447,684675814,726307468,950906471,1829992958,1116995633,685032533,1167330737,1217120710,1205951614,1788326445,929964809,1260594497,909001996,1047480053,1970673297,2322580122,887906111,1791000570,1264310836,786181836,1163620694,1755214421,1687664027,2011464183,838079900,983637508,1355959075,999748277,1647990401,1241559043,2282771485,1592909789,3703895074,1163093654,800840817,1297026226,1316855716,2513188493,674772936,1210599487,843309044,918915401,675039469,1695712020,956865266,2591224264,686734357,1479264469,1221813483,1897517891,2159346687,1061966512,705469769,1357608774,759208783,1763363713,1235005533,2204080728,1435127549,1093605526,809306935,2665343922,1133865788,674072710,1230675890,1440757818,721975598,1356565093,2565529693,1109433169,1223481149,1445941661,2713922350,775542072,1047101291,843957510,1223481149],\"type\":\"box\",\"xaxis\":\"x2\",\"yaxis\":\"y2\"},{\"marker\":{\"color\":\"lightseagreen\"},\"name\":\"Alto\",\"y\":[122763672,37091576,41210087,127027715,134294498,139681964,95053634,123216717,94616487,94005786,80758350,116599790,100409613,71007139,58054811,129314708,65156199,245350949,178660459,164856284,202677468,165584767,267789608,191945597,256483385,261286503,143139338,236857112,176103902,191873381,231332117,245400167,663832097,395591396,446390129,520034544,629173063,476244795,319757142,373199958,473248298,374706940,323455692,374191487,295998468,393230256,741301563,769213520,920045682,3562543890,1593270737,1214083358,1457139296,725980112,2808096550,720434240,53987404,71423324,95623148,83021468,62019074,56870689,107642809,103762518,31873544,117206995,118810253,95131998,78300654,52135248,57876440,127408954,73513683,54937991,106919680,64714573,91656026,136689549,90025258,104992946,138517666,116334601,127026613,55842345,39058561,2762,54266102,61245289,121189256,76831876,103787664,118381354,120972253,86444842,11599388,90839753,115364561,123473120,54225632,120847157,277132266,246127838,168684524,157990698,189236868,199587884,231657891,195918494,156338624,231996128,212234990,198883004,189476119,154119539,187703102,236060709,279737940,239411309,148469433,190490915,247689123,244928911,222410722,263280370,265548837,143573775,255932395,175399345,176553476,197643795,180577478,212109195,261414174,209106362,198275403,158950978,244585109,263453310,147290338,248088961,200647221,156338624,141381703,177129919,190625045,219196651,146223492,142095275,176290831,223582566,313113297,312622938,354614964,500340342,429504768,448500832,516784627,428685680,665765558,403939487,351636786,404664135,339659802,326792833,345903614,290228626,394030335,502574952,510876816,445763624,299648208,301051721,551305895,363472647,657723613,430977451,403231558,482257456,496795686,539595276,295152154,673801126,288101651,380726517,596152090,652704649,367316268,354495408,436027885,383550148,579395142,528544703,463564958,427486004,333146475,432719968,1329090101,797196073,1735441776,723894473,851070493,1714490998,1159176109,1692897992,1202722675,743693613,1481349984,1690192927,685071800,1113838873,1145727611,1479115056,2594040133,1424589568,1267333350,1302184087,682475162,782369383,1085685420,1699402402,1180896317,1065580332,720825549,1814349763,1575467011,2484812918,756907987,1802514301,716591492,1279434863,899183384,1115880852,933815613,1605224506,1953533826,863756573],\"type\":\"box\",\"xaxis\":\"x2\",\"yaxis\":\"y2\"},{\"marker\":{\"color\":\"cornflowerblue\"},\"name\":\"Baixo\",\"y\":[122763672,53909146,114546317,124407432,137070925,68216992,61739839,37091576,37778188,126191104,41210087,42485571,127027715,91473363,49262961,51641685,73981293,110849052,65362788,98709329,88092256,121871870,41924466,101114984,53933526,31959571,74601456,126443991,117747907,125917280,139681964,77309611,123124076,29562220,16011326,127567540,30546883,139836056,78139948,33381454,123216717,71095708,81350745,94616487,94005786,110073250,80758350,121077868,39666245,60350538,93587665,89933133,71007139,39709092,86176890,129314708,64533040,65156199,81102253,109276132,245350949,211372494,178660459,273194684,233671263,203680270,282883169,184826429,244658767,181328253,227918678,156658366,167076418,287201015,202452860,163284000,187339835,218320587,186104310,147538971,182978249,164856284,283332261,244891912,146363130,202677468,145458418,184807630,165584767,166570053,203221468,179659294,156777415,284908316,185240616,191945597,217672943,206399629,256483385,261286503,146789379,149778242,143139338,160845341,240580042,155653938,236857112,176103902,191873381,245400167,663832097,582981380,395591396,446390129,499710590,290833204,629173063,346127840,563902868,476244795,389771964,368646862,297328960,624515457,356709897,338564981,366214458,465959382,624101957,433356509,293186992,317622165,411747614,319757142,429829812,298063749,607123776,635412045,357580552,362361576,373199958,387570742,344055883,473248298,323437194,374706940,319546754,323455692,294352144,600976848,618990393,357925728,395591396,540539717,354065229,349585590,295998468,393230256,366599607,1056760045,777765388,741301563,769213520,991336132,2280566092,1023187129,2086124197,1122364376,1024858327,807561936,783706581,690104769,1180094974,2864791672,1200808494,1062956628,726837877,1759567999,2236667932,1858144199,1606986953,951637566,1256880657,850608354,726434358,2123309722,1608164312,988515741,1301799902,972164968,3562543890,1661187319,1022258230,822633917,2420461338,1131090940,1374581173,1593270737,1406111294,681583126,882831184,1608045237,812019557,806397070,2135158446,885093467,1410088830,751134527,1214083358,2887241814,2009094673,2557975762,1813673666,1457139296,1230855859,1304313953,2355719893,972509632,725980112,2808096550,720434240,93367537,39893489,53987404,50746620,91781263,136996305,53603447,121913181,85559365,101780047,115331792,67070410,32526947,56533272,131746175,81419389,89566512,124988687,97610446,108809090,67540165,62019074,57144458,56870689,132171975,116903579,63803529,119238316,70069745,96007391,135611421,103762518,139193812,137123880,47956378,117206995,39228929,39578178,95131998,14780425,52135248,38411956,58149378,118482347,133716286,95217315,140003974,60680939,75476209,106249219,112436403,106933107,73513683,54937991,106919680,77377503,57089066,58687425,68895644,109091573,135079152,84697729,58890931,64714573,24975653,34502215,46142772,96180277,110649992,47093942,140430339,136689549,43522589,95816024,90025258,71573339,104992946,61105704,77233241,46065667,70106975,51985779,11956641,76910644,55842345,113509496,39058561,57945987,2762,66902503,115010040,61245289,105062254,37126685,85924992,88103848,50847624,120972253,94186466,86444842,107753850,115364561,123473120,116144341,136676504,86773632,32761689,54225632,133753727,120847157,1365184,123122413,277132266,246127838,212351890,283359161,171788484,261116938,242767149,191448892,195628667,258714692,225259194,199386237,254218729,189236868,199587884,155795783,150500965,193443895,267758538,245095641,246390068,185408548,173702135,238350348,229497852,190981339,195918494,231996128,255120451,154356956,184706613,272377463,223064273,253650850,181382590,244741137,263779030,148461629,221752937,240769997,236060709,247737946,273914335,144584800,229473310,185236961,179061440,239411309,160035717,190490915,183273246,246376690,225093344,175097833,244928911,181831132,222410722,203436468,235549288,265882712,263280370,157058870,264717480,284785823,232896922,173627354,175399345,195576623,278920007,153372011,165484133,209768491,236872197,248511839,197643795,141720999,154863153,170413877,284216603,258316038,184308753,154797871,261414174,213438580,153240879,198365537,208166039,184622518,152850295,287278853,200972675,198275403,284249832,233801632,161460990,147290338,162887075,221409663,144565150,188933502,250305248,248088961,200647221,223633238,183706234,177129919,190625045,286739476,174006928,170732845,191333656,273005485,237351106,184937148,195516622,240684449,187772591,187701588,142095275,146409671,276259178,286400165,159240673,176290831,236940480,223319934,466214729,305650299,313113297,481697415,412795151,339473453,500340342,498960285,445590495,429504768,448500832,516784627,496311364,376333030,301242089,342779426,467727006,372476382,332506354,501541661,665765558,403939487,380319238,309653982,343197054,328207708,317726339,404664135,339659802,370068639,334733572,546191065,608334048,290228626,394030335,348647203,527033089,338422004,311482393,583687007,417230415,335074782,319566866,502574952,571386359,391251368,554875730,382199619,305771063,488386797,408843328,595900742,513643924,299648208,293466523,350381515,599770206,449701773,457184829,403097450,405136812,646886885,551305895,621660989,482175240,404887295,570515054,421365166,397582059,404562836,330346424,399686758,342897938,403231558,671365962,415932686,381161027,331511413,459276435,540654286,601863821,482257456,363369738,496795686,672656250,299634472,426204830,461437791,578207856,295307001,651732901,560222750,295152154,593917618,656013912,606361689,288101651,497225336,309483971,655466831,307370144,609293408,380726517,596152090,652704649,611994237,573633020,608228647,367316268,354495408,532336353,618885532,462791599,304118600,611700552,538115192,585695368,505671438,335222234,553634067,518745108,383550148,489945871,594482982,528544703,421040617,530511203,311395144,327498031,556585270,401036314,463564958,610045621,460492795,432719968,838586769,834129063,677389855,865640097,1042568408,1329090101,1007612429,723043854,694525298,888046992,2288695111,1735441776,723894473,1449779435,1138474110,851070493,797402345,1062345656,1159176109,924193303,1929770265,2197010679,1127468248,1947371785,1472799873,1143647827,1887039593,698086140,1449799467,1202722675,703301727,1271293243,872137015,743693613,1168642797,1481349984,1284942608,822239726,2559529074,1840364617,863625566,1145727611,1089402494,2132335812,841749534,684675814,726307468,950906471,1829992958,1116995633,685032533,1167330737,1788326445,929964809,1424589568,1260594497,1267333350,682475162,909001996,1047480053,782369383,887906111,1791000570,1264310836,1163620694,1755214421,1687664027,2011464183,838079900,983637508,1355959075,999748277,1647990401,1241559043,1592909789,1163093654,800840817,1297026226,1316855716,2513188493,1699402402,918915401,675039469,1180896317,1814349763,1575467011,2591224264,2484812918,686734357,756907987,1479264469,2159346687,1061966512,705469769,1357608774,1763363713,1235005533,2204080728,716591492,1435127549,1093605526,809306935,2665343922,1133865788,674072710,1230675890,1440757818,721975598,2565529693,1115880852,1223481149,1445941661,2713922350,775542072,1047101291,843957510,1223481149],\"type\":\"box\",\"xaxis\":\"x3\",\"yaxis\":\"y3\"},{\"marker\":{\"color\":\"lightseagreen\"},\"name\":\"Alto\",\"y\":[134294498,95053634,116599790,100409613,111947664,58054811,267789608,157136970,263894529,231332117,520034544,291709698,374191487,1252563873,920045682,79095270,65719930,77337771,53729194,71423324,95623148,34450974,83021468,52722996,135444283,54682594,71014967,68616963,37307967,130655803,107642809,88791109,31873544,30343206,118810253,91221625,123132751,36912123,134255790,65496046,43857627,78300654,96273746,58255150,57876440,76767396,22581161,127408954,135723538,64787943,127309180,138334433,91656026,58473276,130419412,138517666,116334601,127026613,93438910,92035115,52294266,54266102,121189256,133895612,107255472,76831876,103787664,78489819,90598517,118381354,11599388,90839753,57312735,140187018,168684524,157990698,176474912,156898322,185550869,231657891,213505179,240661097,156338624,212234990,177503916,200660871,198883004,189476119,154119539,187703102,156214700,279737940,210038833,148469433,244790012,153454328,170709584,247689123,185392587,265548837,168448603,143573775,255932395,176553476,172825906,284819874,201660859,164163229,180577478,194902696,226897599,271666301,212109195,252871192,209106362,222612678,158950978,244585109,263453310,266624541,156338624,211050784,141381703,240918092,178512385,219196651,146223492,207033255,177740666,279717388,223582566,461558540,312622938,354614964,330881149,302006641,363467642,485285717,428685680,588955257,582863434,351636786,421135627,326792833,345903614,387080183,506778838,367814306,510876816,445763624,301051721,466231982,303216294,480507035,363472647,657723613,448843705,430977451,345031710,303236322,355219175,300983101,307752576,539595276,566954746,349746291,614555082,479655659,673801126,304079786,383835984,322336177,436027885,477033549,579395142,436695353,422691058,323358833,471819764,427486004,333146475,797196073,2303033973,920797189,704171068,1367810478,1714490998,1553497987,1439191367,807015863,826623384,824420218,789753877,1692897992,1361425037,1624165576,1456081449,1555511105,1690192927,685071800,1641426668,939844851,1113838873,1591223784,1806617704,1479115056,1309887447,2594040133,1217120710,1205951614,1302184087,1970673297,2322580122,786181836,2282771485,3703895074,1085685420,674772936,1210599487,843309044,1695712020,1065580332,720825549,956865266,1221813483,1802514301,1897517891,759208783,1279434863,1356565093,899183384,1109433169,933815613,1605224506,1953533826,863756573],\"type\":\"box\",\"xaxis\":\"x3\",\"yaxis\":\"y3\"},{\"marker\":{\"color\":\"cornflowerblue\"},\"name\":\"Baixo\",\"y\":[79095270,65719930,93367537,39893489,77337771,53987404,50746620,91781263,136996305,53729194,71423324,53603447,121913181,85559365,101780047,115331792,67070410,95623148,34450974,32526947,56533272,83021468,131746175,52722996,81419389,135444283,89566512,124988687,54682594,71014967,97610446,108809090,67540165,62019074,57144458,56870689,68616963,132171975,116903579,63803529,37307967,119238316,130655803,107642809,70069745,96007391,135611421,103762518,139193812,88791109,137123880,31873544,47956378,117206995,30343206,118810253,91221625,123132751,36912123,134255790,39228929,65496046,43857627,39578178,95131998,78300654,96273746,14780425,52135248,38411956,58149378,118482347,133716286,58255150,57876440,76767396,22581161,95217315,127408954,140003974,60680939,75476209,106249219,112436403,135723538,106933107,64787943,73513683,54937991,106919680,77377503,57089066,127309180,58687425,68895644,109091573,135079152,84697729,58890931,64714573,24975653,138334433,34502215,46142772,96180277,91656026,110649992,58473276,47093942,140430339,136689549,130419412,43522589,95816024,90025258,71573339,104992946,61105704,77233241,138517666,46065667,70106975,116334601,51985779,127026613,11956641,76910644,55842345,93438910,113509496,92035115,39058561,57945987,2762,66902503,52294266,115010040,54266102,61245289,121189256,105062254,133895612,37126685,107255472,85924992,76831876,103787664,78489819,90598517,88103848,50847624,118381354,120972253,94186466,86444842,11599388,90839753,107753850,115364561,123473120,116144341,136676504,86773632,57312735,32761689,54225632,133753727,120847157,1365184,140187018,123122413,277132266,246127838,212351890,283359161,168684524,171788484,261116938,157990698,242767149,191448892,195628667,176474912,258714692,225259194,199386237,254218729,189236868,199587884,155795783,150500965,193443895,267758538,245095641,246390068,185408548,156898322,173702135,238350348,229497852,185550869,190981339,231657891,195918494,213505179,240661097,156338624,231996128,255120451,154356956,212234990,184706613,272377463,223064273,177503916,253650850,181382590,244741137,200660871,198883004,189476119,263779030,148461629,221752937,240769997,154119539,187703102,236060709,247737946,156214700,273914335,144584800,279737940,229473310,185236961,179061440,210038833,239411309,160035717,148469433,190490915,183273246,246376690,244790012,225093344,153454328,170709584,175097833,247689123,244928911,181831132,222410722,203436468,235549288,265882712,263280370,185392587,265548837,157058870,264717480,168448603,284785823,143573775,232896922,173627354,255932395,175399345,176553476,195576623,278920007,153372011,172825906,284819874,165484133,201660859,209768491,236872197,164163229,248511839,197643795,141720999,154863153,170413877,284216603,180577478,194902696,226897599,258316038,271666301,212109195,184308753,154797871,261414174,213438580,153240879,198365537,252871192,208166039,209106362,184622518,152850295,287278853,222612678,200972675,198275403,158950978,244585109,263453310,284249832,233801632,161460990,147290338,162887075,221409663,144565150,266624541,188933502,250305248,248088961,200647221,156338624,223633238,211050784,183706234,141381703,177129919,190625045,286739476,240918092,178512385,174006928,170732845,191333656,273005485,237351106,184937148,219196651,195516622,240684449,187772591,187701588,146223492,207033255,142095275,146409671,276259178,286400165,177740666,159240673,176290831,236940480,279717388,223582566,223319934,466214729,305650299,313113297,461558540,312622938,481697415,354614964,412795151,330881149,302006641,339473453,500340342,498960285,445590495,429504768,448500832,516784627,496311364,363467642,376333030,485285717,301242089,342779426,467727006,372476382,332506354,428685680,501541661,665765558,588955257,582863434,403939487,380319238,351636786,309653982,343197054,328207708,317726339,421135627,404664135,339659802,326792833,345903614,370068639,334733572,546191065,608334048,387080183,290228626,394030335,348647203,527033089,338422004,506778838,311482393,583687007,417230415,335074782,319566866,502574952,571386359,391251368,554875730,382199619,305771063,488386797,367814306,510876816,408843328,595900742,513643924,445763624,299648208,293466523,301051721,350381515,599770206,449701773,457184829,466231982,403097450,405136812,646886885,303216294,480507035,551305895,621660989,482175240,363472647,657723613,404887295,570515054,448843705,421365166,397582059,404562836,330346424,399686758,430977451,342897938,403231558,671365962,415932686,381161027,331511413,345031710,459276435,540654286,601863821,482257456,303236322,363369738,496795686,355219175,672656250,299634472,426204830,300983101,307752576,539595276,566954746,461437791,349746291,578207856,295307001,614555082,651732901,560222750,295152154,593917618,656013912,479655659,606361689,673801126,288101651,497225336,304079786,383835984,322336177,309483971,655466831,307370144,609293408,380726517,596152090,652704649,611994237,573633020,608228647,367316268,354495408,532336353,436027885,618885532,462791599,304118600,611700552,538115192,477033549,585695368,505671438,335222234,553634067,518745108,383550148,579395142,489945871,594482982,528544703,421040617,530511203,311395144,436695353,327498031,422691058,556585270,401036314,463564958,610045621,323358833,471819764,427486004,460492795,333146475,432719968,838586769,834129063,677389855,865640097,1042568408,1329090101,797196073,2303033973,1007612429,723043854,694525298,888046992,2288695111,1735441776,920797189,723894473,1449779435,1138474110,704171068,1367810478,851070493,797402345,1714490998,1062345656,1159176109,924193303,1553497987,1439191367,807015863,1929770265,826623384,2197010679,824420218,789753877,1127468248,1947371785,1692897992,1361425037,1472799873,1143647827,1624165576,1887039593,698086140,1449799467,1202722675,703301727,1271293243,1456081449,1555511105,872137015,743693613,1168642797,1481349984,1690192927,1284942608,685071800,822239726,1641426668,2559529074,1840364617,863625566,939844851,1113838873,1591223784,1145727611,1806617704,1089402494,2132335812,1479115056,841749534,1309887447,684675814,726307468,950906471,1829992958,1116995633,2594040133,685032533,1167330737,1217120710,1205951614,1788326445,929964809,1424589568,1260594497,1267333350,1302184087,682475162,909001996,1047480053,782369383,1970673297,2322580122,887906111,1791000570,1264310836,786181836,1163620694,1755214421,1687664027,2011464183,838079900,983637508,1355959075,999748277,1647990401,1241559043,2282771485,1592909789,3703895074,1085685420,1163093654,800840817,1297026226,1316855716,2513188493,1699402402,674772936,1210599487,843309044,918915401,675039469,1695712020,1180896317,1065580332,720825549,1814349763,956865266,1575467011,2591224264,2484812918,686734357,756907987,1479264469,1221813483,1802514301,1897517891,2159346687,1061966512,705469769,1357608774,759208783,1763363713,1235005533,2204080728,716591492,1435127549,1093605526,809306935,2665343922,1279434863,1133865788,674072710,1230675890,1440757818,721975598,1356565093,899183384,2565529693,1109433169,1115880852,1223481149,1445941661,933815613,2713922350,775542072,1605224506,1953533826,1047101291,843957510,863756573,1223481149],\"type\":\"box\",\"xaxis\":\"x4\",\"yaxis\":\"y4\"},{\"marker\":{\"color\":\"lightseagreen\"},\"name\":\"Alto\",\"y\":[122763672,53909146,114546317,124407432,137070925,68216992,61739839,37091576,37778188,126191104,41210087,42485571,127027715,91473363,49262961,51641685,73981293,110849052,65362788,98709329,88092256,121871870,41924466,101114984,53933526,31959571,74601456,126443991,117747907,134294498,125917280,139681964,95053634,77309611,123124076,29562220,16011326,127567540,30546883,139836056,78139948,33381454,123216717,71095708,81350745,94616487,94005786,110073250,80758350,121077868,39666245,116599790,60350538,100409613,93587665,89933133,71007139,39709092,111947664,58054811,86176890,129314708,64533040,65156199,81102253,109276132,245350949,211372494,178660459,273194684,233671263,203680270,282883169,184826429,244658767,181328253,227918678,156658366,167076418,287201015,202452860,163284000,187339835,218320587,186104310,147538971,182978249,164856284,283332261,244891912,146363130,202677468,145458418,184807630,165584767,166570053,267789608,203221468,179659294,156777415,284908316,185240616,157136970,191945597,217672943,206399629,256483385,261286503,146789379,149778242,143139338,263894529,160845341,240580042,155653938,236857112,176103902,191873381,231332117,245400167,663832097,582981380,395591396,446390129,499710590,290833204,520034544,629173063,346127840,563902868,476244795,389771964,368646862,297328960,624515457,356709897,338564981,366214458,465959382,624101957,433356509,293186992,317622165,411747614,319757142,429829812,298063749,607123776,635412045,357580552,362361576,373199958,387570742,344055883,473248298,323437194,291709698,374706940,319546754,323455692,374191487,294352144,600976848,618990393,357925728,395591396,540539717,354065229,349585590,295998468,393230256,366599607,1252563873,1056760045,777765388,741301563,769213520,991336132,2280566092,1023187129,2086124197,1122364376,1024858327,807561936,783706581,690104769,1180094974,2864791672,1200808494,1062956628,726837877,1759567999,2236667932,1858144199,1606986953,951637566,1256880657,850608354,726434358,2123309722,1608164312,988515741,1301799902,920045682,972164968,3562543890,1661187319,1022258230,822633917,2420461338,1131090940,1374581173,1593270737,1406111294,681583126,882831184,1608045237,812019557,806397070,2135158446,885093467,1410088830,751134527,1214083358,2887241814,2009094673,2557975762,1813673666,1457139296,1230855859,1304313953,2355719893,972509632,725980112,2808096550,720434240],\"type\":\"box\",\"xaxis\":\"x4\",\"yaxis\":\"y4\"},{\"marker\":{\"color\":\"cornflowerblue\"},\"name\":\"Baixo\",\"y\":[122763672,53909146,114546317,124407432,137070925,68216992,61739839,126191104,41210087,42485571,127027715,91473363,49262961,51641685,73981293,88092256,101114984,53933526,126443991,117747907,134294498,125917280,95053634,77309611,123124076,29562220,16011326,30546883,139836056,78139948,33381454,123216717,81350745,94616487,94005786,80758350,121077868,116599790,60350538,100409613,93587665,71007139,39709092,86176890,129314708,64533040,65156199,81102253,109276132,245350949,211372494,178660459,273194684,233671263,203680270,184826429,181328253,167076418,163284000,218320587,147538971,182978249,164856284,283332261,244891912,146363130,145458418,184807630,165584767,267789608,179659294,156777415,284908316,185240616,157136970,191945597,206399629,256483385,261286503,146789379,149778242,143139338,263894529,240580042,236857112,176103902,231332117,245400167,663832097,582981380,395591396,446390129,290833204,520034544,629173063,346127840,476244795,297328960,356709897,366214458,465959382,293186992,317622165,411747614,319757142,429829812,298063749,607123776,635412045,373199958,387570742,344055883,473248298,323437194,291709698,374706940,323455692,374191487,294352144,600976848,618990393,357925728,395591396,354065229,349585590,295998468,366599607,1252563873,1056760045,741301563,769213520,991336132,2280566092,1023187129,807561936,690104769,1180094974,1200808494,1062956628,726837877,2236667932,1858144199,1606986953,951637566,1256880657,850608354,2123309722,1608164312,988515741,1301799902,920045682,3562543890,1661187319,1022258230,822633917,2420461338,1131090940,1374581173,1593270737,1406111294,882831184,812019557,806397070,2135158446,1214083358,2009094673,2557975762,1813673666,1230855859,1304313953,2355719893,725980112,2808096550,720434240,79095270,77337771,53987404,50746620,91781263,136996305,53729194,53603447,121913181,85559365,101780047,95623148,34450974,32526947,56533272,83021468,131746175,52722996,81419389,135444283,89566512,124988687,54682594,71014967,97610446,108809090,67540165,62019074,57144458,56870689,68616963,116903579,63803529,37307967,119238316,130655803,107642809,70069745,96007391,135611421,103762518,139193812,88791109,137123880,31873544,47956378,117206995,30343206,118810253,91221625,123132751,36912123,134255790,39228929,65496046,43857627,39578178,95131998,78300654,96273746,14780425,52135248,38411956,118482347,133716286,58255150,76767396,22581161,95217315,127408954,140003974,60680939,75476209,106249219,112436403,135723538,106933107,64787943,73513683,54937991,106919680,57089066,58687425,68895644,109091573,135079152,84697729,64714573,138334433,34502215,46142772,96180277,91656026,110649992,58473276,140430339,136689549,130419412,43522589,90025258,71573339,138517666,46065667,70106975,51985779,127026613,11956641,76910644,55842345,93438910,113509496,92035115,57945987,2762,66902503,52294266,115010040,54266102,61245289,121189256,105062254,133895612,37126685,107255472,76831876,103787664,50847624,118381354,94186466,86444842,11599388,90839753,107753850,115364561,123473120,136676504,57312735,133753727,140187018,123122413,277132266,283359161,171788484,261116938,157990698,242767149,191448892,258714692,225259194,155795783,267758538,185408548,156898322,173702135,238350348,229497852,185550869,190981339,231657891,195918494,213505179,156338624,231996128,255120451,154356956,184706613,272377463,223064273,177503916,181382590,244741137,200660871,198883004,263779030,148461629,240769997,236060709,247737946,156214700,279737940,229473310,185236961,179061440,210038833,239411309,160035717,148469433,190490915,183273246,246376690,244790012,225093344,153454328,170709584,175097833,247689123,244928911,181831132,222410722,203436468,235549288,265882712,265548837,157058870,264717480,168448603,284785823,143573775,232896922,173627354,255932395,175399345,195576623,153372011,284819874,164163229,197643795,141720999,154863153,170413877,284216603,180577478,194902696,271666301,212109195,184308753,154797871,261414174,213438580,153240879,198365537,252871192,208166039,184622518,287278853,222612678,200972675,198275403,158950978,263453310,284249832,233801632,161460990,162887075,221409663,144565150,266624541,188933502,156338624,183706234,141381703,177129919,190625045,286739476,240918092,174006928,170732845,191333656,219196651,187772591,146223492,142095275,146409671,276259178,286400165,177740666,159240673,176290831,236940480,279717388,223582566,223319934,305650299,313113297,461558540,312622938,354614964,412795151,330881149,302006641,339473453,500340342,498960285,429504768,448500832,516784627,496311364,363467642,376333030,485285717,301242089,342779426,372476382,332506354,428685680,501541661,665765558,588955257,582863434,351636786,317726339,421135627,404664135,339659802,326792833,546191065,387080183,290228626,394030335,348647203,527033089,338422004,506778838,311482393,583687007,417230415,335074782,319566866,502574952,571386359,382199619,305771063,488386797,367814306,510876816,408843328,595900742,513643924,445763624,299648208,293466523,301051721,350381515,449701773,403097450,551305895,363472647,657723613,570515054,448843705,397582059,404562836,330346424,399686758,342897938,671365962,415932686,381161027,331511413,345031710,459276435,540654286,601863821,482257456,363369738,496795686,355219175,672656250,426204830,307752576,539595276,566954746,461437791,349746291,578207856,614555082,651732901,560222750,593917618,656013912,606361689,288101651,497225336,383835984,322336177,309483971,655466831,307370144,609293408,380726517,652704649,611994237,573633020,608228647,367316268,354495408,436027885,618885532,462791599,538115192,477033549,585695368,505671438,335222234,553634067,518745108,383550148,579395142,489945871,594482982,528544703,436695353,327498031,422691058,401036314,463564958,610045621,323358833,471819764,427486004,460492795,432719968,838586769,834129063,677389855,1042568408,1329090101,797196073,2303033973,1007612429,694525298,888046992,2288695111,1735441776,920797189,723894473,1449779435,1138474110,1367810478,851070493,797402345,1159176109,924193303,807015863,1929770265,826623384,2197010679,1947371785,1472799873,1449799467,1202722675,1271293243,1555511105,743693613,1481349984,685071800,822239726,2559529074,863625566,939844851,1113838873,1591223784,1145727611,1089402494,2132335812,1479115056,1309887447,684675814,726307468,2594040133,1167330737,1217120710,1205951614,1788326445,929964809,1424589568,1260594497,1267333350,1302184087,909001996,1047480053,782369383,1970673297,2322580122,887906111,1791000570,1264310836,786181836,1163620694,1755214421,1687664027,2011464183,838079900,983637508,1355959075,999748277,1647990401,1241559043,1592909789,3703895074,1085685420,800840817,1316855716,2513188493,1699402402,1210599487,843309044,918915401,675039469,1695712020,1180896317,1065580332,720825549,1814349763,1575467011,2484812918,686734357,756907987,1479264469,1221813483,1802514301,1897517891,1061966512,705469769,1357608774,759208783,2204080728,716591492,1093605526,809306935,1133865788,674072710,1230675890,1440757818,721975598,899183384,2565529693,1109433169,1223481149,1445941661,933815613,2713922350,775542072,1953533826,1047101291,843957510,1223481149],\"type\":\"box\",\"xaxis\":\"x5\",\"yaxis\":\"y5\"},{\"marker\":{\"color\":\"lightseagreen\"},\"name\":\"Alto\",\"y\":[37091576,37778188,110849052,65362788,98709329,121871870,41924466,31959571,74601456,139681964,127567540,71095708,110073250,39666245,89933133,111947664,58054811,282883169,244658767,227918678,156658366,287201015,202452860,187339835,186104310,202677468,166570053,203221468,217672943,160845341,155653938,191873381,499710590,563902868,389771964,368646862,624515457,338564981,624101957,433356509,357580552,362361576,319546754,540539717,393230256,777765388,2086124197,1122364376,1024858327,783706581,2864791672,1759567999,726434358,972164968,681583126,1608045237,885093467,1410088830,751134527,2887241814,1457139296,972509632,65719930,93367537,39893489,71423324,115331792,67070410,132171975,58149378,57876440,77377503,127309180,58890931,24975653,47093942,95816024,104992946,61105704,77233241,116334601,39058561,85924992,78489819,90598517,88103848,120972253,116144341,86773632,32761689,54225632,120847157,1365184,246127838,212351890,168684524,195628667,176474912,199386237,254218729,189236868,199587884,150500965,193443895,245095641,246390068,240661097,212234990,253650850,189476119,221752937,154119539,187703102,273914335,144584800,263280370,185392587,176553476,278920007,172825906,165484133,201660859,209768491,236872197,248511839,226897599,258316038,209106362,152850295,244585109,147290338,250305248,248088961,200647221,223633238,211050784,178512385,273005485,237351106,184937148,195516622,240684449,187701588,207033255,466214729,481697415,445590495,467727006,403939487,380319238,309653982,343197054,328207708,345903614,370068639,334733572,608334048,391251368,554875730,599770206,457184829,466231982,405136812,646886885,303216294,480507035,621660989,482175240,404887295,421365166,430977451,403231558,303236322,299634472,300983101,295307001,295152154,479655659,673801126,304079786,596152090,532336353,304118600,611700552,421040617,530511203,311395144,556585270,333146475,865640097,723043854,704171068,1714490998,1062345656,1553497987,1439191367,824420218,789753877,1127468248,1692897992,1361425037,1143647827,1624165576,1887039593,698086140,703301727,1456081449,872137015,1168642797,1690192927,1284942608,1641426668,1840364617,1806617704,841749534,950906471,1829992958,1116995633,685032533,682475162,2282771485,1163093654,1297026226,674772936,956865266,2591224264,2159346687,1763363713,1235005533,1435127549,2665343922,1279434863,1356565093,1115880852,1605224506,863756573],\"type\":\"box\",\"xaxis\":\"x5\",\"yaxis\":\"y5\"},{\"marker\":{\"color\":\"cornflowerblue\"},\"name\":\"Baixo\",\"y\":[122763672,53909146,137070925,68216992,61739839,37091576,126191104,41210087,42485571,127027715,91473363,51641685,73981293,110849052,65362788,98709329,88092256,121871870,41924466,31959571,74601456,126443991,125917280,95053634,77309611,123124076,29562220,16011326,127567540,30546883,139836056,33381454,123216717,71095708,81350745,94616487,110073250,80758350,121077868,116599790,60350538,100409613,93587665,89933133,71007139,111947664,58054811,129314708,64533040,65156199,81102253,109276132,245350949,178660459,273194684,233671263,203680270,282883169,184826429,244658767,181328253,227918678,156658366,167076418,287201015,202452860,163284000,187339835,218320587,186104310,147538971,182978249,164856284,283332261,244891912,146363130,202677468,184807630,165584767,166570053,203221468,179659294,156777415,284908316,185240616,157136970,191945597,206399629,256483385,261286503,143139338,160845341,240580042,155653938,236857112,176103902,231332117,245400167,663832097,395591396,446390129,290833204,629173063,346127840,563902868,476244795,389771964,368646862,297328960,624515457,356709897,338564981,366214458,465959382,624101957,433356509,293186992,317622165,429829812,298063749,607123776,635412045,357580552,362361576,373199958,387570742,344055883,323437194,374706940,319546754,374191487,294352144,600976848,618990393,357925728,540539717,354065229,295998468,366599607,1252563873,1056760045,777765388,741301563,991336132,2280566092,1023187129,2086124197,1122364376,1024858327,690104769,1180094974,2864791672,1200808494,1062956628,726837877,1759567999,2236667932,1858144199,1606986953,951637566,850608354,726434358,1608164312,988515741,920045682,972164968,3562543890,1661187319,1022258230,2420461338,1131090940,1374581173,1593270737,1406111294,882831184,1608045237,2135158446,885093467,1214083358,2887241814,2009094673,2557975762,1813673666,1457139296,1230855859,1304313953,2355719893,972509632,725980112,2808096550,720434240,65719930,53987404,50746620,91781263,136996305,53729194,71423324,53603447,85559365,101780047,115331792,67070410,95623148,32526947,83021468,131746175,52722996,81419389,135444283,89566512,124988687,54682594,97610446,108809090,62019074,57144458,56870689,132171975,116903579,63803529,37307967,119238316,107642809,70069745,96007391,135611421,103762518,139193812,137123880,31873544,117206995,30343206,91221625,123132751,36912123,134255790,39228929,65496046,39578178,95131998,78300654,52135248,58149378,133716286,58255150,57876440,76767396,22581161,60680939,75476209,112436403,135723538,106933107,73513683,54937991,106919680,57089066,127309180,68895644,109091573,58890931,64714573,24975653,138334433,47093942,140430339,136689549,43522589,90025258,71573339,104992946,61105704,46065667,70106975,116334601,51985779,127026613,11956641,55842345,93438910,113509496,92035115,39058561,57945987,2762,52294266,115010040,121189256,105062254,133895612,37126685,85924992,76831876,78489819,90598517,50847624,94186466,11599388,90839753,107753850,116144341,136676504,86773632,54225632,133753727,120847157,140187018,123122413,277132266,212351890,171788484,261116938,242767149,191448892,195628667,176474912,225259194,199386237,254218729,189236868,199587884,155795783,150500965,193443895,267758538,245095641,156898322,173702135,229497852,185550869,190981339,231657891,213505179,240661097,156338624,231996128,154356956,212234990,184706613,272377463,177503916,253650850,181382590,244741137,200660871,198883004,263779030,154119539,187703102,236060709,247737946,273914335,229473310,185236961,179061440,210038833,160035717,183273246,246376690,225093344,247689123,244928911,181831132,222410722,203436468,265882712,263280370,185392587,265548837,157058870,264717480,168448603,284785823,232896922,255932395,175399345,176553476,195576623,278920007,153372011,172825906,284819874,201660859,209768491,164163229,154863153,284216603,180577478,258316038,271666301,212109195,184308753,154797871,261414174,213438580,153240879,198365537,208166039,209106362,184622518,287278853,198275403,158950978,244585109,284249832,161460990,147290338,162887075,221409663,144565150,266624541,188933502,250305248,200647221,223633238,211050784,183706234,141381703,177129919,190625045,286739476,240918092,178512385,273005485,237351106,184937148,219196651,195516622,240684449,187772591,187701588,146223492,207033255,146409671,276259178,286400165,177740666,159240673,176290831,279717388,223582566,223319934,466214729,305650299,313113297,461558540,412795151,330881149,339473453,500340342,498960285,445590495,429504768,448500832,516784627,496311364,363467642,485285717,301242089,467727006,372476382,332506354,501541661,665765558,582863434,403939487,380319238,351636786,309653982,343197054,328207708,317726339,421135627,326792833,345903614,370068639,334733572,546191065,387080183,290228626,394030335,348647203,527033089,338422004,506778838,311482393,583687007,417230415,335074782,319566866,502574952,571386359,391251368,554875730,382199619,488386797,510876816,408843328,595900742,513643924,445763624,299648208,293466523,301051721,350381515,599770206,449701773,457184829,466231982,403097450,405136812,646886885,303216294,621660989,482175240,657723613,404887295,570515054,448843705,421365166,397582059,330346424,399686758,430977451,403231558,671365962,415932686,381161027,331511413,540654286,303236322,355219175,672656250,299634472,307752576,539595276,349746291,578207856,295307001,651732901,560222750,295152154,593917618,656013912,479655659,606361689,673801126,288101651,497225336,383835984,322336177,309483971,655466831,307370144,609293408,380726517,652704649,611994237,367316268,354495408,532336353,436027885,618885532,462791599,611700552,477033549,585695368,335222234,553634067,594482982,528544703,421040617,530511203,311395144,327498031,556585270,401036314,610045621,471819764,427486004,333146475,432719968,838586769,677389855,1042568408,1329090101,2303033973,723043854,694525298,920797189,1449779435,1138474110,704171068,851070493,797402345,1714490998,1062345656,924193303,1553497987,1439191367,807015863,1929770265,824420218,789753877,1127468248,1947371785,1692897992,1472799873,1143647827,1887039593,698086140,1202722675,703301727,1271293243,872137015,743693613,1168642797,1690192927,1284942608,685071800,822239726,1641426668,2559529074,863625566,939844851,1145727611,1806617704,1089402494,2132335812,1479115056,841749534,1309887447,684675814,950906471,1116995633,2594040133,685032533,1217120710,1205951614,1788326445,929964809,1424589568,1260594497,1267333350,1302184087,682475162,909001996,1047480053,782369383,1970673297,1791000570,1264310836,786181836,1163620694,1755214421,2011464183,838079900,983637508,1355959075,999748277,1647990401,1241559043,2282771485,1592909789,3703895074,1085685420,1163093654,800840817,1297026226,1316855716,674772936,1210599487,843309044,675039469,1695712020,1065580332,720825549,1814349763,1575467011,2591224264,2484812918,686734357,1221813483,1802514301,1897517891,1061966512,705469769,759208783,1763363713,1235005533,2204080728,716591492,1435127549,1093605526,809306935,2665343922,1279434863,674072710,1440757818,721975598,1356565093,899183384,2565529693,1115880852,933815613,775542072,1605224506,1953533826,1047101291,843957510],\"type\":\"box\",\"xaxis\":\"x6\",\"yaxis\":\"y6\"},{\"marker\":{\"color\":\"lightseagreen\"},\"name\":\"Alto\",\"y\":[114546317,124407432,37778188,49262961,101114984,53933526,117747907,134294498,139681964,78139948,94005786,39666245,39709092,86176890,211372494,145458418,267789608,217672943,146789379,149778242,263894529,191873381,582981380,499710590,520034544,411747614,319757142,473248298,291709698,323455692,395591396,349585590,393230256,769213520,807561936,783706581,1256880657,2123309722,1301799902,822633917,681583126,812019557,806397070,1410088830,751134527,79095270,93367537,39893489,77337771,121913181,34450974,56533272,71014967,67540165,68616963,130655803,88791109,47956378,118810253,43857627,96273746,14780425,38411956,118482347,95217315,127408954,140003974,106249219,64787943,77377503,58687425,135079152,84697729,34502215,46142772,96180277,91656026,110649992,58473276,130419412,95816024,77233241,138517666,76910644,66902503,54266102,61245289,107255472,103787664,88103848,118381354,120972253,86444842,115364561,123473120,57312735,32761689,1365184,246127838,283359161,168684524,157990698,258714692,246390068,185408548,238350348,195918494,255120451,223064273,189476119,148461629,221752937,240769997,156214700,144584800,279737940,239411309,148469433,190490915,244790012,153454328,170709584,175097833,235549288,143573775,173627354,165484133,236872197,248511839,197643795,141720999,170413877,194902696,226897599,252871192,152850295,222612678,200972675,263453310,233801632,248088961,156338624,174006928,170732845,191333656,142095275,236940480,312622938,481697415,354614964,302006641,376333030,342779426,428685680,588955257,404664135,339659802,608334048,305771063,367814306,480507035,551305895,363472647,404562836,342897938,345031710,459276435,601863821,482257456,363369738,496795686,426204830,300983101,566954746,461437791,614555082,304079786,596152090,573633020,608228647,304118600,538115192,505671438,518745108,383550148,579395142,489945871,436695353,422691058,463564958,323358833,460492795,834129063,865640097,797196073,1007612429,888046992,2288695111,1735441776,723894473,1367810478,1159176109,826623384,2197010679,1361425037,1624165576,1449799467,1456081449,1555511105,1481349984,1840364617,1113838873,1591223784,726307468,1829992958,1167330737,2322580122,887906111,1687664027,2513188493,1699402402,918915401,1180896317,956865266,756907987,1479264469,2159346687,1357608774,1133865788,1230675890,1109433169,1223481149,1445941661,2713922350,863756573,1223481149],\"type\":\"box\",\"xaxis\":\"x6\",\"yaxis\":\"y6\"},{\"marker\":{\"color\":\"cornflowerblue\"},\"name\":\"Baixo\",\"y\":[122763672,53909146,114546317,124407432,137070925,68216992,126191104,41210087,42485571,127027715,91473363,49262961,51641685,110849052,65362788,98709329,88092256,121871870,41924466,53933526,31959571,74601456,126443991,117747907,134294498,125917280,139681964,95053634,77309611,29562220,127567540,30546883,139836056,78139948,123216717,71095708,94005786,110073250,60350538,89933133,71007139,39709092,111947664,58054811,64533040,81102253,109276132,245350949,211372494,178660459,273194684,233671263,282883169,244658767,227918678,156658366,167076418,287201015,202452860,163284000,187339835,186104310,147538971,182978249,164856284,283332261,244891912,146363130,202677468,145458418,184807630,165584767,166570053,267789608,203221468,179659294,156777415,284908316,185240616,157136970,256483385,261286503,146789379,149778242,143139338,240580042,236857112,191873381,231332117,663832097,395591396,446390129,290833204,520034544,629173063,346127840,476244795,389771964,368646862,297328960,338564981,366214458,465959382,624101957,433356509,293186992,317622165,411747614,319757142,429829812,607123776,635412045,357580552,373199958,387570742,473248298,323437194,291709698,374706940,319546754,600976848,395591396,540539717,354065229,349585590,295998468,393230256,366599607,1056760045,777765388,741301563,769213520,991336132,2280566092,1023187129,2086124197,1122364376,1024858327,807561936,783706581,690104769,1180094974,2864791672,1200808494,1062956628,726837877,1759567999,2236667932,1858144199,1606986953,951637566,1256880657,726434358,1608164312,988515741,1301799902,920045682,972164968,3562543890,1661187319,822633917,2420461338,1131090940,1374581173,1593270737,1406111294,681583126,882831184,1608045237,812019557,806397070,2135158446,885093467,1410088830,751134527,1214083358,2887241814,2009094673,2557975762,1813673666,1457139296,1230855859,2355719893,972509632,725980112,2808096550,720434240,79095270,65719930,39893489,77337771,53987404,91781263,53729194,53603447,121913181,115331792,67070410,95623148,34450974,32526947,56533272,83021468,52722996,89566512,54682594,71014967,97610446,108809090,67540165,56870689,68616963,132171975,116903579,63803529,119238316,130655803,107642809,70069745,96007391,135611421,103762518,139193812,88791109,137123880,31873544,47956378,30343206,91221625,123132751,36912123,134255790,39228929,43857627,39578178,95131998,78300654,96273746,14780425,52135248,38411956,58149378,118482347,133716286,58255150,57876440,22581161,95217315,127408954,140003974,60680939,75476209,135723538,106933107,73513683,106919680,77377503,57089066,135079152,84697729,58890931,64714573,138334433,34502215,46142772,96180277,110649992,47093942,140430339,136689549,130419412,95816024,90025258,61105704,77233241,138517666,46065667,70106975,116334601,51985779,127026613,76910644,55842345,92035115,39058561,2762,66902503,52294266,54266102,61245289,121189256,105062254,133895612,103787664,78489819,90598517,88103848,50847624,120972253,94186466,86444842,11599388,90839753,107753850,123473120,136676504,86773632,57312735,32761689,54225632,1365184,140187018,123122413,283359161,168684524,171788484,261116938,157990698,242767149,195628667,176474912,258714692,189236868,199587884,155795783,150500965,193443895,246390068,185408548,238350348,185550869,231657891,195918494,213505179,240661097,156338624,255120451,154356956,184706613,272377463,181382590,244741137,200660871,198883004,263779030,221752937,240769997,154119539,187703102,247737946,156214700,144584800,279737940,179061440,210038833,239411309,160035717,148469433,246376690,244790012,225093344,153454328,175097833,247689123,244928911,181831132,222410722,203436468,235549288,265882712,263280370,157058870,264717480,168448603,284785823,143573775,232896922,173627354,255932395,175399345,176553476,195576623,278920007,153372011,172825906,284819874,165484133,201660859,209768491,164163229,248511839,197643795,141720999,284216603,180577478,226897599,258316038,212109195,154797871,261414174,213438580,153240879,198365537,208166039,209106362,152850295,222612678,200972675,198275403,158950978,244585109,263453310,284249832,161460990,147290338,221409663,188933502,250305248,200647221,156338624,223633238,211050784,141381703,177129919,190625045,286739476,240918092,170732845,273005485,187772591,207033255,142095275,146409671,286400165,177740666,159240673,236940480,279717388,223582566,466214729,305650299,313113297,312622938,481697415,354614964,412795151,498960285,445590495,429504768,496311364,363467642,485285717,372476382,332506354,501541661,588955257,582863434,403939487,380319238,351636786,309653982,343197054,328207708,317726339,421135627,404664135,339659802,326792833,345903614,370068639,334733572,546191065,608334048,387080183,290228626,348647203,338422004,311482393,583687007,417230415,319566866,502574952,571386359,391251368,554875730,382199619,305771063,488386797,367814306,510876816,408843328,445763624,299648208,293466523,301051721,350381515,599770206,449701773,457184829,466231982,403097450,405136812,646886885,303216294,480507035,551305895,621660989,482175240,657723613,404887295,570515054,448843705,404562836,330346424,430977451,342897938,403231558,671365962,415932686,345031710,540654286,601863821,303236322,363369738,496795686,355219175,672656250,426204830,300983101,539595276,566954746,461437791,349746291,578207856,295307001,614555082,651732901,295152154,656013912,497225336,304079786,309483971,655466831,307370144,609293408,380726517,596152090,652704649,611994237,608228647,367316268,354495408,532336353,436027885,462791599,611700552,477033549,585695368,505671438,518745108,383550148,579395142,421040617,530511203,436695353,327498031,422691058,463564958,610045621,323358833,471819764,427486004,460492795,432719968,838586769,677389855,865640097,1042568408,1329090101,797196073,2303033973,1007612429,723043854,694525298,888046992,723894473,1449779435,1138474110,704171068,1367810478,851070493,1714490998,1159176109,924193303,1553497987,1439191367,807015863,826623384,2197010679,824420218,789753877,1127468248,1947371785,1692897992,1361425037,1472799873,1143647827,1624165576,698086140,1449799467,703301727,1271293243,1456081449,1555511105,872137015,743693613,1168642797,1481349984,1690192927,1284942608,685071800,1641426668,2559529074,1840364617,939844851,1591223784,1145727611,1806617704,1089402494,2132335812,1479115056,841749534,1309887447,726307468,950906471,1116995633,2594040133,685032533,1167330737,1217120710,1205951614,1788326445,929964809,1424589568,1267333350,1302184087,682475162,909001996,1047480053,782369383,1970673297,2322580122,786181836,1163620694,1755214421,1687664027,2011464183,838079900,983637508,1355959075,999748277,1647990401,2282771485,1592909789,3703895074,1085685420,1163093654,1297026226,1316855716,2513188493,1699402402,674772936,675039469,1065580332,1814349763,1575467011,2591224264,2484812918,686734357,756907987,1479264469,1221813483,1802514301,1897517891,2159346687,1061966512,705469769,1357608774,759208783,1763363713,1235005533,2204080728,716591492,1093605526,809306935,2665343922,1133865788,1230675890,1440757818,721975598,1356565093,899183384,1109433169,1115880852,933815613,2713922350,775542072,1605224506,1953533826,1047101291,843957510],\"type\":\"box\",\"xaxis\":\"x7\",\"yaxis\":\"y7\"},{\"marker\":{\"color\":\"lightseagreen\"},\"name\":\"Alto\",\"y\":[61739839,37091576,37778188,73981293,101114984,123124076,16011326,33381454,81350745,94616487,80758350,121077868,39666245,116599790,100409613,93587665,86176890,129314708,65156199,203680270,184826429,181328253,218320587,191945597,217672943,206399629,263894529,160845341,155653938,176103902,245400167,582981380,499710590,563902868,624515457,356709897,298063749,362361576,344055883,323455692,374191487,294352144,618990393,357925728,1252563873,850608354,2123309722,1022258230,1304313953,93367537,50746620,136996305,71423324,85559365,101780047,131746175,81419389,135444283,124988687,62019074,57144458,37307967,117206995,118810253,65496046,76767396,106249219,112436403,64787943,54937991,127309180,58687425,68895644,109091573,24975653,91656026,58473276,43522589,71573339,104992946,11956641,93438910,113509496,57945987,115010040,37126685,107255472,85924992,76831876,118381354,115364561,116144341,133753727,120847157,277132266,246127838,212351890,191448892,225259194,199386237,254218729,267758538,245095641,156898322,173702135,229497852,190981339,231996128,212234990,223064273,177503916,253650850,189476119,148461629,236060709,273914335,229473310,185236961,190490915,183273246,170709584,185392587,265548837,236872197,154863153,170413877,194902696,271666301,184308753,252871192,184622518,287278853,233801632,162887075,144565150,266624541,248088961,183706234,178512385,174006928,191333656,237351106,184937148,219196651,195516622,240684449,187701588,146223492,276259178,176290831,223319934,461558540,330881149,302006641,339473453,500340342,448500832,516784627,376333030,301242089,342779426,467727006,428685680,665765558,394030335,527033089,506778838,335074782,595900742,513643924,363472647,421365166,397582059,399686758,381161027,331511413,459276435,482257456,299634472,307752576,560222750,593917618,479655659,606361689,673801126,288101651,383835984,322336177,573633020,618885532,304118600,538115192,335222234,553634067,489945871,594482982,528544703,311395144,556585270,401036314,333146475,834129063,2288695111,1735441776,920797189,797402345,1062345656,1929770265,1887039593,1202722675,822239726,863625566,1113838873,684675814,1829992958,1260594497,887906111,1791000570,1264310836,1241559043,800840817,1210599487,843309044,918915401,1695712020,1180896317,720825549,956865266,1435127549,1279434863,674072710,2565529693,1223481149,1445941661,863756573,1223481149],\"type\":\"box\",\"xaxis\":\"x7\",\"yaxis\":\"y7\"}],                        {\"template\":{\"data\":{\"histogram2dcontour\":[{\"type\":\"histogram2dcontour\",\"colorbar\":{\"outlinewidth\":0,\"ticks\":\"\"},\"colorscale\":[[0.0,\"#0d0887\"],[0.1111111111111111,\"#46039f\"],[0.2222222222222222,\"#7201a8\"],[0.3333333333333333,\"#9c179e\"],[0.4444444444444444,\"#bd3786\"],[0.5555555555555556,\"#d8576b\"],[0.6666666666666666,\"#ed7953\"],[0.7777777777777778,\"#fb9f3a\"],[0.8888888888888888,\"#fdca26\"],[1.0,\"#f0f921\"]]}],\"choropleth\":[{\"type\":\"choropleth\",\"colorbar\":{\"outlinewidth\":0,\"ticks\":\"\"}}],\"histogram2d\":[{\"type\":\"histogram2d\",\"colorbar\":{\"outlinewidth\":0,\"ticks\":\"\"},\"colorscale\":[[0.0,\"#0d0887\"],[0.1111111111111111,\"#46039f\"],[0.2222222222222222,\"#7201a8\"],[0.3333333333333333,\"#9c179e\"],[0.4444444444444444,\"#bd3786\"],[0.5555555555555556,\"#d8576b\"],[0.6666666666666666,\"#ed7953\"],[0.7777777777777778,\"#fb9f3a\"],[0.8888888888888888,\"#fdca26\"],[1.0,\"#f0f921\"]]}],\"heatmap\":[{\"type\":\"heatmap\",\"colorbar\":{\"outlinewidth\":0,\"ticks\":\"\"},\"colorscale\":[[0.0,\"#0d0887\"],[0.1111111111111111,\"#46039f\"],[0.2222222222222222,\"#7201a8\"],[0.3333333333333333,\"#9c179e\"],[0.4444444444444444,\"#bd3786\"],[0.5555555555555556,\"#d8576b\"],[0.6666666666666666,\"#ed7953\"],[0.7777777777777778,\"#fb9f3a\"],[0.8888888888888888,\"#fdca26\"],[1.0,\"#f0f921\"]]}],\"heatmapgl\":[{\"type\":\"heatmapgl\",\"colorbar\":{\"outlinewidth\":0,\"ticks\":\"\"},\"colorscale\":[[0.0,\"#0d0887\"],[0.1111111111111111,\"#46039f\"],[0.2222222222222222,\"#7201a8\"],[0.3333333333333333,\"#9c179e\"],[0.4444444444444444,\"#bd3786\"],[0.5555555555555556,\"#d8576b\"],[0.6666666666666666,\"#ed7953\"],[0.7777777777777778,\"#fb9f3a\"],[0.8888888888888888,\"#fdca26\"],[1.0,\"#f0f921\"]]}],\"contourcarpet\":[{\"type\":\"contourcarpet\",\"colorbar\":{\"outlinewidth\":0,\"ticks\":\"\"}}],\"contour\":[{\"type\":\"contour\",\"colorbar\":{\"outlinewidth\":0,\"ticks\":\"\"},\"colorscale\":[[0.0,\"#0d0887\"],[0.1111111111111111,\"#46039f\"],[0.2222222222222222,\"#7201a8\"],[0.3333333333333333,\"#9c179e\"],[0.4444444444444444,\"#bd3786\"],[0.5555555555555556,\"#d8576b\"],[0.6666666666666666,\"#ed7953\"],[0.7777777777777778,\"#fb9f3a\"],[0.8888888888888888,\"#fdca26\"],[1.0,\"#f0f921\"]]}],\"surface\":[{\"type\":\"surface\",\"colorbar\":{\"outlinewidth\":0,\"ticks\":\"\"},\"colorscale\":[[0.0,\"#0d0887\"],[0.1111111111111111,\"#46039f\"],[0.2222222222222222,\"#7201a8\"],[0.3333333333333333,\"#9c179e\"],[0.4444444444444444,\"#bd3786\"],[0.5555555555555556,\"#d8576b\"],[0.6666666666666666,\"#ed7953\"],[0.7777777777777778,\"#fb9f3a\"],[0.8888888888888888,\"#fdca26\"],[1.0,\"#f0f921\"]]}],\"mesh3d\":[{\"type\":\"mesh3d\",\"colorbar\":{\"outlinewidth\":0,\"ticks\":\"\"}}],\"scatter\":[{\"fillpattern\":{\"fillmode\":\"overlay\",\"size\":10,\"solidity\":0.2},\"type\":\"scatter\"}],\"parcoords\":[{\"type\":\"parcoords\",\"line\":{\"colorbar\":{\"outlinewidth\":0,\"ticks\":\"\"}}}],\"scatterpolargl\":[{\"type\":\"scatterpolargl\",\"marker\":{\"colorbar\":{\"outlinewidth\":0,\"ticks\":\"\"}}}],\"bar\":[{\"error_x\":{\"color\":\"#2a3f5f\"},\"error_y\":{\"color\":\"#2a3f5f\"},\"marker\":{\"line\":{\"color\":\"#E5ECF6\",\"width\":0.5},\"pattern\":{\"fillmode\":\"overlay\",\"size\":10,\"solidity\":0.2}},\"type\":\"bar\"}],\"scattergeo\":[{\"type\":\"scattergeo\",\"marker\":{\"colorbar\":{\"outlinewidth\":0,\"ticks\":\"\"}}}],\"scatterpolar\":[{\"type\":\"scatterpolar\",\"marker\":{\"colorbar\":{\"outlinewidth\":0,\"ticks\":\"\"}}}],\"histogram\":[{\"marker\":{\"pattern\":{\"fillmode\":\"overlay\",\"size\":10,\"solidity\":0.2}},\"type\":\"histogram\"}],\"scattergl\":[{\"type\":\"scattergl\",\"marker\":{\"colorbar\":{\"outlinewidth\":0,\"ticks\":\"\"}}}],\"scatter3d\":[{\"type\":\"scatter3d\",\"line\":{\"colorbar\":{\"outlinewidth\":0,\"ticks\":\"\"}},\"marker\":{\"colorbar\":{\"outlinewidth\":0,\"ticks\":\"\"}}}],\"scattermapbox\":[{\"type\":\"scattermapbox\",\"marker\":{\"colorbar\":{\"outlinewidth\":0,\"ticks\":\"\"}}}],\"scatterternary\":[{\"type\":\"scatterternary\",\"marker\":{\"colorbar\":{\"outlinewidth\":0,\"ticks\":\"\"}}}],\"scattercarpet\":[{\"type\":\"scattercarpet\",\"marker\":{\"colorbar\":{\"outlinewidth\":0,\"ticks\":\"\"}}}],\"carpet\":[{\"aaxis\":{\"endlinecolor\":\"#2a3f5f\",\"gridcolor\":\"white\",\"linecolor\":\"white\",\"minorgridcolor\":\"white\",\"startlinecolor\":\"#2a3f5f\"},\"baxis\":{\"endlinecolor\":\"#2a3f5f\",\"gridcolor\":\"white\",\"linecolor\":\"white\",\"minorgridcolor\":\"white\",\"startlinecolor\":\"#2a3f5f\"},\"type\":\"carpet\"}],\"table\":[{\"cells\":{\"fill\":{\"color\":\"#EBF0F8\"},\"line\":{\"color\":\"white\"}},\"header\":{\"fill\":{\"color\":\"#C8D4E3\"},\"line\":{\"color\":\"white\"}},\"type\":\"table\"}],\"barpolar\":[{\"marker\":{\"line\":{\"color\":\"#E5ECF6\",\"width\":0.5},\"pattern\":{\"fillmode\":\"overlay\",\"size\":10,\"solidity\":0.2}},\"type\":\"barpolar\"}],\"pie\":[{\"automargin\":true,\"type\":\"pie\"}]},\"layout\":{\"autotypenumbers\":\"strict\",\"colorway\":[\"#636efa\",\"#EF553B\",\"#00cc96\",\"#ab63fa\",\"#FFA15A\",\"#19d3f3\",\"#FF6692\",\"#B6E880\",\"#FF97FF\",\"#FECB52\"],\"font\":{\"color\":\"#2a3f5f\"},\"hovermode\":\"closest\",\"hoverlabel\":{\"align\":\"left\"},\"paper_bgcolor\":\"white\",\"plot_bgcolor\":\"#E5ECF6\",\"polar\":{\"bgcolor\":\"#E5ECF6\",\"angularaxis\":{\"gridcolor\":\"white\",\"linecolor\":\"white\",\"ticks\":\"\"},\"radialaxis\":{\"gridcolor\":\"white\",\"linecolor\":\"white\",\"ticks\":\"\"}},\"ternary\":{\"bgcolor\":\"#E5ECF6\",\"aaxis\":{\"gridcolor\":\"white\",\"linecolor\":\"white\",\"ticks\":\"\"},\"baxis\":{\"gridcolor\":\"white\",\"linecolor\":\"white\",\"ticks\":\"\"},\"caxis\":{\"gridcolor\":\"white\",\"linecolor\":\"white\",\"ticks\":\"\"}},\"coloraxis\":{\"colorbar\":{\"outlinewidth\":0,\"ticks\":\"\"}},\"colorscale\":{\"sequential\":[[0.0,\"#0d0887\"],[0.1111111111111111,\"#46039f\"],[0.2222222222222222,\"#7201a8\"],[0.3333333333333333,\"#9c179e\"],[0.4444444444444444,\"#bd3786\"],[0.5555555555555556,\"#d8576b\"],[0.6666666666666666,\"#ed7953\"],[0.7777777777777778,\"#fb9f3a\"],[0.8888888888888888,\"#fdca26\"],[1.0,\"#f0f921\"]],\"sequentialminus\":[[0.0,\"#0d0887\"],[0.1111111111111111,\"#46039f\"],[0.2222222222222222,\"#7201a8\"],[0.3333333333333333,\"#9c179e\"],[0.4444444444444444,\"#bd3786\"],[0.5555555555555556,\"#d8576b\"],[0.6666666666666666,\"#ed7953\"],[0.7777777777777778,\"#fb9f3a\"],[0.8888888888888888,\"#fdca26\"],[1.0,\"#f0f921\"]],\"diverging\":[[0,\"#8e0152\"],[0.1,\"#c51b7d\"],[0.2,\"#de77ae\"],[0.3,\"#f1b6da\"],[0.4,\"#fde0ef\"],[0.5,\"#f7f7f7\"],[0.6,\"#e6f5d0\"],[0.7,\"#b8e186\"],[0.8,\"#7fbc41\"],[0.9,\"#4d9221\"],[1,\"#276419\"]]},\"xaxis\":{\"gridcolor\":\"white\",\"linecolor\":\"white\",\"ticks\":\"\",\"title\":{\"standoff\":15},\"zerolinecolor\":\"white\",\"automargin\":true,\"zerolinewidth\":2},\"yaxis\":{\"gridcolor\":\"white\",\"linecolor\":\"white\",\"ticks\":\"\",\"title\":{\"standoff\":15},\"zerolinecolor\":\"white\",\"automargin\":true,\"zerolinewidth\":2},\"scene\":{\"xaxis\":{\"backgroundcolor\":\"#E5ECF6\",\"gridcolor\":\"white\",\"linecolor\":\"white\",\"showbackground\":true,\"ticks\":\"\",\"zerolinecolor\":\"white\",\"gridwidth\":2},\"yaxis\":{\"backgroundcolor\":\"#E5ECF6\",\"gridcolor\":\"white\",\"linecolor\":\"white\",\"showbackground\":true,\"ticks\":\"\",\"zerolinecolor\":\"white\",\"gridwidth\":2},\"zaxis\":{\"backgroundcolor\":\"#E5ECF6\",\"gridcolor\":\"white\",\"linecolor\":\"white\",\"showbackground\":true,\"ticks\":\"\",\"zerolinecolor\":\"white\",\"gridwidth\":2}},\"shapedefaults\":{\"line\":{\"color\":\"#2a3f5f\"}},\"annotationdefaults\":{\"arrowcolor\":\"#2a3f5f\",\"arrowhead\":0,\"arrowwidth\":1},\"geo\":{\"bgcolor\":\"white\",\"landcolor\":\"#E5ECF6\",\"subunitcolor\":\"white\",\"showland\":true,\"showlakes\":true,\"lakecolor\":\"white\"},\"title\":{\"x\":0.05},\"mapbox\":{\"style\":\"light\"}}},\"xaxis\":{\"anchor\":\"y\",\"domain\":[0.0,0.1183673469387755]},\"yaxis\":{\"anchor\":\"x\",\"domain\":[0.0,1.0]},\"xaxis2\":{\"anchor\":\"y2\",\"domain\":[0.14693877551020407,0.26530612244897955]},\"yaxis2\":{\"anchor\":\"x2\",\"domain\":[0.0,1.0]},\"xaxis3\":{\"anchor\":\"y3\",\"domain\":[0.29387755102040813,0.4122448979591836]},\"yaxis3\":{\"anchor\":\"x3\",\"domain\":[0.0,1.0]},\"xaxis4\":{\"anchor\":\"y4\",\"domain\":[0.4408163265306122,0.5591836734693877]},\"yaxis4\":{\"anchor\":\"x4\",\"domain\":[0.0,1.0]},\"xaxis5\":{\"anchor\":\"y5\",\"domain\":[0.5877551020408163,0.7061224489795918]},\"yaxis5\":{\"anchor\":\"x5\",\"domain\":[0.0,1.0]},\"xaxis6\":{\"anchor\":\"y6\",\"domain\":[0.7346938775510204,0.8530612244897959]},\"yaxis6\":{\"anchor\":\"x6\",\"domain\":[0.0,1.0]},\"xaxis7\":{\"anchor\":\"y7\",\"domain\":[0.8816326530612244,0.9999999999999999]},\"yaxis7\":{\"anchor\":\"x7\",\"domain\":[0.0,1.0]},\"annotations\":[{\"font\":{\"size\":16},\"showarrow\":false,\"text\":\"Danceability\",\"x\":0.05918367346938775,\"xanchor\":\"center\",\"xref\":\"paper\",\"y\":1.0,\"yanchor\":\"bottom\",\"yref\":\"paper\"},{\"font\":{\"size\":16},\"showarrow\":false,\"text\":\"Valence\",\"x\":0.2061224489795918,\"xanchor\":\"center\",\"xref\":\"paper\",\"y\":1.0,\"yanchor\":\"bottom\",\"yref\":\"paper\"},{\"font\":{\"size\":16},\"showarrow\":false,\"text\":\"Energy\",\"x\":0.3530612244897959,\"xanchor\":\"center\",\"xref\":\"paper\",\"y\":1.0,\"yanchor\":\"bottom\",\"yref\":\"paper\"},{\"font\":{\"size\":16},\"showarrow\":false,\"text\":\"acousticness\",\"x\":0.49999999999999994,\"xanchor\":\"center\",\"xref\":\"paper\",\"y\":1.0,\"yanchor\":\"bottom\",\"yref\":\"paper\"},{\"font\":{\"size\":16},\"showarrow\":false,\"text\":\"instrumentalness\",\"x\":0.6469387755102041,\"xanchor\":\"center\",\"xref\":\"paper\",\"y\":1.0,\"yanchor\":\"bottom\",\"yref\":\"paper\"},{\"font\":{\"size\":16},\"showarrow\":false,\"text\":\"liveness\",\"x\":0.7938775510204081,\"xanchor\":\"center\",\"xref\":\"paper\",\"y\":1.0,\"yanchor\":\"bottom\",\"yref\":\"paper\"},{\"font\":{\"size\":16},\"showarrow\":false,\"text\":\"speechiness\",\"x\":0.9408163265306122,\"xanchor\":\"center\",\"xref\":\"paper\",\"y\":1.0,\"yanchor\":\"bottom\",\"yref\":\"paper\"}]},                        {\"responsive\": true}                    ).then(function(){\n",
              "                            \n",
              "var gd = document.getElementById('848323d3-0463-4381-8517-d64b9e033f40');\n",
              "var x = new MutationObserver(function (mutations, observer) {{\n",
              "        var display = window.getComputedStyle(gd).display;\n",
              "        if (!display || display === 'none') {{\n",
              "            console.log([gd, 'removed!']);\n",
              "            Plotly.purge(gd);\n",
              "            observer.disconnect();\n",
              "        }}\n",
              "}});\n",
              "\n",
              "// Listen for the removal of the full notebook cells\n",
              "var notebookContainer = gd.closest('#notebook-container');\n",
              "if (notebookContainer) {{\n",
              "    x.observe(notebookContainer, {childList: true});\n",
              "}}\n",
              "\n",
              "// Listen for the clearing of the current output cell\n",
              "var outputEl = gd.closest('.output');\n",
              "if (outputEl) {{\n",
              "    x.observe(outputEl, {childList: true});\n",
              "}}\n",
              "\n",
              "                        })                };                            </script>        </div>\n",
              "</body>\n",
              "</html>"
            ]
          },
          "metadata": {}
        }
      ]
    },
    {
      "cell_type": "code",
      "source": [
        "# Calcular a média dos streams para cada classificação de cada característica\n",
        "mean_streams_danceability = joined_table_quartiles.groupby(['danceability_classification'])['streams_int'].mean()\n",
        "mean_streams_valence = joined_table_quartiles.groupby(['speechiness_classification'])['streams_int'].mean()\n",
        "print(mean_streams_danceability)\n",
        "print(mean_streams_valence)"
      ],
      "metadata": {
        "colab": {
          "base_uri": "https://localhost:8080/"
        },
        "id": "BcwJm9N_-iEA",
        "outputId": "42ec5beb-6ac7-4d6e-ed31-fb52a4d0a53a"
      },
      "execution_count": null,
      "outputs": [
        {
          "output_type": "stream",
          "name": "stdout",
          "text": [
            "danceability_classification\n",
            "Alto     4.236500e+08\n",
            "Baixo    5.442785e+08\n",
            "Name: streams_int, dtype: float64\n",
            "speechiness_classification\n",
            "Alto     4.141518e+08\n",
            "Baixo    5.474312e+08\n",
            "Name: streams_int, dtype: float64\n"
          ]
        }
      ]
    }
  ]
}